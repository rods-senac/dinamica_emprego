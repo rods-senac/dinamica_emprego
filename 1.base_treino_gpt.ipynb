{
 "cells": [
  {
   "cell_type": "markdown",
   "metadata": {},
   "source": [
    "## CORRESPONDÊNCIA ENTRE DESCRIÇÃO E HABILIDADES"
   ]
  },
  {
   "cell_type": "code",
   "execution_count": 94,
   "metadata": {},
   "outputs": [],
   "source": [
    "import gc\n",
    "gc.collect()\n",
    "\n",
    "import torch\n",
    "torch.cuda.empty_cache()  # mesmo que não use GPU, garante que o cache está limpo"
   ]
  },
  {
   "cell_type": "code",
   "execution_count": 95,
   "metadata": {},
   "outputs": [],
   "source": [
    "from sentence_transformers import SentenceTransformer, models\n",
    "from transformers import AutoModel, AutoTokenizer\n",
    "import numpy as np\n",
    "import pandas as pd\n",
    "from datetime import date\n",
    "from math import log\n",
    "import pyodbc\n",
    "import warnings\n",
    "import re\n",
    "from unidecode import unidecode\n",
    "warnings.filterwarnings('ignore')\n",
    "from openai import AzureOpenAI\n",
    "from sklearn.metrics.pairwise import cosine_similarity"
   ]
  },
  {
   "cell_type": "code",
   "execution_count": 96,
   "metadata": {},
   "outputs": [],
   "source": [
    "from unidecode import unidecode"
   ]
  },
  {
   "cell_type": "code",
   "execution_count": 129,
   "metadata": {},
   "outputs": [],
   "source": [
    "client = AzureOpenAI(\n",
    "    api_key=\"ec1da5ea6acf4e96b545076ee750762a\",\n",
    "    api_version=\"2024-05-01-preview\",\n",
    "    azure_endpoint=\"https://snc-openai-ia-eu2-prd.openai.azure.com/\",\n",
    ")\n",
    "\n",
    "data_match = date.today().strftime(\"%Y-%m-%d\")\n",
    "diretorio = 'C:/Users/rodrigo.michel/Documents/Dinamica_emprego/Habilidades/vagas_habilidades/'\n",
    "\n",
    "server = 'SRVVPRDGPA01.senac.br'\n",
    "database = 'DBMercadoTrabalho'\n",
    "username = 'SRV_DMT'\n",
    "password = 'lEJA6EiFabpcnR1f2qzLRXnb'\n",
    "driver = '{ODBC Driver 17 for SQL Server}'\n",
    "conn_str = (\n",
    "    f\"DRIVER={driver};\"\n",
    "    f\"SERVER={server};\"\n",
    "    f\"DATABASE={database};\"\n",
    "    f\"UID={username};\"\n",
    "    f\"PWD={password};\"\n",
    ")\n",
    "conn = pyodbc.connect(conn_str)"
   ]
  },
  {
   "cell_type": "markdown",
   "metadata": {},
   "source": [
    "### CARREGANDO A BASE DE VAGAS"
   ]
  },
  {
   "cell_type": "code",
   "execution_count": 5,
   "metadata": {},
   "outputs": [],
   "source": [
    "query = \"SELECT source, identifier, uuid, title, title_standardized, description  FROM job_vacancy.job_vacancy_post where source = 'BNE' ORDER BY NEWID()\""
   ]
  },
  {
   "cell_type": "code",
   "execution_count": 6,
   "metadata": {},
   "outputs": [
    {
     "data": {
      "text/html": [
       "<div>\n",
       "<style scoped>\n",
       "    .dataframe tbody tr th:only-of-type {\n",
       "        vertical-align: middle;\n",
       "    }\n",
       "\n",
       "    .dataframe tbody tr th {\n",
       "        vertical-align: top;\n",
       "    }\n",
       "\n",
       "    .dataframe thead th {\n",
       "        text-align: right;\n",
       "    }\n",
       "</style>\n",
       "<table border=\"1\" class=\"dataframe\">\n",
       "  <thead>\n",
       "    <tr style=\"text-align: right;\">\n",
       "      <th></th>\n",
       "      <th>source</th>\n",
       "      <th>identifier</th>\n",
       "      <th>uuid</th>\n",
       "      <th>title</th>\n",
       "      <th>title_standardized</th>\n",
       "      <th>description</th>\n",
       "    </tr>\n",
       "  </thead>\n",
       "  <tbody>\n",
       "    <tr>\n",
       "      <th>0</th>\n",
       "      <td>BNE</td>\n",
       "      <td>4517464</td>\n",
       "      <td>485618D1-3592-470E-9810-A5036401024C</td>\n",
       "      <td>Cargo/Função: supervisor de vendas</td>\n",
       "      <td>cargo funcao supervisor vendas</td>\n",
       "      <td>None</td>\n",
       "    </tr>\n",
       "    <tr>\n",
       "      <th>1</th>\n",
       "      <td>BNE</td>\n",
       "      <td>4047558</td>\n",
       "      <td>A68BA07D-2515-494E-9B08-C2D509355E92</td>\n",
       "      <td>pedreiro</td>\n",
       "      <td>pedreiro</td>\n",
       "      <td>Descrição Geral\\nEmpresa localizada na cidade ...</td>\n",
       "    </tr>\n",
       "    <tr>\n",
       "      <th>2</th>\n",
       "      <td>BNE</td>\n",
       "      <td>4196822</td>\n",
       "      <td>4A13075A-B84A-4D8D-9ED4-4109D986634D</td>\n",
       "      <td>desenvolvedor</td>\n",
       "      <td>desenvolvedor</td>\n",
       "      <td>Descrição Geral\\nEmpresa localizada na cidade ...</td>\n",
       "    </tr>\n",
       "    <tr>\n",
       "      <th>3</th>\n",
       "      <td>BNE</td>\n",
       "      <td>4152591</td>\n",
       "      <td>3ADD8F96-274C-4AC2-869E-A36CD835F553</td>\n",
       "      <td>estoquista</td>\n",
       "      <td>estoquista</td>\n",
       "      <td>Descrição Geral\\nEmpresa localizada na cidade ...</td>\n",
       "    </tr>\n",
       "    <tr>\n",
       "      <th>4</th>\n",
       "      <td>BNE</td>\n",
       "      <td>4225298</td>\n",
       "      <td>AF23DA13-6E63-4D01-8A77-D1950DBCBEC1</td>\n",
       "      <td>vendedor</td>\n",
       "      <td>vendedor</td>\n",
       "      <td>Descrição Geral\\nEmpresa localizada na cidade ...</td>\n",
       "    </tr>\n",
       "  </tbody>\n",
       "</table>\n",
       "</div>"
      ],
      "text/plain": [
       "  source identifier                                  uuid  \\\n",
       "0    BNE    4517464  485618D1-3592-470E-9810-A5036401024C   \n",
       "1    BNE    4047558  A68BA07D-2515-494E-9B08-C2D509355E92   \n",
       "2    BNE    4196822  4A13075A-B84A-4D8D-9ED4-4109D986634D   \n",
       "3    BNE    4152591  3ADD8F96-274C-4AC2-869E-A36CD835F553   \n",
       "4    BNE    4225298  AF23DA13-6E63-4D01-8A77-D1950DBCBEC1   \n",
       "\n",
       "                                title              title_standardized  \\\n",
       "0  Cargo/Função: supervisor de vendas  cargo funcao supervisor vendas   \n",
       "1                            pedreiro                        pedreiro   \n",
       "2                       desenvolvedor                   desenvolvedor   \n",
       "3                          estoquista                      estoquista   \n",
       "4                            vendedor                        vendedor   \n",
       "\n",
       "                                         description  \n",
       "0                                               None  \n",
       "1  Descrição Geral\\nEmpresa localizada na cidade ...  \n",
       "2  Descrição Geral\\nEmpresa localizada na cidade ...  \n",
       "3  Descrição Geral\\nEmpresa localizada na cidade ...  \n",
       "4  Descrição Geral\\nEmpresa localizada na cidade ...  "
      ]
     },
     "execution_count": 6,
     "metadata": {},
     "output_type": "execute_result"
    }
   ],
   "source": [
    "vagas = pd.read_sql(query, conn)\n",
    "vagas.head()"
   ]
  },
  {
   "cell_type": "code",
   "execution_count": 7,
   "metadata": {},
   "outputs": [
    {
     "data": {
      "text/html": [
       "<div>\n",
       "<style scoped>\n",
       "    .dataframe tbody tr th:only-of-type {\n",
       "        vertical-align: middle;\n",
       "    }\n",
       "\n",
       "    .dataframe tbody tr th {\n",
       "        vertical-align: top;\n",
       "    }\n",
       "\n",
       "    .dataframe thead th {\n",
       "        text-align: right;\n",
       "    }\n",
       "</style>\n",
       "<table border=\"1\" class=\"dataframe\">\n",
       "  <thead>\n",
       "    <tr style=\"text-align: right;\">\n",
       "      <th></th>\n",
       "      <th>source</th>\n",
       "      <th>identifier</th>\n",
       "      <th>uuid</th>\n",
       "      <th>title</th>\n",
       "      <th>title_standardized</th>\n",
       "      <th>description</th>\n",
       "    </tr>\n",
       "  </thead>\n",
       "  <tbody>\n",
       "    <tr>\n",
       "      <th>0</th>\n",
       "      <td>BNE</td>\n",
       "      <td>4517464</td>\n",
       "      <td>485618D1-3592-470E-9810-A5036401024C</td>\n",
       "      <td>Cargo/Função: supervisor de vendas</td>\n",
       "      <td>cargo funcao supervisor vendas</td>\n",
       "      <td>None</td>\n",
       "    </tr>\n",
       "    <tr>\n",
       "      <th>1</th>\n",
       "      <td>BNE</td>\n",
       "      <td>4047558</td>\n",
       "      <td>A68BA07D-2515-494E-9B08-C2D509355E92</td>\n",
       "      <td>pedreiro</td>\n",
       "      <td>pedreiro</td>\n",
       "      <td>Descrição Geral\\nEmpresa localizada na cidade ...</td>\n",
       "    </tr>\n",
       "    <tr>\n",
       "      <th>2</th>\n",
       "      <td>BNE</td>\n",
       "      <td>4196822</td>\n",
       "      <td>4A13075A-B84A-4D8D-9ED4-4109D986634D</td>\n",
       "      <td>desenvolvedor</td>\n",
       "      <td>desenvolvedor</td>\n",
       "      <td>Descrição Geral\\nEmpresa localizada na cidade ...</td>\n",
       "    </tr>\n",
       "    <tr>\n",
       "      <th>3</th>\n",
       "      <td>BNE</td>\n",
       "      <td>4152591</td>\n",
       "      <td>3ADD8F96-274C-4AC2-869E-A36CD835F553</td>\n",
       "      <td>estoquista</td>\n",
       "      <td>estoquista</td>\n",
       "      <td>Descrição Geral\\nEmpresa localizada na cidade ...</td>\n",
       "    </tr>\n",
       "    <tr>\n",
       "      <th>4</th>\n",
       "      <td>BNE</td>\n",
       "      <td>4225298</td>\n",
       "      <td>AF23DA13-6E63-4D01-8A77-D1950DBCBEC1</td>\n",
       "      <td>vendedor</td>\n",
       "      <td>vendedor</td>\n",
       "      <td>Descrição Geral\\nEmpresa localizada na cidade ...</td>\n",
       "    </tr>\n",
       "    <tr>\n",
       "      <th>...</th>\n",
       "      <td>...</td>\n",
       "      <td>...</td>\n",
       "      <td>...</td>\n",
       "      <td>...</td>\n",
       "      <td>...</td>\n",
       "      <td>...</td>\n",
       "    </tr>\n",
       "    <tr>\n",
       "      <th>566060</th>\n",
       "      <td>BNE</td>\n",
       "      <td>4383863</td>\n",
       "      <td>A10EDA8C-BF4A-49DD-87C4-1950BF95A6F4</td>\n",
       "      <td>estilista</td>\n",
       "      <td>estilista</td>\n",
       "      <td>Descrição Geral\\nEmpresa localizada na cidade ...</td>\n",
       "    </tr>\n",
       "    <tr>\n",
       "      <th>566061</th>\n",
       "      <td>BNE</td>\n",
       "      <td>4082387</td>\n",
       "      <td>0935370C-414D-4CC4-BA0F-6AA8088573D9</td>\n",
       "      <td>recepcionista</td>\n",
       "      <td>recepcionista</td>\n",
       "      <td>Descrição Geral\\nEmpresa localizada na cidade ...</td>\n",
       "    </tr>\n",
       "    <tr>\n",
       "      <th>566062</th>\n",
       "      <td>BNE</td>\n",
       "      <td>4120573</td>\n",
       "      <td>D710A67D-DCC6-443F-8841-652E8ACBC342</td>\n",
       "      <td>promotor de vendas</td>\n",
       "      <td>promotor vendas</td>\n",
       "      <td>Descrição Geral\\nEmpresa localizada na cidade ...</td>\n",
       "    </tr>\n",
       "    <tr>\n",
       "      <th>566063</th>\n",
       "      <td>BNE</td>\n",
       "      <td>3961403</td>\n",
       "      <td>461C0F13-CD1F-4C1E-9AF2-E4660DDFAF34</td>\n",
       "      <td>vendedor</td>\n",
       "      <td>vendedor</td>\n",
       "      <td>Descrição Geral\\nEmpresa localizada na cidade ...</td>\n",
       "    </tr>\n",
       "    <tr>\n",
       "      <th>566064</th>\n",
       "      <td>BNE</td>\n",
       "      <td>4571019</td>\n",
       "      <td>6E63C992-DC3D-4F26-8528-E5E543D35F17</td>\n",
       "      <td>Cargo/Função: auxiliar de corte e dobra</td>\n",
       "      <td>cargo funcao auxiliar corte dobra</td>\n",
       "      <td>None</td>\n",
       "    </tr>\n",
       "  </tbody>\n",
       "</table>\n",
       "<p>566065 rows × 6 columns</p>\n",
       "</div>"
      ],
      "text/plain": [
       "       source identifier                                  uuid  \\\n",
       "0         BNE    4517464  485618D1-3592-470E-9810-A5036401024C   \n",
       "1         BNE    4047558  A68BA07D-2515-494E-9B08-C2D509355E92   \n",
       "2         BNE    4196822  4A13075A-B84A-4D8D-9ED4-4109D986634D   \n",
       "3         BNE    4152591  3ADD8F96-274C-4AC2-869E-A36CD835F553   \n",
       "4         BNE    4225298  AF23DA13-6E63-4D01-8A77-D1950DBCBEC1   \n",
       "...       ...        ...                                   ...   \n",
       "566060    BNE    4383863  A10EDA8C-BF4A-49DD-87C4-1950BF95A6F4   \n",
       "566061    BNE    4082387  0935370C-414D-4CC4-BA0F-6AA8088573D9   \n",
       "566062    BNE    4120573  D710A67D-DCC6-443F-8841-652E8ACBC342   \n",
       "566063    BNE    3961403  461C0F13-CD1F-4C1E-9AF2-E4660DDFAF34   \n",
       "566064    BNE    4571019  6E63C992-DC3D-4F26-8528-E5E543D35F17   \n",
       "\n",
       "                                          title  \\\n",
       "0            Cargo/Função: supervisor de vendas   \n",
       "1                                      pedreiro   \n",
       "2                                 desenvolvedor   \n",
       "3                                    estoquista   \n",
       "4                                      vendedor   \n",
       "...                                         ...   \n",
       "566060                                estilista   \n",
       "566061                            recepcionista   \n",
       "566062                       promotor de vendas   \n",
       "566063                                 vendedor   \n",
       "566064  Cargo/Função: auxiliar de corte e dobra   \n",
       "\n",
       "                       title_standardized  \\\n",
       "0          cargo funcao supervisor vendas   \n",
       "1                                pedreiro   \n",
       "2                           desenvolvedor   \n",
       "3                              estoquista   \n",
       "4                                vendedor   \n",
       "...                                   ...   \n",
       "566060                          estilista   \n",
       "566061                      recepcionista   \n",
       "566062                    promotor vendas   \n",
       "566063                           vendedor   \n",
       "566064  cargo funcao auxiliar corte dobra   \n",
       "\n",
       "                                              description  \n",
       "0                                                    None  \n",
       "1       Descrição Geral\\nEmpresa localizada na cidade ...  \n",
       "2       Descrição Geral\\nEmpresa localizada na cidade ...  \n",
       "3       Descrição Geral\\nEmpresa localizada na cidade ...  \n",
       "4       Descrição Geral\\nEmpresa localizada na cidade ...  \n",
       "...                                                   ...  \n",
       "566060  Descrição Geral\\nEmpresa localizada na cidade ...  \n",
       "566061  Descrição Geral\\nEmpresa localizada na cidade ...  \n",
       "566062  Descrição Geral\\nEmpresa localizada na cidade ...  \n",
       "566063  Descrição Geral\\nEmpresa localizada na cidade ...  \n",
       "566064                                               None  \n",
       "\n",
       "[566065 rows x 6 columns]"
      ]
     },
     "execution_count": 7,
     "metadata": {},
     "output_type": "execute_result"
    }
   ],
   "source": [
    "vagas = vagas.drop_duplicates()\n",
    "vagas"
   ]
  },
  {
   "cell_type": "code",
   "execution_count": 8,
   "metadata": {},
   "outputs": [
    {
     "data": {
      "text/plain": [
       "0                                                 None\n",
       "1    Descrição Geral\\nEmpresa localizada na cidade ...\n",
       "2    Descrição Geral\\nEmpresa localizada na cidade ...\n",
       "3    Descrição Geral\\nEmpresa localizada na cidade ...\n",
       "4    Descrição Geral\\nEmpresa localizada na cidade ...\n",
       "5                                                 None\n",
       "6    Descrição Geral\\nEmpresa localizada na cidade ...\n",
       "7                                                 None\n",
       "8    Descrição Geral\\nEmpresa localizada na cidade ...\n",
       "9    Descrição Geral\\nEmpresa localizada na cidade ...\n",
       "Name: description, dtype: object"
      ]
     },
     "execution_count": 8,
     "metadata": {},
     "output_type": "execute_result"
    }
   ],
   "source": [
    "vagas['description'].head(10)"
   ]
  },
  {
   "cell_type": "code",
   "execution_count": 9,
   "metadata": {},
   "outputs": [
    {
     "data": {
      "text/html": [
       "<div>\n",
       "<style scoped>\n",
       "    .dataframe tbody tr th:only-of-type {\n",
       "        vertical-align: middle;\n",
       "    }\n",
       "\n",
       "    .dataframe tbody tr th {\n",
       "        vertical-align: top;\n",
       "    }\n",
       "\n",
       "    .dataframe thead th {\n",
       "        text-align: right;\n",
       "    }\n",
       "</style>\n",
       "<table border=\"1\" class=\"dataframe\">\n",
       "  <thead>\n",
       "    <tr style=\"text-align: right;\">\n",
       "      <th></th>\n",
       "      <th>source</th>\n",
       "      <th>identifier</th>\n",
       "      <th>uuid</th>\n",
       "      <th>title</th>\n",
       "      <th>title_standardized</th>\n",
       "      <th>description</th>\n",
       "    </tr>\n",
       "  </thead>\n",
       "  <tbody>\n",
       "    <tr>\n",
       "      <th>1</th>\n",
       "      <td>BNE</td>\n",
       "      <td>4047558</td>\n",
       "      <td>A68BA07D-2515-494E-9B08-C2D509355E92</td>\n",
       "      <td>pedreiro</td>\n",
       "      <td>pedreiro</td>\n",
       "      <td>Descrição Geral\\nEmpresa localizada na cidade ...</td>\n",
       "    </tr>\n",
       "    <tr>\n",
       "      <th>2</th>\n",
       "      <td>BNE</td>\n",
       "      <td>4196822</td>\n",
       "      <td>4A13075A-B84A-4D8D-9ED4-4109D986634D</td>\n",
       "      <td>desenvolvedor</td>\n",
       "      <td>desenvolvedor</td>\n",
       "      <td>Descrição Geral\\nEmpresa localizada na cidade ...</td>\n",
       "    </tr>\n",
       "    <tr>\n",
       "      <th>3</th>\n",
       "      <td>BNE</td>\n",
       "      <td>4152591</td>\n",
       "      <td>3ADD8F96-274C-4AC2-869E-A36CD835F553</td>\n",
       "      <td>estoquista</td>\n",
       "      <td>estoquista</td>\n",
       "      <td>Descrição Geral\\nEmpresa localizada na cidade ...</td>\n",
       "    </tr>\n",
       "    <tr>\n",
       "      <th>4</th>\n",
       "      <td>BNE</td>\n",
       "      <td>4225298</td>\n",
       "      <td>AF23DA13-6E63-4D01-8A77-D1950DBCBEC1</td>\n",
       "      <td>vendedor</td>\n",
       "      <td>vendedor</td>\n",
       "      <td>Descrição Geral\\nEmpresa localizada na cidade ...</td>\n",
       "    </tr>\n",
       "    <tr>\n",
       "      <th>6</th>\n",
       "      <td>BNE</td>\n",
       "      <td>4307413</td>\n",
       "      <td>C5F8FA3F-F559-4B36-8661-A9EDDB5E8D68</td>\n",
       "      <td>assistente de logística</td>\n",
       "      <td>assistente logistica</td>\n",
       "      <td>Descrição Geral\\nEmpresa localizada na cidade ...</td>\n",
       "    </tr>\n",
       "    <tr>\n",
       "      <th>...</th>\n",
       "      <td>...</td>\n",
       "      <td>...</td>\n",
       "      <td>...</td>\n",
       "      <td>...</td>\n",
       "      <td>...</td>\n",
       "      <td>...</td>\n",
       "    </tr>\n",
       "    <tr>\n",
       "      <th>566059</th>\n",
       "      <td>BNE</td>\n",
       "      <td>3942948</td>\n",
       "      <td>FFA43E9C-3D4A-4D2A-8334-C2FFAF92FF73</td>\n",
       "      <td>consultor de vendas</td>\n",
       "      <td>consultor vendas</td>\n",
       "      <td>Descrição Geral\\nEmpresa localizada na cidade ...</td>\n",
       "    </tr>\n",
       "    <tr>\n",
       "      <th>566060</th>\n",
       "      <td>BNE</td>\n",
       "      <td>4383863</td>\n",
       "      <td>A10EDA8C-BF4A-49DD-87C4-1950BF95A6F4</td>\n",
       "      <td>estilista</td>\n",
       "      <td>estilista</td>\n",
       "      <td>Descrição Geral\\nEmpresa localizada na cidade ...</td>\n",
       "    </tr>\n",
       "    <tr>\n",
       "      <th>566061</th>\n",
       "      <td>BNE</td>\n",
       "      <td>4082387</td>\n",
       "      <td>0935370C-414D-4CC4-BA0F-6AA8088573D9</td>\n",
       "      <td>recepcionista</td>\n",
       "      <td>recepcionista</td>\n",
       "      <td>Descrição Geral\\nEmpresa localizada na cidade ...</td>\n",
       "    </tr>\n",
       "    <tr>\n",
       "      <th>566062</th>\n",
       "      <td>BNE</td>\n",
       "      <td>4120573</td>\n",
       "      <td>D710A67D-DCC6-443F-8841-652E8ACBC342</td>\n",
       "      <td>promotor de vendas</td>\n",
       "      <td>promotor vendas</td>\n",
       "      <td>Descrição Geral\\nEmpresa localizada na cidade ...</td>\n",
       "    </tr>\n",
       "    <tr>\n",
       "      <th>566063</th>\n",
       "      <td>BNE</td>\n",
       "      <td>3961403</td>\n",
       "      <td>461C0F13-CD1F-4C1E-9AF2-E4660DDFAF34</td>\n",
       "      <td>vendedor</td>\n",
       "      <td>vendedor</td>\n",
       "      <td>Descrição Geral\\nEmpresa localizada na cidade ...</td>\n",
       "    </tr>\n",
       "  </tbody>\n",
       "</table>\n",
       "<p>402547 rows × 6 columns</p>\n",
       "</div>"
      ],
      "text/plain": [
       "       source identifier                                  uuid  \\\n",
       "1         BNE    4047558  A68BA07D-2515-494E-9B08-C2D509355E92   \n",
       "2         BNE    4196822  4A13075A-B84A-4D8D-9ED4-4109D986634D   \n",
       "3         BNE    4152591  3ADD8F96-274C-4AC2-869E-A36CD835F553   \n",
       "4         BNE    4225298  AF23DA13-6E63-4D01-8A77-D1950DBCBEC1   \n",
       "6         BNE    4307413  C5F8FA3F-F559-4B36-8661-A9EDDB5E8D68   \n",
       "...       ...        ...                                   ...   \n",
       "566059    BNE    3942948  FFA43E9C-3D4A-4D2A-8334-C2FFAF92FF73   \n",
       "566060    BNE    4383863  A10EDA8C-BF4A-49DD-87C4-1950BF95A6F4   \n",
       "566061    BNE    4082387  0935370C-414D-4CC4-BA0F-6AA8088573D9   \n",
       "566062    BNE    4120573  D710A67D-DCC6-443F-8841-652E8ACBC342   \n",
       "566063    BNE    3961403  461C0F13-CD1F-4C1E-9AF2-E4660DDFAF34   \n",
       "\n",
       "                          title    title_standardized  \\\n",
       "1                      pedreiro              pedreiro   \n",
       "2                 desenvolvedor         desenvolvedor   \n",
       "3                    estoquista            estoquista   \n",
       "4                      vendedor              vendedor   \n",
       "6       assistente de logística  assistente logistica   \n",
       "...                         ...                   ...   \n",
       "566059      consultor de vendas      consultor vendas   \n",
       "566060                estilista             estilista   \n",
       "566061            recepcionista         recepcionista   \n",
       "566062       promotor de vendas       promotor vendas   \n",
       "566063                 vendedor              vendedor   \n",
       "\n",
       "                                              description  \n",
       "1       Descrição Geral\\nEmpresa localizada na cidade ...  \n",
       "2       Descrição Geral\\nEmpresa localizada na cidade ...  \n",
       "3       Descrição Geral\\nEmpresa localizada na cidade ...  \n",
       "4       Descrição Geral\\nEmpresa localizada na cidade ...  \n",
       "6       Descrição Geral\\nEmpresa localizada na cidade ...  \n",
       "...                                                   ...  \n",
       "566059  Descrição Geral\\nEmpresa localizada na cidade ...  \n",
       "566060  Descrição Geral\\nEmpresa localizada na cidade ...  \n",
       "566061  Descrição Geral\\nEmpresa localizada na cidade ...  \n",
       "566062  Descrição Geral\\nEmpresa localizada na cidade ...  \n",
       "566063  Descrição Geral\\nEmpresa localizada na cidade ...  \n",
       "\n",
       "[402547 rows x 6 columns]"
      ]
     },
     "execution_count": 9,
     "metadata": {},
     "output_type": "execute_result"
    }
   ],
   "source": [
    "vagas = vagas.dropna(subset=['description'])\n",
    "vagas"
   ]
  },
  {
   "cell_type": "code",
   "execution_count": 54,
   "metadata": {},
   "outputs": [
    {
     "data": {
      "text/html": [
       "<div>\n",
       "<style scoped>\n",
       "    .dataframe tbody tr th:only-of-type {\n",
       "        vertical-align: middle;\n",
       "    }\n",
       "\n",
       "    .dataframe tbody tr th {\n",
       "        vertical-align: top;\n",
       "    }\n",
       "\n",
       "    .dataframe thead th {\n",
       "        text-align: right;\n",
       "    }\n",
       "</style>\n",
       "<table border=\"1\" class=\"dataframe\">\n",
       "  <thead>\n",
       "    <tr style=\"text-align: right;\">\n",
       "      <th></th>\n",
       "      <th>source</th>\n",
       "      <th>identifier</th>\n",
       "      <th>uuid</th>\n",
       "      <th>title</th>\n",
       "      <th>title_standardized</th>\n",
       "      <th>description</th>\n",
       "      <th>descricao_clean</th>\n",
       "      <th>ramo_atividade</th>\n",
       "    </tr>\n",
       "  </thead>\n",
       "  <tbody>\n",
       "    <tr>\n",
       "      <th>1</th>\n",
       "      <td>BNE</td>\n",
       "      <td>4047558</td>\n",
       "      <td>A68BA07D-2515-494E-9B08-C2D509355E92</td>\n",
       "      <td>pedreiro</td>\n",
       "      <td>pedreiro</td>\n",
       "      <td>Descrição Geral\\nEmpresa localizada na cidade ...</td>\n",
       "      <td>pedreiro.,construções, reformas e reparos. ens...</td>\n",
       "      <td>construcao</td>\n",
       "    </tr>\n",
       "    <tr>\n",
       "      <th>2</th>\n",
       "      <td>BNE</td>\n",
       "      <td>4196822</td>\n",
       "      <td>4A13075A-B84A-4D8D-9ED4-4109D986634D</td>\n",
       "      <td>desenvolvedor</td>\n",
       "      <td>desenvolvedor</td>\n",
       "      <td>Descrição Geral\\nEmpresa localizada na cidade ...</td>\n",
       "      <td>desenvolvedor.,a vaga ecessita experiência com...</td>\n",
       "      <td>informatica</td>\n",
       "    </tr>\n",
       "    <tr>\n",
       "      <th>3</th>\n",
       "      <td>BNE</td>\n",
       "      <td>4152591</td>\n",
       "      <td>3ADD8F96-274C-4AC2-869E-A36CD835F553</td>\n",
       "      <td>estoquista</td>\n",
       "      <td>estoquista</td>\n",
       "      <td>Descrição Geral\\nEmpresa localizada na cidade ...</td>\n",
       "      <td>estoquista.,vaga aberta para estoquista n. sho...</td>\n",
       "      <td>logistica</td>\n",
       "    </tr>\n",
       "    <tr>\n",
       "      <th>4</th>\n",
       "      <td>BNE</td>\n",
       "      <td>4225298</td>\n",
       "      <td>AF23DA13-6E63-4D01-8A77-D1950DBCBEC1</td>\n",
       "      <td>vendedor</td>\n",
       "      <td>vendedor</td>\n",
       "      <td>Descrição Geral\\nEmpresa localizada na cidade ...</td>\n",
       "      <td>vendedor.,atendimento ao público, vendas e pós...</td>\n",
       "      <td>comercio</td>\n",
       "    </tr>\n",
       "    <tr>\n",
       "      <th>6</th>\n",
       "      <td>BNE</td>\n",
       "      <td>4307413</td>\n",
       "      <td>C5F8FA3F-F559-4B36-8661-A9EDDB5E8D68</td>\n",
       "      <td>assistente de logística</td>\n",
       "      <td>assistente logistica</td>\n",
       "      <td>Descrição Geral\\nEmpresa localizada na cidade ...</td>\n",
       "      <td>assistente de logística.,apoio aos motoristas ...</td>\n",
       "      <td>logistica</td>\n",
       "    </tr>\n",
       "    <tr>\n",
       "      <th>...</th>\n",
       "      <td>...</td>\n",
       "      <td>...</td>\n",
       "      <td>...</td>\n",
       "      <td>...</td>\n",
       "      <td>...</td>\n",
       "      <td>...</td>\n",
       "      <td>...</td>\n",
       "      <td>...</td>\n",
       "    </tr>\n",
       "    <tr>\n",
       "      <th>566059</th>\n",
       "      <td>BNE</td>\n",
       "      <td>3942948</td>\n",
       "      <td>FFA43E9C-3D4A-4D2A-8334-C2FFAF92FF73</td>\n",
       "      <td>consultor de vendas</td>\n",
       "      <td>consultor vendas</td>\n",
       "      <td>Descrição Geral\\nEmpresa localizada na cidade ...</td>\n",
       "      <td>consultor de vendas., proatividade. boa comuni...</td>\n",
       "      <td>comercio</td>\n",
       "    </tr>\n",
       "    <tr>\n",
       "      <th>566060</th>\n",
       "      <td>BNE</td>\n",
       "      <td>4383863</td>\n",
       "      <td>A10EDA8C-BF4A-49DD-87C4-1950BF95A6F4</td>\n",
       "      <td>estilista</td>\n",
       "      <td>estilista</td>\n",
       "      <td>Descrição Geral\\nEmpresa localizada na cidade ...</td>\n",
       "      <td>estilista.,estamos contratando estilista para ...</td>\n",
       "      <td>marketing</td>\n",
       "    </tr>\n",
       "    <tr>\n",
       "      <th>566061</th>\n",
       "      <td>BNE</td>\n",
       "      <td>4082387</td>\n",
       "      <td>0935370C-414D-4CC4-BA0F-6AA8088573D9</td>\n",
       "      <td>recepcionista</td>\n",
       "      <td>recepcionista</td>\n",
       "      <td>Descrição Geral\\nEmpresa localizada na cidade ...</td>\n",
       "      <td>recepcionista.,como recepcionista você deverá ...</td>\n",
       "      <td>administrativo</td>\n",
       "    </tr>\n",
       "    <tr>\n",
       "      <th>566062</th>\n",
       "      <td>BNE</td>\n",
       "      <td>4120573</td>\n",
       "      <td>D710A67D-DCC6-443F-8841-652E8ACBC342</td>\n",
       "      <td>promotor de vendas</td>\n",
       "      <td>promotor vendas</td>\n",
       "      <td>Descrição Geral\\nEmpresa localizada na cidade ...</td>\n",
       "      <td>promotor de vendas.,oportunidade imperdível: p...</td>\n",
       "      <td>comercio</td>\n",
       "    </tr>\n",
       "    <tr>\n",
       "      <th>566063</th>\n",
       "      <td>BNE</td>\n",
       "      <td>3961403</td>\n",
       "      <td>461C0F13-CD1F-4C1E-9AF2-E4660DDFAF34</td>\n",
       "      <td>vendedor</td>\n",
       "      <td>vendedor</td>\n",
       "      <td>Descrição Geral\\nEmpresa localizada na cidade ...</td>\n",
       "      <td>vendedor.,irá realizar vendas de acessórios bi...</td>\n",
       "      <td>comercio</td>\n",
       "    </tr>\n",
       "  </tbody>\n",
       "</table>\n",
       "<p>402547 rows × 8 columns</p>\n",
       "</div>"
      ],
      "text/plain": [
       "       source identifier                                  uuid  \\\n",
       "1         BNE    4047558  A68BA07D-2515-494E-9B08-C2D509355E92   \n",
       "2         BNE    4196822  4A13075A-B84A-4D8D-9ED4-4109D986634D   \n",
       "3         BNE    4152591  3ADD8F96-274C-4AC2-869E-A36CD835F553   \n",
       "4         BNE    4225298  AF23DA13-6E63-4D01-8A77-D1950DBCBEC1   \n",
       "6         BNE    4307413  C5F8FA3F-F559-4B36-8661-A9EDDB5E8D68   \n",
       "...       ...        ...                                   ...   \n",
       "566059    BNE    3942948  FFA43E9C-3D4A-4D2A-8334-C2FFAF92FF73   \n",
       "566060    BNE    4383863  A10EDA8C-BF4A-49DD-87C4-1950BF95A6F4   \n",
       "566061    BNE    4082387  0935370C-414D-4CC4-BA0F-6AA8088573D9   \n",
       "566062    BNE    4120573  D710A67D-DCC6-443F-8841-652E8ACBC342   \n",
       "566063    BNE    3961403  461C0F13-CD1F-4C1E-9AF2-E4660DDFAF34   \n",
       "\n",
       "                          title    title_standardized  \\\n",
       "1                      pedreiro              pedreiro   \n",
       "2                 desenvolvedor         desenvolvedor   \n",
       "3                    estoquista            estoquista   \n",
       "4                      vendedor              vendedor   \n",
       "6       assistente de logística  assistente logistica   \n",
       "...                         ...                   ...   \n",
       "566059      consultor de vendas      consultor vendas   \n",
       "566060                estilista             estilista   \n",
       "566061            recepcionista         recepcionista   \n",
       "566062       promotor de vendas       promotor vendas   \n",
       "566063                 vendedor              vendedor   \n",
       "\n",
       "                                              description  \\\n",
       "1       Descrição Geral\\nEmpresa localizada na cidade ...   \n",
       "2       Descrição Geral\\nEmpresa localizada na cidade ...   \n",
       "3       Descrição Geral\\nEmpresa localizada na cidade ...   \n",
       "4       Descrição Geral\\nEmpresa localizada na cidade ...   \n",
       "6       Descrição Geral\\nEmpresa localizada na cidade ...   \n",
       "...                                                   ...   \n",
       "566059  Descrição Geral\\nEmpresa localizada na cidade ...   \n",
       "566060  Descrição Geral\\nEmpresa localizada na cidade ...   \n",
       "566061  Descrição Geral\\nEmpresa localizada na cidade ...   \n",
       "566062  Descrição Geral\\nEmpresa localizada na cidade ...   \n",
       "566063  Descrição Geral\\nEmpresa localizada na cidade ...   \n",
       "\n",
       "                                          descricao_clean  ramo_atividade  \n",
       "1       pedreiro.,construções, reformas e reparos. ens...      construcao  \n",
       "2       desenvolvedor.,a vaga ecessita experiência com...     informatica  \n",
       "3       estoquista.,vaga aberta para estoquista n. sho...       logistica  \n",
       "4       vendedor.,atendimento ao público, vendas e pós...        comercio  \n",
       "6       assistente de logística.,apoio aos motoristas ...       logistica  \n",
       "...                                                   ...             ...  \n",
       "566059  consultor de vendas., proatividade. boa comuni...        comercio  \n",
       "566060  estilista.,estamos contratando estilista para ...       marketing  \n",
       "566061  recepcionista.,como recepcionista você deverá ...  administrativo  \n",
       "566062  promotor de vendas.,oportunidade imperdível: p...        comercio  \n",
       "566063  vendedor.,irá realizar vendas de acessórios bi...        comercio  \n",
       "\n",
       "[402547 rows x 8 columns]"
      ]
     },
     "execution_count": 54,
     "metadata": {},
     "output_type": "execute_result"
    }
   ],
   "source": [
    "vagas"
   ]
  },
  {
   "cell_type": "code",
   "execution_count": 55,
   "metadata": {},
   "outputs": [],
   "source": [
    "vagas.to_csv(diretorio + 'vagas.csv', sep=\";\", encoding='utf-8-sig')"
   ]
  },
  {
   "cell_type": "markdown",
   "metadata": {},
   "source": [
    "### LIDANDO COM O TEXTO, LIMPANDO E ANALISANDO"
   ]
  },
  {
   "cell_type": "code",
   "execution_count": 10,
   "metadata": {},
   "outputs": [],
   "source": [
    "import re\n",
    "from unidecode import unidecode\n",
    "\n",
    "def processar_descricao(texto):\n",
    "    if not isinstance(texto, str):\n",
    "        return {\"descricao_limpa\": \"\", \"ramo_atividade\": None}\n",
    "\n",
    "    texto_original = texto\n",
    "    texto_ascii = unidecode(texto_original)\n",
    "\n",
    "    # Corrigir quebras de linha (literal ou real)\n",
    "    texto_ascii = texto_ascii.replace(\"\\\\n\", \"\\n\").replace(\"\\\\r\", \"\\n\").replace(\"\\r\", \"\\n\")\n",
    "    \n",
    "    # Extrair ramo após \"do ramo ... contrata\"\n",
    "    ramo_match = re.search(r'do ramo\\s+([^\\n,]+)', texto_ascii, flags=re.IGNORECASE)\n",
    "    ramo = ramo_match.group(1).strip() if ramo_match else None\n",
    "\n",
    "    # Remover tudo até e incluindo \"contrata\"\n",
    "    texto_limpo = re.sub(r'^.*?contrata', '', texto_original, flags=re.IGNORECASE)\n",
    "\n",
    "    # Trocar quebras por espaço\n",
    "    texto_limpo = texto_limpo.replace(\"\\\\n\", \" \").replace(\"\\n\", \" \").replace(\"\\r\", \" \")\n",
    "\n",
    "    # Corrigir \"nnossa\", \"natendimento\", etc.\n",
    "    texto_limpo = re.sub(r'\\b[nN](?=\\w)', '', texto_limpo)\n",
    "\n",
    "    # Limpeza adicional\n",
    "    texto_limpo = re.sub(r'Tipo de V[ií]nculo.*?(?=\\n|$)', '', texto_limpo, flags=re.IGNORECASE)\n",
    "    texto_limpo = re.sub(r'Atribuições?\\s*:?[\\n]?', '', texto_limpo, flags=re.IGNORECASE)\n",
    "    texto_limpo = re.sub(r'Requisitos?\\s*:?[\\n]?', '', texto_limpo, flags=re.IGNORECASE)\n",
    "    texto_limpo = re.sub(r'Escolaridade.*?(?=\\n|$)', '', texto_limpo, flags=re.IGNORECASE)\n",
    "    texto_limpo = re.sub(r'Remuneraç[aã]o.*?(?=\\n|$)', '', texto_limpo, flags=re.IGNORECASE)\n",
    "    texto_limpo = re.sub(r'#\\w+', '', texto_limpo)\n",
    "    texto_limpo = re.sub(r'[^\\w\\s.,:\\n-]', '', texto_limpo)\n",
    "    texto_limpo = re.sub(r'\\s*-\\s*', ' ', texto_limpo)\n",
    "    texto_limpo = re.sub(r'\\s{2,}', ' ', texto_limpo)\n",
    "\n",
    "    texto_limpo = texto_limpo.strip().lower()\n",
    "\n",
    "    return {\n",
    "        \"descricao_limpa\": texto_limpo,\n",
    "        \"ramo_atividade\": ramo.lower() if ramo else None\n",
    "    }"
   ]
  },
  {
   "cell_type": "code",
   "execution_count": 11,
   "metadata": {},
   "outputs": [],
   "source": [
    "resultado = vagas[\"description\"].apply(processar_descricao).apply(pd.Series)\n",
    "vagas[\"descricao_clean\"] = resultado[\"descricao_limpa\"]\n",
    "vagas[\"ramo_atividade\"] = resultado[\"ramo_atividade\"] "
   ]
  },
  {
   "cell_type": "code",
   "execution_count": 12,
   "metadata": {},
   "outputs": [
    {
     "data": {
      "text/html": [
       "<div>\n",
       "<style scoped>\n",
       "    .dataframe tbody tr th:only-of-type {\n",
       "        vertical-align: middle;\n",
       "    }\n",
       "\n",
       "    .dataframe tbody tr th {\n",
       "        vertical-align: top;\n",
       "    }\n",
       "\n",
       "    .dataframe thead th {\n",
       "        text-align: right;\n",
       "    }\n",
       "</style>\n",
       "<table border=\"1\" class=\"dataframe\">\n",
       "  <thead>\n",
       "    <tr style=\"text-align: right;\">\n",
       "      <th></th>\n",
       "      <th>descricao_limpa</th>\n",
       "      <th>ramo_atividade</th>\n",
       "    </tr>\n",
       "  </thead>\n",
       "  <tbody>\n",
       "    <tr>\n",
       "      <th>1</th>\n",
       "      <td>pedreiro.,construções, reformas e reparos. ens...</td>\n",
       "      <td>construcao</td>\n",
       "    </tr>\n",
       "    <tr>\n",
       "      <th>2</th>\n",
       "      <td>desenvolvedor.,a vaga ecessita experiência com...</td>\n",
       "      <td>informatica</td>\n",
       "    </tr>\n",
       "    <tr>\n",
       "      <th>3</th>\n",
       "      <td>estoquista.,vaga aberta para estoquista n. sho...</td>\n",
       "      <td>logistica</td>\n",
       "    </tr>\n",
       "    <tr>\n",
       "      <th>4</th>\n",
       "      <td>vendedor.,atendimento ao público, vendas e pós...</td>\n",
       "      <td>comercio</td>\n",
       "    </tr>\n",
       "    <tr>\n",
       "      <th>6</th>\n",
       "      <td>assistente de logística.,apoio aos motoristas ...</td>\n",
       "      <td>logistica</td>\n",
       "    </tr>\n",
       "    <tr>\n",
       "      <th>...</th>\n",
       "      <td>...</td>\n",
       "      <td>...</td>\n",
       "    </tr>\n",
       "    <tr>\n",
       "      <th>566059</th>\n",
       "      <td>consultor de vendas., proatividade. boa comuni...</td>\n",
       "      <td>comercio</td>\n",
       "    </tr>\n",
       "    <tr>\n",
       "      <th>566060</th>\n",
       "      <td>estilista.,estamos contratando estilista para ...</td>\n",
       "      <td>marketing</td>\n",
       "    </tr>\n",
       "    <tr>\n",
       "      <th>566061</th>\n",
       "      <td>recepcionista.,como recepcionista você deverá ...</td>\n",
       "      <td>administrativo</td>\n",
       "    </tr>\n",
       "    <tr>\n",
       "      <th>566062</th>\n",
       "      <td>promotor de vendas.,oportunidade imperdível: p...</td>\n",
       "      <td>comercio</td>\n",
       "    </tr>\n",
       "    <tr>\n",
       "      <th>566063</th>\n",
       "      <td>vendedor.,irá realizar vendas de acessórios bi...</td>\n",
       "      <td>comercio</td>\n",
       "    </tr>\n",
       "  </tbody>\n",
       "</table>\n",
       "<p>402547 rows × 2 columns</p>\n",
       "</div>"
      ],
      "text/plain": [
       "                                          descricao_limpa  ramo_atividade\n",
       "1       pedreiro.,construções, reformas e reparos. ens...      construcao\n",
       "2       desenvolvedor.,a vaga ecessita experiência com...     informatica\n",
       "3       estoquista.,vaga aberta para estoquista n. sho...       logistica\n",
       "4       vendedor.,atendimento ao público, vendas e pós...        comercio\n",
       "6       assistente de logística.,apoio aos motoristas ...       logistica\n",
       "...                                                   ...             ...\n",
       "566059  consultor de vendas., proatividade. boa comuni...        comercio\n",
       "566060  estilista.,estamos contratando estilista para ...       marketing\n",
       "566061  recepcionista.,como recepcionista você deverá ...  administrativo\n",
       "566062  promotor de vendas.,oportunidade imperdível: p...        comercio\n",
       "566063  vendedor.,irá realizar vendas de acessórios bi...        comercio\n",
       "\n",
       "[402547 rows x 2 columns]"
      ]
     },
     "execution_count": 12,
     "metadata": {},
     "output_type": "execute_result"
    }
   ],
   "source": [
    "resultado"
   ]
  },
  {
   "cell_type": "code",
   "execution_count": 13,
   "metadata": {},
   "outputs": [
    {
     "data": {
      "text/html": [
       "<div>\n",
       "<style scoped>\n",
       "    .dataframe tbody tr th:only-of-type {\n",
       "        vertical-align: middle;\n",
       "    }\n",
       "\n",
       "    .dataframe tbody tr th {\n",
       "        vertical-align: top;\n",
       "    }\n",
       "\n",
       "    .dataframe thead th {\n",
       "        text-align: right;\n",
       "    }\n",
       "</style>\n",
       "<table border=\"1\" class=\"dataframe\">\n",
       "  <thead>\n",
       "    <tr style=\"text-align: right;\">\n",
       "      <th></th>\n",
       "      <th>source</th>\n",
       "      <th>identifier</th>\n",
       "      <th>uuid</th>\n",
       "      <th>title</th>\n",
       "      <th>title_standardized</th>\n",
       "      <th>description</th>\n",
       "      <th>descricao_clean</th>\n",
       "      <th>ramo_atividade</th>\n",
       "    </tr>\n",
       "  </thead>\n",
       "  <tbody>\n",
       "    <tr>\n",
       "      <th>1</th>\n",
       "      <td>BNE</td>\n",
       "      <td>4047558</td>\n",
       "      <td>A68BA07D-2515-494E-9B08-C2D509355E92</td>\n",
       "      <td>pedreiro</td>\n",
       "      <td>pedreiro</td>\n",
       "      <td>Descrição Geral\\nEmpresa localizada na cidade ...</td>\n",
       "      <td>pedreiro.,construções, reformas e reparos. ens...</td>\n",
       "      <td>construcao</td>\n",
       "    </tr>\n",
       "    <tr>\n",
       "      <th>2</th>\n",
       "      <td>BNE</td>\n",
       "      <td>4196822</td>\n",
       "      <td>4A13075A-B84A-4D8D-9ED4-4109D986634D</td>\n",
       "      <td>desenvolvedor</td>\n",
       "      <td>desenvolvedor</td>\n",
       "      <td>Descrição Geral\\nEmpresa localizada na cidade ...</td>\n",
       "      <td>desenvolvedor.,a vaga ecessita experiência com...</td>\n",
       "      <td>informatica</td>\n",
       "    </tr>\n",
       "    <tr>\n",
       "      <th>3</th>\n",
       "      <td>BNE</td>\n",
       "      <td>4152591</td>\n",
       "      <td>3ADD8F96-274C-4AC2-869E-A36CD835F553</td>\n",
       "      <td>estoquista</td>\n",
       "      <td>estoquista</td>\n",
       "      <td>Descrição Geral\\nEmpresa localizada na cidade ...</td>\n",
       "      <td>estoquista.,vaga aberta para estoquista n. sho...</td>\n",
       "      <td>logistica</td>\n",
       "    </tr>\n",
       "    <tr>\n",
       "      <th>4</th>\n",
       "      <td>BNE</td>\n",
       "      <td>4225298</td>\n",
       "      <td>AF23DA13-6E63-4D01-8A77-D1950DBCBEC1</td>\n",
       "      <td>vendedor</td>\n",
       "      <td>vendedor</td>\n",
       "      <td>Descrição Geral\\nEmpresa localizada na cidade ...</td>\n",
       "      <td>vendedor.,atendimento ao público, vendas e pós...</td>\n",
       "      <td>comercio</td>\n",
       "    </tr>\n",
       "    <tr>\n",
       "      <th>6</th>\n",
       "      <td>BNE</td>\n",
       "      <td>4307413</td>\n",
       "      <td>C5F8FA3F-F559-4B36-8661-A9EDDB5E8D68</td>\n",
       "      <td>assistente de logística</td>\n",
       "      <td>assistente logistica</td>\n",
       "      <td>Descrição Geral\\nEmpresa localizada na cidade ...</td>\n",
       "      <td>assistente de logística.,apoio aos motoristas ...</td>\n",
       "      <td>logistica</td>\n",
       "    </tr>\n",
       "    <tr>\n",
       "      <th>...</th>\n",
       "      <td>...</td>\n",
       "      <td>...</td>\n",
       "      <td>...</td>\n",
       "      <td>...</td>\n",
       "      <td>...</td>\n",
       "      <td>...</td>\n",
       "      <td>...</td>\n",
       "      <td>...</td>\n",
       "    </tr>\n",
       "    <tr>\n",
       "      <th>566059</th>\n",
       "      <td>BNE</td>\n",
       "      <td>3942948</td>\n",
       "      <td>FFA43E9C-3D4A-4D2A-8334-C2FFAF92FF73</td>\n",
       "      <td>consultor de vendas</td>\n",
       "      <td>consultor vendas</td>\n",
       "      <td>Descrição Geral\\nEmpresa localizada na cidade ...</td>\n",
       "      <td>consultor de vendas., proatividade. boa comuni...</td>\n",
       "      <td>comercio</td>\n",
       "    </tr>\n",
       "    <tr>\n",
       "      <th>566060</th>\n",
       "      <td>BNE</td>\n",
       "      <td>4383863</td>\n",
       "      <td>A10EDA8C-BF4A-49DD-87C4-1950BF95A6F4</td>\n",
       "      <td>estilista</td>\n",
       "      <td>estilista</td>\n",
       "      <td>Descrição Geral\\nEmpresa localizada na cidade ...</td>\n",
       "      <td>estilista.,estamos contratando estilista para ...</td>\n",
       "      <td>marketing</td>\n",
       "    </tr>\n",
       "    <tr>\n",
       "      <th>566061</th>\n",
       "      <td>BNE</td>\n",
       "      <td>4082387</td>\n",
       "      <td>0935370C-414D-4CC4-BA0F-6AA8088573D9</td>\n",
       "      <td>recepcionista</td>\n",
       "      <td>recepcionista</td>\n",
       "      <td>Descrição Geral\\nEmpresa localizada na cidade ...</td>\n",
       "      <td>recepcionista.,como recepcionista você deverá ...</td>\n",
       "      <td>administrativo</td>\n",
       "    </tr>\n",
       "    <tr>\n",
       "      <th>566062</th>\n",
       "      <td>BNE</td>\n",
       "      <td>4120573</td>\n",
       "      <td>D710A67D-DCC6-443F-8841-652E8ACBC342</td>\n",
       "      <td>promotor de vendas</td>\n",
       "      <td>promotor vendas</td>\n",
       "      <td>Descrição Geral\\nEmpresa localizada na cidade ...</td>\n",
       "      <td>promotor de vendas.,oportunidade imperdível: p...</td>\n",
       "      <td>comercio</td>\n",
       "    </tr>\n",
       "    <tr>\n",
       "      <th>566063</th>\n",
       "      <td>BNE</td>\n",
       "      <td>3961403</td>\n",
       "      <td>461C0F13-CD1F-4C1E-9AF2-E4660DDFAF34</td>\n",
       "      <td>vendedor</td>\n",
       "      <td>vendedor</td>\n",
       "      <td>Descrição Geral\\nEmpresa localizada na cidade ...</td>\n",
       "      <td>vendedor.,irá realizar vendas de acessórios bi...</td>\n",
       "      <td>comercio</td>\n",
       "    </tr>\n",
       "  </tbody>\n",
       "</table>\n",
       "<p>402547 rows × 8 columns</p>\n",
       "</div>"
      ],
      "text/plain": [
       "       source identifier                                  uuid  \\\n",
       "1         BNE    4047558  A68BA07D-2515-494E-9B08-C2D509355E92   \n",
       "2         BNE    4196822  4A13075A-B84A-4D8D-9ED4-4109D986634D   \n",
       "3         BNE    4152591  3ADD8F96-274C-4AC2-869E-A36CD835F553   \n",
       "4         BNE    4225298  AF23DA13-6E63-4D01-8A77-D1950DBCBEC1   \n",
       "6         BNE    4307413  C5F8FA3F-F559-4B36-8661-A9EDDB5E8D68   \n",
       "...       ...        ...                                   ...   \n",
       "566059    BNE    3942948  FFA43E9C-3D4A-4D2A-8334-C2FFAF92FF73   \n",
       "566060    BNE    4383863  A10EDA8C-BF4A-49DD-87C4-1950BF95A6F4   \n",
       "566061    BNE    4082387  0935370C-414D-4CC4-BA0F-6AA8088573D9   \n",
       "566062    BNE    4120573  D710A67D-DCC6-443F-8841-652E8ACBC342   \n",
       "566063    BNE    3961403  461C0F13-CD1F-4C1E-9AF2-E4660DDFAF34   \n",
       "\n",
       "                          title    title_standardized  \\\n",
       "1                      pedreiro              pedreiro   \n",
       "2                 desenvolvedor         desenvolvedor   \n",
       "3                    estoquista            estoquista   \n",
       "4                      vendedor              vendedor   \n",
       "6       assistente de logística  assistente logistica   \n",
       "...                         ...                   ...   \n",
       "566059      consultor de vendas      consultor vendas   \n",
       "566060                estilista             estilista   \n",
       "566061            recepcionista         recepcionista   \n",
       "566062       promotor de vendas       promotor vendas   \n",
       "566063                 vendedor              vendedor   \n",
       "\n",
       "                                              description  \\\n",
       "1       Descrição Geral\\nEmpresa localizada na cidade ...   \n",
       "2       Descrição Geral\\nEmpresa localizada na cidade ...   \n",
       "3       Descrição Geral\\nEmpresa localizada na cidade ...   \n",
       "4       Descrição Geral\\nEmpresa localizada na cidade ...   \n",
       "6       Descrição Geral\\nEmpresa localizada na cidade ...   \n",
       "...                                                   ...   \n",
       "566059  Descrição Geral\\nEmpresa localizada na cidade ...   \n",
       "566060  Descrição Geral\\nEmpresa localizada na cidade ...   \n",
       "566061  Descrição Geral\\nEmpresa localizada na cidade ...   \n",
       "566062  Descrição Geral\\nEmpresa localizada na cidade ...   \n",
       "566063  Descrição Geral\\nEmpresa localizada na cidade ...   \n",
       "\n",
       "                                          descricao_clean  ramo_atividade  \n",
       "1       pedreiro.,construções, reformas e reparos. ens...      construcao  \n",
       "2       desenvolvedor.,a vaga ecessita experiência com...     informatica  \n",
       "3       estoquista.,vaga aberta para estoquista n. sho...       logistica  \n",
       "4       vendedor.,atendimento ao público, vendas e pós...        comercio  \n",
       "6       assistente de logística.,apoio aos motoristas ...       logistica  \n",
       "...                                                   ...             ...  \n",
       "566059  consultor de vendas., proatividade. boa comuni...        comercio  \n",
       "566060  estilista.,estamos contratando estilista para ...       marketing  \n",
       "566061  recepcionista.,como recepcionista você deverá ...  administrativo  \n",
       "566062  promotor de vendas.,oportunidade imperdível: p...        comercio  \n",
       "566063  vendedor.,irá realizar vendas de acessórios bi...        comercio  \n",
       "\n",
       "[402547 rows x 8 columns]"
      ]
     },
     "execution_count": 13,
     "metadata": {},
     "output_type": "execute_result"
    }
   ],
   "source": [
    "vagas"
   ]
  },
  {
   "cell_type": "markdown",
   "metadata": {},
   "source": [
    "### HABILIDADES PCN"
   ]
  },
  {
   "cell_type": "code",
   "execution_count": 14,
   "metadata": {},
   "outputs": [],
   "source": [
    "df_habs = pd.read_csv(diretorio+\"habilidades_pcn.csv\", sep=\";\")"
   ]
  },
  {
   "cell_type": "code",
   "execution_count": 15,
   "metadata": {},
   "outputs": [
    {
     "data": {
      "text/html": [
       "<div>\n",
       "<style scoped>\n",
       "    .dataframe tbody tr th:only-of-type {\n",
       "        vertical-align: middle;\n",
       "    }\n",
       "\n",
       "    .dataframe tbody tr th {\n",
       "        vertical-align: top;\n",
       "    }\n",
       "\n",
       "    .dataframe thead th {\n",
       "        text-align: right;\n",
       "    }\n",
       "</style>\n",
       "<table border=\"1\" class=\"dataframe\">\n",
       "  <thead>\n",
       "    <tr style=\"text-align: right;\">\n",
       "      <th></th>\n",
       "      <th>Habilidade</th>\n",
       "    </tr>\n",
       "  </thead>\n",
       "  <tbody>\n",
       "    <tr>\n",
       "      <th>0</th>\n",
       "      <td>Comunicar-se de maneira assertiva.</td>\n",
       "    </tr>\n",
       "    <tr>\n",
       "      <th>1</th>\n",
       "      <td>Utilizar termos técnicos nas rotinas de trabalho.</td>\n",
       "    </tr>\n",
       "    <tr>\n",
       "      <th>2</th>\n",
       "      <td>Pesquisar informações e dados relacionados à á...</td>\n",
       "    </tr>\n",
       "    <tr>\n",
       "      <th>3</th>\n",
       "      <td>Operar equipamentos fotográficos.</td>\n",
       "    </tr>\n",
       "    <tr>\n",
       "      <th>4</th>\n",
       "      <td>Organizar equipamentos, acessórios e material ...</td>\n",
       "    </tr>\n",
       "    <tr>\n",
       "      <th>...</th>\n",
       "      <td>...</td>\n",
       "    </tr>\n",
       "    <tr>\n",
       "      <th>15609</th>\n",
       "      <td>Diferenciar mercadorias, produtos e serviços.</td>\n",
       "    </tr>\n",
       "    <tr>\n",
       "      <th>15610</th>\n",
       "      <td>Proatividade no atendimento e na resolução de ...</td>\n",
       "    </tr>\n",
       "    <tr>\n",
       "      <th>15611</th>\n",
       "      <td>Sigilo no tratamento de dados e informações.</td>\n",
       "    </tr>\n",
       "    <tr>\n",
       "      <th>15612</th>\n",
       "      <td>Zelo pela segurança do processo de compra.</td>\n",
       "    </tr>\n",
       "    <tr>\n",
       "      <th>15613</th>\n",
       "      <td>Responsabilidade no cumprimento de prazos.</td>\n",
       "    </tr>\n",
       "  </tbody>\n",
       "</table>\n",
       "<p>15614 rows × 1 columns</p>\n",
       "</div>"
      ],
      "text/plain": [
       "                                              Habilidade\n",
       "0                     Comunicar-se de maneira assertiva.\n",
       "1      Utilizar termos técnicos nas rotinas de trabalho.\n",
       "2      Pesquisar informações e dados relacionados à á...\n",
       "3                      Operar equipamentos fotográficos.\n",
       "4      Organizar equipamentos, acessórios e material ...\n",
       "...                                                  ...\n",
       "15609      Diferenciar mercadorias, produtos e serviços.\n",
       "15610  Proatividade no atendimento e na resolução de ...\n",
       "15611       Sigilo no tratamento de dados e informações.\n",
       "15612         Zelo pela segurança do processo de compra.\n",
       "15613         Responsabilidade no cumprimento de prazos.\n",
       "\n",
       "[15614 rows x 1 columns]"
      ]
     },
     "execution_count": 15,
     "metadata": {},
     "output_type": "execute_result"
    }
   ],
   "source": [
    "df_habs"
   ]
  },
  {
   "cell_type": "code",
   "execution_count": 16,
   "metadata": {},
   "outputs": [],
   "source": [
    "lista_habilidades = df_habs[\"Habilidade\"].dropna().tolist()\n",
    "lista_habilidades = [h.strip().lower() for h in lista_habilidades if h.strip() != '']"
   ]
  },
  {
   "cell_type": "code",
   "execution_count": 17,
   "metadata": {},
   "outputs": [
    {
     "name": "stdout",
     "output_type": "stream",
     "text": [
      "['comunicar-se de maneira assertiva.', 'utilizar termos técnicos nas rotinas de trabalho.', 'pesquisar informações e dados relacionados à área de fotografia.', 'operar equipamentos fotográficos.', 'organizar equipamentos, acessórios e material produzido.', 'identificar cenas fotográficas.', 'harmonizar cores, texturas, formas e iluminação do ambiente.', 'efetuar as operações matemáticas básicas.', 'colaboração no desenvolvimento do trabalho em equipe.', 'cordialidade e empatia no trato com as pessoas.']\n"
     ]
    }
   ],
   "source": [
    "print(lista_habilidades[:10])"
   ]
  },
  {
   "cell_type": "code",
   "execution_count": 98,
   "metadata": {},
   "outputs": [],
   "source": [
    "client = AzureOpenAI(\n",
    "    # This is the default and can be omitted\n",
    "    api_key=\"d6fd06ab74ac483cb8048f6bcd10ee81\",\n",
    "    # https://learn.microsoft.com/en-us/azure/ai-services/openai/reference#rest-api-versioning\n",
    "    api_version=\"2024-08-01-preview\",\n",
    "    # https://learn.microsoft.com/en-us/azure/cognitive-services/openai/how-to/create-resource?pivots=web-portal#create-a-resource\n",
    "    azure_endpoint=\"https://openai-prospeccao.openai.azure.com/\",\n",
    ")"
   ]
  },
  {
   "cell_type": "code",
   "execution_count": 19,
   "metadata": {},
   "outputs": [
    {
     "name": "stdout",
     "output_type": "stream",
     "text": [
      "                                          Habilidade  \\\n",
      "0                 comunicar-se de maneira assertiva.   \n",
      "1  utilizar termos técnicos nas rotinas de trabalho.   \n",
      "2  pesquisar informações e dados relacionados à á...   \n",
      "3                  operar equipamentos fotográficos.   \n",
      "4  organizar equipamentos, acessórios e material ...   \n",
      "\n",
      "                                           Sinonimo1  \\\n",
      "0              Expressar-se com clareza e confiança.   \n",
      "1  Empregar jargões profissionais nas atividades ...   \n",
      "2   Investigar informações e dados sobre fotografia.   \n",
      "3                                   Manusear câmeras   \n",
      "4  Gerenciar os equipamentos, acessórios e produt...   \n",
      "\n",
      "                                           Sinonimo2  \\\n",
      "0            Articular-se de forma direta e honesta.   \n",
      "1  Aplicar vocabulário especializado nas operaçõe...   \n",
      "2          Coletar dados e informações fotográficas.   \n",
      "3                 Utilizar dispositivos fotográficos   \n",
      "4  Classificar os equipamentos, acessórios e mate...   \n",
      "\n",
      "                                           Sinonimo3  \\\n",
      "0         Comunicar-se com eficácia e assertividade.   \n",
      "1        Usar linguagem técnica nas tarefas diárias.   \n",
      "2  Efetuar levantamentos de dados na área de foto...   \n",
      "3               Manipular equipamentos de fotografia   \n",
      "4  Arranjar os equipamentos, acessórios e itens f...   \n",
      "\n",
      "                                           Sinonimo4  \\\n",
      "0     Transmitir mensagens com segurança e precisão.   \n",
      "1  Incorporar termos específicos nas funções habi...   \n",
      "2  Realizar buscas informativas voltadas para fot...   \n",
      "3                   Controlar aparelhos fotográficos   \n",
      "4  Dispor os equipamentos, acessórios e materiais...   \n",
      "\n",
      "                                           Sinonimo5  \n",
      "0           Dialogar com firmeza e respeitabilidade.  \n",
      "1  Implementar nomenclatura técnica nas práticas ...  \n",
      "2  Garimpar dados e informações do setor fotográf...  \n",
      "3                       Operar máquinas fotográficas  \n",
      "4  Ordenar os equipamentos, acessórios e produtos...  \n"
     ]
    }
   ],
   "source": [
    "import openai\n",
    "import pandas as pd\n",
    "from itertools import chain\n",
    "\n",
    "\n",
    "# Criar uma função para gerar sinônimos e variações para cada habilidade usando GPT\n",
    "def gerar_sinonimos(habilidades):\n",
    "    sinonimos_dict = {}\n",
    "    \n",
    "    for habilidade in habilidades[:50]:  # Limitando a 50 habilidades para processamento inicial\n",
    "        prompt = f\"\"\"Liste 5 sinônimos ou variações para a habilidade '{habilidade}', sem introduções ou explicações, apenas a lista:\n",
    "1. \n",
    "2. \n",
    "3. \n",
    "4. \n",
    "5. \"\"\"\n",
    "\n",
    "        resposta = client.chat.completions.create(\n",
    "            model=\"gpt-4o-OpenAI-Prospeccao\",\n",
    "            messages=[{\"role\": \"user\", \"content\": prompt}],\n",
    "            max_tokens=150\n",
    "        )\n",
    "\n",
    "        # Processamento da resposta\n",
    "        sinonimos = resposta.choices[0].message.content.split(\"\\n\")\n",
    "\n",
    "        # Remover números e espaços extras dos sinônimos\n",
    "        sinonimos = [s.strip().split(\". \", 1)[-1] for s in sinonimos if s.strip()]\n",
    "\n",
    "        # Garantir que há exatamente 5 sinônimos (preenchendo com strings vazias se necessário)\n",
    "        while len(sinonimos) < 5:\n",
    "            sinonimos.append(\"\")\n",
    "\n",
    "        sinonimos_dict[habilidade] = sinonimos[:5]  # Mantendo apenas os 5 primeiros\n",
    "\n",
    "    return sinonimos_dict\n",
    "\n",
    "# Gerar sinônimos e variações\n",
    "sinonimos_habilidades = gerar_sinonimos(lista_habilidades)\n",
    "\n",
    "# Transformar em DataFrame para visualização\n",
    "sinonimos_df = pd.DataFrame.from_dict(sinonimos_habilidades, orient=\"index\", columns=[\"Sinonimo1\", \"Sinonimo2\", \"Sinonimo3\", \"Sinonimo4\", \"Sinonimo5\"])\n",
    "sinonimos_df.reset_index(inplace=True)\n",
    "sinonimos_df.rename(columns={\"index\": \"Habilidade\"}, inplace=True)\n",
    "\n",
    "# Salvar os sinônimos gerados em um novo CSV\n",
    "sinonimos_df.to_csv(\"habilidades_expandidas.csv\", index=False)\n",
    "\n",
    "# Exibir amostra dos resultados\n",
    "print(sinonimos_df.head())"
   ]
  },
  {
   "cell_type": "code",
   "execution_count": 20,
   "metadata": {},
   "outputs": [
    {
     "name": "stdout",
     "output_type": "stream",
     "text": [
      "['abertura à diversidade humana.', 'abordagem proativa no atendimento.', 'aceitação das singularidades.', 'acessibilidade e humanidade', 'adaptabilidade no ambiente profissional', 'adequar equipamentos tecnológicos', 'adesão aos regulamentos de patentes e marcas.', 'administração de workflows.', 'agilidade na gestão de questões', 'ajustar sistemas eletrônicos']\n"
     ]
    }
   ],
   "source": [
    "# Criar uma lista única de habilidades e seus sinônimos\n",
    "habilidades_expandida = set()\n",
    "\n",
    "for _, row in sinonimos_df.iterrows():\n",
    "    habilidade_principal = row[\"Habilidade\"].strip().lower()\n",
    "    sinonimos = [str(row[f\"Sinonimo{i}\"]).strip().lower() for i in range(1, 6) if pd.notna(row[f\"Sinonimo{i}\"])]\n",
    "\n",
    "    # Adicionar a habilidade principal e os sinônimos à lista\n",
    "    habilidades_expandida.add(habilidade_principal)\n",
    "    habilidades_expandida.update(sinonimos)\n",
    "\n",
    "# Converter para lista ordenada para garantir consistência\n",
    "habilidades_expandida = sorted(habilidades_expandida)\n",
    "\n",
    "# Exibir algumas habilidades para validação\n",
    "print(habilidades_expandida[:10])"
   ]
  },
  {
   "cell_type": "code",
   "execution_count": 58,
   "metadata": {},
   "outputs": [],
   "source": [
    "df_habilidades_expandidas = pd.DataFrame(habilidades_expandida)"
   ]
  },
  {
   "cell_type": "code",
   "execution_count": 60,
   "metadata": {},
   "outputs": [],
   "source": [
    "df_habilidades_expandidas.to_csv(diretorio + 'habilidades_expandidas.csv', sep=\";\", encoding = 'utf-8-sig')"
   ]
  },
  {
   "cell_type": "markdown",
   "metadata": {},
   "source": [
    "## GERANDO BASE DE TREINO COM CHATGPT"
   ]
  },
  {
   "cell_type": "code",
   "execution_count": 61,
   "metadata": {},
   "outputs": [],
   "source": [
    "from sklearn.model_selection import train_test_split\n",
    "\n",
    "# Remove NaNs e ramos com apenas uma ocorrência\n",
    "ramos_validos = vagas[\"ramo_atividade\"].value_counts()\n",
    "ramos_validos = ramos_validos[ramos_validos >= 2].index\n",
    "vagas_filtradas = vagas[vagas[\"ramo_atividade\"].isin(ramos_validos)].dropna(subset=[\"ramo_atividade\"])\n",
    "\n",
    "# Amostragem estratificada com 3000 vagas\n",
    "base_retreino, _ = train_test_split(\n",
    "    vagas_filtradas,\n",
    "    train_size=3000,\n",
    "    stratify=vagas_filtradas[\"ramo_atividade\"],\n",
    "    random_state=42\n",
    ")\n",
    "\n",
    "base_retreino = base_retreino.copy()"
   ]
  },
  {
   "cell_type": "code",
   "execution_count": 62,
   "metadata": {},
   "outputs": [],
   "source": [
    "prompt_competencia_gpt = (\n",
    "    \"Você é um especialista em Processamento de Linguagem Natural (NLP) aplicado ao mercado de trabalho. \"\n",
    "    \n",
    "    \"Sua tarefa é analisar descrições de vagas de emprego e identificar, de forma estruturada, cinco categorias de informações relacionadas ao perfil profissional desejado:\\n\\n\"\n",
    "\n",
    "    \"1. **Habilidades**: capacidades técnicas ou práticas que o candidato precisa demonstrar, como 'atendimento ao cliente', 'operar máquinas', 'vendas', 'comunicação assertiva';\\n\"\n",
    "    \"2. **Conhecimentos**: saberes técnicos, normativos ou teóricos necessários à função, como 'Excel', 'normas da Anvisa', 'legislação trabalhista'. **Não inclua níveis de escolaridade aqui**;\\n\"\n",
    "    \"3. **Atitudes e Valores**: comportamentos e disposições esperadas do profissional, como 'proatividade', 'trabalho em equipe', 'responsabilidade', 'ética', 'comprometimento';\\n\"\n",
    "    \"4. **Escolaridade**: grau de instrução exigido, como 'ensino fundamental completo', 'ensino médio completo', 'ensino superior', 'pós-graduação', 'mestrado', 'doutorado';\\n\"\n",
    "    \"5. **Certificações**: certificados técnicos ou profissionais específicos, como 'CPA10', 'CREA', 'CRT', 'SAP', 'ISO'.\\n\\n\"\n",
    "\n",
    "    \"Ignore informações que **não** dizem respeito diretamente ao perfil do candidato, como:\\n\"\n",
    "    \"- Nome da empresa;\\n\"\n",
    "    \"- Localização da vaga;\\n\"\n",
    "    \"- Jornada de trabalho;\\n\"\n",
    "    \"- Tipo de contrato;\\n\"\n",
    "    \"- Benefícios;\\n\"\n",
    "    \"- Requisitos vagos como “experiência prévia” sem detalhamento da atividade.\\n\\n\"\n",
    "\n",
    "    \"Você pode usar a seguinte lista de referência com habilidades, conhecimentos e atitudes, derivada de currículos oficiais de formação profissional:\\n\"\n",
    "    f\"{habilidades_expandida}\\n\\n\"\n",
    "\n",
    "    \"Alem disso, você deve fazer um processo similar com o que está na base:\\n\" f\"{base_treino}\\n\\n\"\n",
    "\n",
    "    \"Use essa lista como apoio para reconhecer termos similares mesmo com variações na linguagem.\\n\\n\"\n",
    "\n",
    "    \"Retorne o resultado estruturado neste formato (sem explicações adicionais):\\n\"\n",
    "    \"Habilidades: [lista]\\n\"\n",
    "    \"Conhecimentos: [lista]\\n\"\n",
    "    \"Atitudes e Valores: [lista]\\n\"\n",
    "    \"Escolaridade: [lista]\\n\"\n",
    "    \"Certificações: [lista]\\n\"\n",
    ")\n",
    "\n",
    "# Função que faz a chamada para o GPT\n",
    "def analisar_vaga_gpt(descricao):\n",
    "    if not isinstance(descricao, str) or descricao.strip() == \"\":\n",
    "        return {\"Habilidades\": [], \"Conhecimentos\": [], \"Atitudes_Valores\": [], \"Escolaridade\":[], \"Certificacoes\": []}\n",
    "\n",
    "    try:\n",
    "        response = client.chat.completions.create(\n",
    "            model=\"gpt-4o-OpenAI-Prospeccao\",  # nome exato do seu deployment no Azure\n",
    "            messages=[\n",
    "                {\"role\": \"system\", \"content\": prompt_competencia_gpt},\n",
    "                {\"role\": \"user\", \"content\": descricao}\n",
    "            ],\n",
    "            temperature=0,\n",
    "            max_tokens=800\n",
    "        )\n",
    "        content = response.choices[0].message.content\n",
    "\n",
    "        # Parsing simples (pode melhorar depois com regex se quiser)\n",
    "        resultado = {\n",
    "            \"Habilidades\": [],\n",
    "            \"Conhecimentos\": [],\n",
    "            \"Atitudes_Valores\": [],\n",
    "            \"Escolaridade\":[], \n",
    "            \"Certificacoes\": []\n",
    "        }\n",
    "        for linha in content.split(\"\\n\"):\n",
    "            if linha.lower().startswith(\"habilidades\"):\n",
    "                resultado[\"Habilidades\"] = linha.split(\":\", 1)[-1].strip(\" []\").split(\", \")\n",
    "            elif linha.lower().startswith(\"conhecimentos\"):\n",
    "                resultado[\"Conhecimentos\"] = linha.split(\":\", 1)[-1].strip(\" []\").split(\", \")\n",
    "            elif \"atitudes\" in linha.lower():\n",
    "                resultado[\"Atitudes_Valores\"] = linha.split(\":\", 1)[-1].strip(\" []\").split(\", \")\n",
    "            elif \"escolaridade\" in linha.lower():\n",
    "                resultado[\"Escolaridade\"] = linha.split(\":\", 1)[-1].strip(\" []\").split(\", \")\n",
    "            elif \"certificacoes\" in linha.lower():\n",
    "                resultado[\"Certificacoes\"] = linha.split(\":\", 1)[-1].strip(\" []\").split(\", \")\n",
    "        return resultado\n",
    "    except Exception as e:\n",
    "        print(f\"Erro: {e}\")\n",
    "        return {\"Habilidades\": [], \"Conhecimentos\": [], \"Atitudes_Valores\": [], \"Escolaridade\": [], \"Certificacoes\": []}"
   ]
  },
  {
   "cell_type": "code",
   "execution_count": 65,
   "metadata": {},
   "outputs": [],
   "source": [
    "vagas_amostra = vagas.sample(200).copy()"
   ]
  },
  {
   "cell_type": "code",
   "execution_count": 66,
   "metadata": {},
   "outputs": [
    {
     "name": "stderr",
     "output_type": "stream",
     "text": [
      "100%|██████████| 200/200 [25:00<00:00,  7.50s/it]\n"
     ]
    }
   ],
   "source": [
    "from tqdm import tqdm\n",
    "tqdm.pandas()\n",
    "vagas_amostra[\"competencias_extraidas\"] = vagas_amostra[\"description\"].progress_apply(analisar_vaga_gpt)"
   ]
  },
  {
   "cell_type": "code",
   "execution_count": 67,
   "metadata": {},
   "outputs": [],
   "source": [
    "check = vagas_amostra[['description', 'competencias_extraidas']]"
   ]
  },
  {
   "cell_type": "code",
   "execution_count": 68,
   "metadata": {},
   "outputs": [],
   "source": [
    "check.to_csv(diretorio + 'check.csv', sep=\";\", encoding='utf-8-sig')"
   ]
  },
  {
   "cell_type": "code",
   "execution_count": 69,
   "metadata": {},
   "outputs": [],
   "source": [
    "check = pd.read_csv(diretorio + 'check.csv', sep=\";\")"
   ]
  },
  {
   "cell_type": "code",
   "execution_count": 70,
   "metadata": {},
   "outputs": [
    {
     "data": {
      "text/html": [
       "<div>\n",
       "<style scoped>\n",
       "    .dataframe tbody tr th:only-of-type {\n",
       "        vertical-align: middle;\n",
       "    }\n",
       "\n",
       "    .dataframe tbody tr th {\n",
       "        vertical-align: top;\n",
       "    }\n",
       "\n",
       "    .dataframe thead th {\n",
       "        text-align: right;\n",
       "    }\n",
       "</style>\n",
       "<table border=\"1\" class=\"dataframe\">\n",
       "  <thead>\n",
       "    <tr style=\"text-align: right;\">\n",
       "      <th></th>\n",
       "      <th>Unnamed: 0</th>\n",
       "      <th>description</th>\n",
       "      <th>competencias_extraidas</th>\n",
       "    </tr>\n",
       "  </thead>\n",
       "  <tbody>\n",
       "    <tr>\n",
       "      <th>0</th>\n",
       "      <td>374626</td>\n",
       "      <td>Descrição Geral\\nEmpresa localizada na cidade ...</td>\n",
       "      <td>{'Habilidades': ['elaborar projetos', 'desenvo...</td>\n",
       "    </tr>\n",
       "    <tr>\n",
       "      <th>1</th>\n",
       "      <td>14366</td>\n",
       "      <td>Descrição Geral\\nEmpresa localizada na cidade ...</td>\n",
       "      <td>{'Habilidades': ['alinhamento de pneus', 'subs...</td>\n",
       "    </tr>\n",
       "    <tr>\n",
       "      <th>2</th>\n",
       "      <td>557333</td>\n",
       "      <td>Descrição Geral\\nEmpresa localizada na cidade ...</td>\n",
       "      <td>{'Habilidades': ['fiscalizar entrada e saída d...</td>\n",
       "    </tr>\n",
       "    <tr>\n",
       "      <th>3</th>\n",
       "      <td>504463</td>\n",
       "      <td>Descrição Geral\\nEmpresa localizada na cidade ...</td>\n",
       "      <td>{'Habilidades': [''], 'Conhecimentos': [''], '...</td>\n",
       "    </tr>\n",
       "    <tr>\n",
       "      <th>4</th>\n",
       "      <td>544138</td>\n",
       "      <td>Descrição Geral\\nEmpresa localizada na cidade ...</td>\n",
       "      <td>{'Habilidades': ['vendas', 'telemarketing'], '...</td>\n",
       "    </tr>\n",
       "    <tr>\n",
       "      <th>...</th>\n",
       "      <td>...</td>\n",
       "      <td>...</td>\n",
       "      <td>...</td>\n",
       "    </tr>\n",
       "    <tr>\n",
       "      <th>195</th>\n",
       "      <td>292208</td>\n",
       "      <td>Descrição Geral\\nEmpresa localizada na cidade ...</td>\n",
       "      <td>{'Habilidades': ['montagem de máquinas', 'mont...</td>\n",
       "    </tr>\n",
       "    <tr>\n",
       "      <th>196</th>\n",
       "      <td>545420</td>\n",
       "      <td>Descrição Geral\\nEmpresa localizada na cidade ...</td>\n",
       "      <td>{'Habilidades': ['manutenção preventiva', 'man...</td>\n",
       "    </tr>\n",
       "    <tr>\n",
       "      <th>197</th>\n",
       "      <td>254989</td>\n",
       "      <td>Descrição Geral\\nEmpresa localizada na cidade ...</td>\n",
       "      <td>{'Habilidades': [''], 'Conhecimentos': [''], '...</td>\n",
       "    </tr>\n",
       "    <tr>\n",
       "      <th>198</th>\n",
       "      <td>128300</td>\n",
       "      <td>Descrição Geral\\nEmpresa localizada na cidade ...</td>\n",
       "      <td>{'Habilidades': [''], 'Conhecimentos': [''], '...</td>\n",
       "    </tr>\n",
       "    <tr>\n",
       "      <th>199</th>\n",
       "      <td>298419</td>\n",
       "      <td>Descrição Geral\\nEmpresa localizada na cidade ...</td>\n",
       "      <td>{'Habilidades': [''], 'Conhecimentos': [''], '...</td>\n",
       "    </tr>\n",
       "  </tbody>\n",
       "</table>\n",
       "<p>200 rows × 3 columns</p>\n",
       "</div>"
      ],
      "text/plain": [
       "     Unnamed: 0                                        description  \\\n",
       "0        374626  Descrição Geral\\nEmpresa localizada na cidade ...   \n",
       "1         14366  Descrição Geral\\nEmpresa localizada na cidade ...   \n",
       "2        557333  Descrição Geral\\nEmpresa localizada na cidade ...   \n",
       "3        504463  Descrição Geral\\nEmpresa localizada na cidade ...   \n",
       "4        544138  Descrição Geral\\nEmpresa localizada na cidade ...   \n",
       "..          ...                                                ...   \n",
       "195      292208  Descrição Geral\\nEmpresa localizada na cidade ...   \n",
       "196      545420  Descrição Geral\\nEmpresa localizada na cidade ...   \n",
       "197      254989  Descrição Geral\\nEmpresa localizada na cidade ...   \n",
       "198      128300  Descrição Geral\\nEmpresa localizada na cidade ...   \n",
       "199      298419  Descrição Geral\\nEmpresa localizada na cidade ...   \n",
       "\n",
       "                                competencias_extraidas  \n",
       "0    {'Habilidades': ['elaborar projetos', 'desenvo...  \n",
       "1    {'Habilidades': ['alinhamento de pneus', 'subs...  \n",
       "2    {'Habilidades': ['fiscalizar entrada e saída d...  \n",
       "3    {'Habilidades': [''], 'Conhecimentos': [''], '...  \n",
       "4    {'Habilidades': ['vendas', 'telemarketing'], '...  \n",
       "..                                                 ...  \n",
       "195  {'Habilidades': ['montagem de máquinas', 'mont...  \n",
       "196  {'Habilidades': ['manutenção preventiva', 'man...  \n",
       "197  {'Habilidades': [''], 'Conhecimentos': [''], '...  \n",
       "198  {'Habilidades': [''], 'Conhecimentos': [''], '...  \n",
       "199  {'Habilidades': [''], 'Conhecimentos': [''], '...  \n",
       "\n",
       "[200 rows x 3 columns]"
      ]
     },
     "execution_count": 70,
     "metadata": {},
     "output_type": "execute_result"
    }
   ],
   "source": [
    "check"
   ]
  },
  {
   "cell_type": "code",
   "execution_count": null,
   "metadata": {},
   "outputs": [
    {
     "data": {
      "text/html": [
       "<div>\n",
       "<style scoped>\n",
       "    .dataframe tbody tr th:only-of-type {\n",
       "        vertical-align: middle;\n",
       "    }\n",
       "\n",
       "    .dataframe tbody tr th {\n",
       "        vertical-align: top;\n",
       "    }\n",
       "\n",
       "    .dataframe thead th {\n",
       "        text-align: right;\n",
       "    }\n",
       "</style>\n",
       "<table border=\"1\" class=\"dataframe\">\n",
       "  <thead>\n",
       "    <tr style=\"text-align: right;\">\n",
       "      <th></th>\n",
       "      <th>indice</th>\n",
       "      <th>description</th>\n",
       "      <th>competencias_extraidas</th>\n",
       "      <th>ajustes</th>\n",
       "    </tr>\n",
       "  </thead>\n",
       "  <tbody>\n",
       "    <tr>\n",
       "      <th>2</th>\n",
       "      <td>449017</td>\n",
       "      <td>Descrição Geral\\nEmpresa localizada na cidade ...</td>\n",
       "      <td>{'Habilidades': ['vendas', 'atendimento ao cli...</td>\n",
       "      <td>{'Habilidades': ['vendas', 'prospecção de clie...</td>\n",
       "    </tr>\n",
       "    <tr>\n",
       "      <th>30</th>\n",
       "      <td>3849</td>\n",
       "      <td>Descrição Geral\\nEmpresa localizada na cidade ...</td>\n",
       "      <td>{'Habilidades': ['manusear produtos de limpeza...</td>\n",
       "      <td>{'Habilidades': ['limpeza em geral', 'manusear...</td>\n",
       "    </tr>\n",
       "    <tr>\n",
       "      <th>124</th>\n",
       "      <td>144427</td>\n",
       "      <td>Descrição Geral\\nEmpresa localizada na cidade ...</td>\n",
       "      <td>{'Habilidades': ['analisar o desenvolvimento d...</td>\n",
       "      <td>{'Habilidades': ['analisar o desenvolvimento d...</td>\n",
       "    </tr>\n",
       "    <tr>\n",
       "      <th>64</th>\n",
       "      <td>127254</td>\n",
       "      <td>Descrição Geral\\nEmpresa localizada na cidade ...</td>\n",
       "      <td>{'Habilidades': ['liderança e administração da...</td>\n",
       "      <td>{'Habilidades': ['apoiar o engenheiro gestor a...</td>\n",
       "    </tr>\n",
       "    <tr>\n",
       "      <th>146</th>\n",
       "      <td>323031</td>\n",
       "      <td>Descrição Geral\\nEmpresa localizada na cidade ...</td>\n",
       "      <td>{'Habilidades': ['organizar veículos', 'zelar ...</td>\n",
       "      <td>{'Habilidades': ['manobrar veículos', 'organiz...</td>\n",
       "    </tr>\n",
       "    <tr>\n",
       "      <th>167</th>\n",
       "      <td>342703</td>\n",
       "      <td>Descrição Geral\\nEmpresa localizada na cidade ...</td>\n",
       "      <td>{'Habilidades': [\"'atendimento ao cliente'\", \"...</td>\n",
       "      <td>{'Habilidades': [\"'atendimento ao cliente'\", \"...</td>\n",
       "    </tr>\n",
       "    <tr>\n",
       "      <th>187</th>\n",
       "      <td>136612</td>\n",
       "      <td>Descrição Geral\\nEmpresa localizada na cidade ...</td>\n",
       "      <td>{'Habilidades': [''], 'Conhecimentos': [''], '...</td>\n",
       "      <td>{'Habilidades': ['serviços rotineiros operacio...</td>\n",
       "    </tr>\n",
       "    <tr>\n",
       "      <th>94</th>\n",
       "      <td>410391</td>\n",
       "      <td>Descrição Geral\\nEmpresa localizada na cidade ...</td>\n",
       "      <td>{'Habilidades': ['prospecção do mercado', 'ven...</td>\n",
       "      <td>{'Habilidades': ['prospecção do mercado', 'ven...</td>\n",
       "    </tr>\n",
       "    <tr>\n",
       "      <th>148</th>\n",
       "      <td>368612</td>\n",
       "      <td>Descrição Geral\\nEmpresa localizada na cidade ...</td>\n",
       "      <td>{'Habilidades': [''], 'Conhecimentos': [''], '...</td>\n",
       "      <td>{'Habilidades': ['limpeza e higienização das d...</td>\n",
       "    </tr>\n",
       "    <tr>\n",
       "      <th>63</th>\n",
       "      <td>192602</td>\n",
       "      <td>Descrição Geral\\nEmpresa localizada na cidade ...</td>\n",
       "      <td>{'Habilidades': [''], 'Conhecimentos': [''], '...</td>\n",
       "      <td>{'Habilidades': ['recepção voltada para área d...</td>\n",
       "    </tr>\n",
       "    <tr>\n",
       "      <th>157</th>\n",
       "      <td>386367</td>\n",
       "      <td>Descrição Geral\\nEmpresa localizada na cidade ...</td>\n",
       "      <td>{'Habilidades': ['atendimento ao cliente', 'or...</td>\n",
       "      <td>{'Habilidades': ['atendimento ao cliente', 'or...</td>\n",
       "    </tr>\n",
       "    <tr>\n",
       "      <th>14</th>\n",
       "      <td>411315</td>\n",
       "      <td>Descrição Geral\\nEmpresa localizada na cidade ...</td>\n",
       "      <td>{'Habilidades': ['desenvolver projetos eletrôn...</td>\n",
       "      <td>{'Habilidades': ['desenvolver projetos eletrôn...</td>\n",
       "    </tr>\n",
       "    <tr>\n",
       "      <th>129</th>\n",
       "      <td>366765</td>\n",
       "      <td>Descrição Geral\\nEmpresa localizada na cidade ...</td>\n",
       "      <td>{'Habilidades': ['organizar a área de serviço'...</td>\n",
       "      <td>{'Habilidades': ['organizar a área de serviço'...</td>\n",
       "    </tr>\n",
       "    <tr>\n",
       "      <th>112</th>\n",
       "      <td>472726</td>\n",
       "      <td>Descrição Geral\\nEmpresa localizada na cidade ...</td>\n",
       "      <td>{'Habilidades': ['processo de admissão', 'onbo...</td>\n",
       "      <td>{'Habilidades': ['processo de admissão', 'onbo...</td>\n",
       "    </tr>\n",
       "    <tr>\n",
       "      <th>52</th>\n",
       "      <td>258666</td>\n",
       "      <td>Descrição Geral\\nEmpresa localizada na cidade ...</td>\n",
       "      <td>{'Habilidades': [\"'habilidades em cálculos fin...</td>\n",
       "      <td>{'Habilidades': ['acompanhamento das movimenta...</td>\n",
       "    </tr>\n",
       "    <tr>\n",
       "      <th>75</th>\n",
       "      <td>395067</td>\n",
       "      <td>Descrição Geral\\nEmpresa localizada na cidade ...</td>\n",
       "      <td>{'Habilidades': [''], 'Conhecimentos': [''], '...</td>\n",
       "      <td>{'Habilidades': ['recepção em consultório médi...</td>\n",
       "    </tr>\n",
       "    <tr>\n",
       "      <th>48</th>\n",
       "      <td>312866</td>\n",
       "      <td>Descrição Geral\\nEmpresa localizada na cidade ...</td>\n",
       "      <td>{'Habilidades': ['criar relatórios', 'acompanh...</td>\n",
       "      <td>{'Habilidades': ['relacionamento com parceiros...</td>\n",
       "    </tr>\n",
       "    <tr>\n",
       "      <th>21</th>\n",
       "      <td>206876</td>\n",
       "      <td>Descrição Geral\\nEmpresa localizada na cidade ...</td>\n",
       "      <td>{'Habilidades': [''], 'Conhecimentos': ['resci...</td>\n",
       "      <td>{'Habilidades': ['rescisões', 'férias'], 'Conh...</td>\n",
       "    </tr>\n",
       "    <tr>\n",
       "      <th>171</th>\n",
       "      <td>521019</td>\n",
       "      <td>Descrição Geral\\nEmpresa localizada na cidade ...</td>\n",
       "      <td>{'Habilidades': ['analisar projetos de produto...</td>\n",
       "      <td>{'Habilidades': ['analisar projetos de produto...</td>\n",
       "    </tr>\n",
       "    <tr>\n",
       "      <th>77</th>\n",
       "      <td>386274</td>\n",
       "      <td>Descrição Geral\\nEmpresa localizada na cidade ...</td>\n",
       "      <td>{'Habilidades': [''], 'Conhecimentos': [''], '...</td>\n",
       "      <td>{'Habilidades': [''], 'Conhecimentos': [''], '...</td>\n",
       "    </tr>\n",
       "    <tr>\n",
       "      <th>108</th>\n",
       "      <td>537377</td>\n",
       "      <td>Descrição Geral\\nEmpresa localizada na cidade ...</td>\n",
       "      <td>{'Habilidades': ['zelar pelo andamento das ati...</td>\n",
       "      <td>{'Habilidades': ['zelar pelo andamento das ati...</td>\n",
       "    </tr>\n",
       "    <tr>\n",
       "      <th>159</th>\n",
       "      <td>281850</td>\n",
       "      <td>Descrição Geral\\nEmpresa localizada na cidade ...</td>\n",
       "      <td>{'Habilidades': ['supervisionar equipe', 'lide...</td>\n",
       "      <td>{'Habilidades': ['supervisionar equipe', 'lide...</td>\n",
       "    </tr>\n",
       "    <tr>\n",
       "      <th>142</th>\n",
       "      <td>164720</td>\n",
       "      <td>Descrição Geral\\nEmpresa localizada na cidade ...</td>\n",
       "      <td>{'Habilidades': ['controlar documentação', 'co...</td>\n",
       "      <td>{'Habilidades': ['controlar documentação e pra...</td>\n",
       "    </tr>\n",
       "    <tr>\n",
       "      <th>177</th>\n",
       "      <td>468447</td>\n",
       "      <td>Descrição Geral\\nEmpresa localizada na cidade ...</td>\n",
       "      <td>{'Habilidades': ['treinamento', 'coletas de sa...</td>\n",
       "      <td>{'Habilidades': ['visitas de orientação de med...</td>\n",
       "    </tr>\n",
       "    <tr>\n",
       "      <th>68</th>\n",
       "      <td>283550</td>\n",
       "      <td>Descrição Geral\\nEmpresa localizada na cidade ...</td>\n",
       "      <td>{'Habilidades': ['implementação', 'configuraçõ...</td>\n",
       "      <td>{'Habilidades': ['certificações sap relevantes...</td>\n",
       "    </tr>\n",
       "    <tr>\n",
       "      <th>54</th>\n",
       "      <td>207927</td>\n",
       "      <td>Descrição Geral\\nEmpresa localizada na cidade ...</td>\n",
       "      <td>{'Habilidades': ['desenvolver planos de manute...</td>\n",
       "      <td>{'Habilidades': ['desenvolver planos de manute...</td>\n",
       "    </tr>\n",
       "    <tr>\n",
       "      <th>103</th>\n",
       "      <td>506987</td>\n",
       "      <td>Descrição Geral\\nEmpresa localizada na cidade ...</td>\n",
       "      <td>{'Habilidades': ['atendimento ao cliente', 'di...</td>\n",
       "      <td>{'Habilidades': ['atendimento ao cliente', 'di...</td>\n",
       "    </tr>\n",
       "    <tr>\n",
       "      <th>99</th>\n",
       "      <td>224107</td>\n",
       "      <td>Descrição Geral\\nEmpresa localizada na cidade ...</td>\n",
       "      <td>{'Habilidades': ['atendimento ao cliente', 'co...</td>\n",
       "      <td>{'Habilidades': ['atendimento ao cliente', 'co...</td>\n",
       "    </tr>\n",
       "    <tr>\n",
       "      <th>74</th>\n",
       "      <td>2700</td>\n",
       "      <td>Descrição Geral\\nEmpresa localizada na cidade ...</td>\n",
       "      <td>{'Habilidades': [''], 'Conhecimentos': [''], '...</td>\n",
       "      <td>{'Habilidades': ['revenda de calcinhas, soutie...</td>\n",
       "    </tr>\n",
       "    <tr>\n",
       "      <th>87</th>\n",
       "      <td>337837</td>\n",
       "      <td>Descrição Geral\\nEmpresa localizada na cidade ...</td>\n",
       "      <td>{'Habilidades': ['comunicação verbal', 'comuni...</td>\n",
       "      <td>{'Habilidades': ['avaliar a experiência do cli...</td>\n",
       "    </tr>\n",
       "  </tbody>\n",
       "</table>\n",
       "</div>"
      ],
      "text/plain": [
       "     indice                                        description  \\\n",
       "2    449017  Descrição Geral\\nEmpresa localizada na cidade ...   \n",
       "30     3849  Descrição Geral\\nEmpresa localizada na cidade ...   \n",
       "124  144427  Descrição Geral\\nEmpresa localizada na cidade ...   \n",
       "64   127254  Descrição Geral\\nEmpresa localizada na cidade ...   \n",
       "146  323031  Descrição Geral\\nEmpresa localizada na cidade ...   \n",
       "167  342703  Descrição Geral\\nEmpresa localizada na cidade ...   \n",
       "187  136612  Descrição Geral\\nEmpresa localizada na cidade ...   \n",
       "94   410391  Descrição Geral\\nEmpresa localizada na cidade ...   \n",
       "148  368612  Descrição Geral\\nEmpresa localizada na cidade ...   \n",
       "63   192602  Descrição Geral\\nEmpresa localizada na cidade ...   \n",
       "157  386367  Descrição Geral\\nEmpresa localizada na cidade ...   \n",
       "14   411315  Descrição Geral\\nEmpresa localizada na cidade ...   \n",
       "129  366765  Descrição Geral\\nEmpresa localizada na cidade ...   \n",
       "112  472726  Descrição Geral\\nEmpresa localizada na cidade ...   \n",
       "52   258666  Descrição Geral\\nEmpresa localizada na cidade ...   \n",
       "75   395067  Descrição Geral\\nEmpresa localizada na cidade ...   \n",
       "48   312866  Descrição Geral\\nEmpresa localizada na cidade ...   \n",
       "21   206876  Descrição Geral\\nEmpresa localizada na cidade ...   \n",
       "171  521019  Descrição Geral\\nEmpresa localizada na cidade ...   \n",
       "77   386274  Descrição Geral\\nEmpresa localizada na cidade ...   \n",
       "108  537377  Descrição Geral\\nEmpresa localizada na cidade ...   \n",
       "159  281850  Descrição Geral\\nEmpresa localizada na cidade ...   \n",
       "142  164720  Descrição Geral\\nEmpresa localizada na cidade ...   \n",
       "177  468447  Descrição Geral\\nEmpresa localizada na cidade ...   \n",
       "68   283550  Descrição Geral\\nEmpresa localizada na cidade ...   \n",
       "54   207927  Descrição Geral\\nEmpresa localizada na cidade ...   \n",
       "103  506987  Descrição Geral\\nEmpresa localizada na cidade ...   \n",
       "99   224107  Descrição Geral\\nEmpresa localizada na cidade ...   \n",
       "74     2700  Descrição Geral\\nEmpresa localizada na cidade ...   \n",
       "87   337837  Descrição Geral\\nEmpresa localizada na cidade ...   \n",
       "\n",
       "                                competencias_extraidas  \\\n",
       "2    {'Habilidades': ['vendas', 'atendimento ao cli...   \n",
       "30   {'Habilidades': ['manusear produtos de limpeza...   \n",
       "124  {'Habilidades': ['analisar o desenvolvimento d...   \n",
       "64   {'Habilidades': ['liderança e administração da...   \n",
       "146  {'Habilidades': ['organizar veículos', 'zelar ...   \n",
       "167  {'Habilidades': [\"'atendimento ao cliente'\", \"...   \n",
       "187  {'Habilidades': [''], 'Conhecimentos': [''], '...   \n",
       "94   {'Habilidades': ['prospecção do mercado', 'ven...   \n",
       "148  {'Habilidades': [''], 'Conhecimentos': [''], '...   \n",
       "63   {'Habilidades': [''], 'Conhecimentos': [''], '...   \n",
       "157  {'Habilidades': ['atendimento ao cliente', 'or...   \n",
       "14   {'Habilidades': ['desenvolver projetos eletrôn...   \n",
       "129  {'Habilidades': ['organizar a área de serviço'...   \n",
       "112  {'Habilidades': ['processo de admissão', 'onbo...   \n",
       "52   {'Habilidades': [\"'habilidades em cálculos fin...   \n",
       "75   {'Habilidades': [''], 'Conhecimentos': [''], '...   \n",
       "48   {'Habilidades': ['criar relatórios', 'acompanh...   \n",
       "21   {'Habilidades': [''], 'Conhecimentos': ['resci...   \n",
       "171  {'Habilidades': ['analisar projetos de produto...   \n",
       "77   {'Habilidades': [''], 'Conhecimentos': [''], '...   \n",
       "108  {'Habilidades': ['zelar pelo andamento das ati...   \n",
       "159  {'Habilidades': ['supervisionar equipe', 'lide...   \n",
       "142  {'Habilidades': ['controlar documentação', 'co...   \n",
       "177  {'Habilidades': ['treinamento', 'coletas de sa...   \n",
       "68   {'Habilidades': ['implementação', 'configuraçõ...   \n",
       "54   {'Habilidades': ['desenvolver planos de manute...   \n",
       "103  {'Habilidades': ['atendimento ao cliente', 'di...   \n",
       "99   {'Habilidades': ['atendimento ao cliente', 'co...   \n",
       "74   {'Habilidades': [''], 'Conhecimentos': [''], '...   \n",
       "87   {'Habilidades': ['comunicação verbal', 'comuni...   \n",
       "\n",
       "                                               ajustes  \n",
       "2    {'Habilidades': ['vendas', 'prospecção de clie...  \n",
       "30   {'Habilidades': ['limpeza em geral', 'manusear...  \n",
       "124  {'Habilidades': ['analisar o desenvolvimento d...  \n",
       "64   {'Habilidades': ['apoiar o engenheiro gestor a...  \n",
       "146  {'Habilidades': ['manobrar veículos', 'organiz...  \n",
       "167  {'Habilidades': [\"'atendimento ao cliente'\", \"...  \n",
       "187  {'Habilidades': ['serviços rotineiros operacio...  \n",
       "94   {'Habilidades': ['prospecção do mercado', 'ven...  \n",
       "148  {'Habilidades': ['limpeza e higienização das d...  \n",
       "63   {'Habilidades': ['recepção voltada para área d...  \n",
       "157  {'Habilidades': ['atendimento ao cliente', 'or...  \n",
       "14   {'Habilidades': ['desenvolver projetos eletrôn...  \n",
       "129  {'Habilidades': ['organizar a área de serviço'...  \n",
       "112  {'Habilidades': ['processo de admissão', 'onbo...  \n",
       "52   {'Habilidades': ['acompanhamento das movimenta...  \n",
       "75   {'Habilidades': ['recepção em consultório médi...  \n",
       "48   {'Habilidades': ['relacionamento com parceiros...  \n",
       "21   {'Habilidades': ['rescisões', 'férias'], 'Conh...  \n",
       "171  {'Habilidades': ['analisar projetos de produto...  \n",
       "77   {'Habilidades': [''], 'Conhecimentos': [''], '...  \n",
       "108  {'Habilidades': ['zelar pelo andamento das ati...  \n",
       "159  {'Habilidades': ['supervisionar equipe', 'lide...  \n",
       "142  {'Habilidades': ['controlar documentação e pra...  \n",
       "177  {'Habilidades': ['visitas de orientação de med...  \n",
       "68   {'Habilidades': ['certificações sap relevantes...  \n",
       "54   {'Habilidades': ['desenvolver planos de manute...  \n",
       "103  {'Habilidades': ['atendimento ao cliente', 'di...  \n",
       "99   {'Habilidades': ['atendimento ao cliente', 'co...  \n",
       "74   {'Habilidades': ['revenda de calcinhas, soutie...  \n",
       "87   {'Habilidades': ['avaliar a experiência do cli...  "
      ]
     },
     "execution_count": 114,
     "metadata": {},
     "output_type": "execute_result"
    }
   ],
   "source": [
    "# Filtrar linhas com ajustes preenchidos\n",
    "exemplos_ajustados = check[check[\"ajustes\"].notna()].copy()\n",
    "\n",
    "# Selecionar amostra para few-shot prompting\n",
    "amostra_exemplos = exemplos_ajustados.sample(n=min(30, len(exemplos_ajustados)), random_state=42)\n",
    "\n",
    "amostra_exemplos\n"
   ]
  },
  {
   "cell_type": "markdown",
   "metadata": {},
   "source": [
    "### EXPANSÃO DA BASE PARA 3 MIL VAGAS"
   ]
  },
  {
   "cell_type": "code",
   "execution_count": 174,
   "metadata": {},
   "outputs": [],
   "source": [
    "vagas_amostra2 = vagas.sample(3000)"
   ]
  },
  {
   "cell_type": "code",
   "execution_count": 153,
   "metadata": {},
   "outputs": [],
   "source": [
    "# Gera o prompt principal com os exemplos ajustados\n",
    "prompt_base = (\n",
    "    \"Você é um especialista em Processamento de Linguagem Natural (NLP) aplicado ao mercado de trabalho. \"\n",
    "    \"Sua tarefa é analisar descrições de vagas de emprego e identificar, de forma estruturada, cinco categorias de informações relacionadas ao perfil profissional desejado:\\n\\n\"\n",
    "    \"1. **Habilidades**: capacidades técnicas ou práticas que o candidato precisa demonstrar, como 'atendimento ao cliente', 'operar máquinas', 'vendas', 'comunicação assertiva';\\n\"\n",
    "    \"2. **Conhecimentos**: saberes técnicos, normativos ou teóricos necessários à função, como 'Excel', 'normas da Anvisa', 'legislação trabalhista'. **Não inclua níveis de escolaridade aqui**;\\n\"\n",
    "    \"3. **Atitudes e Valores**: comportamentos e disposições esperadas do profissional, como 'proatividade', 'trabalho em equipe', 'responsabilidade', 'ética', 'comprometimento';\\n\"\n",
    "    \"4. **Escolaridade**: grau de instrução exigido, como 'ensino fundamental completo', 'ensino médio completo', 'ensino superior', 'pós-graduação', 'mestrado', 'doutorado';\\n\"\n",
    "    \"5. **Certificações**: certificados técnicos ou profissionais específicos, como 'CPA10', 'CREA', 'CRT', 'SAP', 'ISO'.\\n\\n\"\n",
    "    \"Ignore informações que **não** dizem respeito diretamente ao perfil do candidato, como:\\n\"\n",
    "    \"- Nome da empresa;\\n\"\n",
    "    \"- Localização da vaga;\\n\"\n",
    "    \"- Jornada de trabalho;\\n\"\n",
    "    \"- Tipo de contrato;\\n\"\n",
    "    \"- Benefícios;\\n\"\n",
    "    \"- Requisitos vagos como “experiência prévia” sem detalhamento da atividade.\\n\\n\"\n",
    "    \"Você pode usar a seguinte lista de referência com habilidades, conhecimentos e atitudes derivada de currículos oficiais:\\n\"\n",
    "    f\"{habilidades_expandida}\\n\\n\"\n",
    "    \"Use essa lista como apoio para reconhecer termos similares mesmo com variações na linguagem.\\n\\n\"\n",
    "    \"Abaixo estão alguns exemplos de como a tarefa deve ser feita com base em descrições reais e seus respectivos resultados ajustados manualmente:\\n\"\n",
    ")\n",
    "\n",
    "# Adiciona exemplos com ajustes\n",
    "exemplos_ajustados = \"\"\n",
    "for _, row in amostra_exemplos.iterrows():\n",
    "    exemplos_ajustados += f\"\\nDescrição:\\n{row['description']}\\n\"\n",
    "    exemplos_ajustados += f\"Resultado:\\n{row['ajustes'].strip()}\\n\"\n",
    "\n",
    "# Prompt final com exemplos + instrução\n",
    "prompt_com_exemplos = prompt_base + exemplos_ajustados + \"\\nAgora, analise a próxima vaga:\\n\""
   ]
  },
  {
   "cell_type": "code",
   "execution_count": 170,
   "metadata": {},
   "outputs": [],
   "source": [
    "import re\n",
    "\n",
    "def analisar_vaga_gpt_com_exemplos(descricao):\n",
    "    if not isinstance(descricao, str) or descricao.strip() == \"\":\n",
    "        return {\n",
    "            \"Habilidades\": [], \"Conhecimentos\": [], \"Atitudes_Valores\": [],\n",
    "            \"Escolaridade\": [], \"Certificacoes\": []\n",
    "        }\n",
    "\n",
    "    try:\n",
    "        response = client.chat.completions.create(\n",
    "            model=\"gpt-4o-OpenAI-Prospeccao\",\n",
    "            messages=[\n",
    "                {\"role\": \"system\", \"content\": prompt_com_exemplos},\n",
    "                {\"role\": \"user\", \"content\": descricao}\n",
    "            ],\n",
    "            temperature=0,\n",
    "            max_tokens=1000\n",
    "        )\n",
    "        content = response.choices[0].message.content\n",
    "\n",
    "        # Inicializa o dicionário final\n",
    "        resultado = {\n",
    "            \"Habilidades\": [],\n",
    "            \"Conhecimentos\": [],\n",
    "            \"Atitudes_Valores\": [],\n",
    "            \"Escolaridade\": [],\n",
    "            \"Certificacoes\": []\n",
    "        }\n",
    "\n",
    "        # Pré-processa todo o conteúdo para remover colchetes e aspas\n",
    "        content = content.replace(\"[\", \"\").replace(\"]\", \"\").replace(\"'\", \"\").replace('\"', '').strip()\n",
    "\n",
    "        # Separar o conteúdo inteiro por linhas\n",
    "        linhas = content.split(\"\\n\")\n",
    "        secao_atual = None\n",
    "\n",
    "        for linha in linhas:\n",
    "            linha = linha.strip()\n",
    "            if not linha:\n",
    "                continue\n",
    "\n",
    "            if \":\" in linha:\n",
    "                chave, valor = linha.split(\":\", 1)\n",
    "                chave = chave.strip().lower()\n",
    "                valor = valor.strip()\n",
    "\n",
    "                if \"habilidade\" in chave:\n",
    "                    secao_atual = \"Habilidades\"\n",
    "                elif \"conhecimento\" in chave:\n",
    "                    secao_atual = \"Conhecimentos\"\n",
    "                elif \"atitude\" in chave:\n",
    "                    secao_atual = \"Atitudes_Valores\"\n",
    "                elif \"escolaridade\" in chave:\n",
    "                    secao_atual = \"Escolaridade\"\n",
    "                elif \"certificacao\" in chave:\n",
    "                    secao_atual = \"Certificacoes\"\n",
    "                else:\n",
    "                    secao_atual = None\n",
    "\n",
    "                if secao_atual and valor:\n",
    "                    resultado[secao_atual] = [item.strip() for item in valor.split(\",\") if item.strip()]\n",
    "            elif secao_atual:\n",
    "                # Se não tem \":\", mas é continuação de uma seção válida\n",
    "                resultado[secao_atual].extend(\n",
    "                    [item.strip() for item in linha.split(\",\") if item.strip()]\n",
    "                )\n",
    "\n",
    "        return resultado\n",
    "\n",
    "    except Exception as e:\n",
    "        print(f\"Erro: {e}\")\n",
    "        return {\n",
    "            \"Habilidades\": [], \"Conhecimentos\": [], \"Atitudes_Valores\": [],\n",
    "            \"Escolaridade\": [], \"Certificacoes\": []\n",
    "        }"
   ]
  },
  {
   "cell_type": "code",
   "execution_count": 175,
   "metadata": {},
   "outputs": [
    {
     "name": "stderr",
     "output_type": "stream",
     "text": [
      "  6%|▌         | 186/3000 [1:03:05<18:17:38, 23.40s/it]"
     ]
    },
    {
     "name": "stdout",
     "output_type": "stream",
     "text": [
      "Erro: Error code: 400 - {'error': {'message': \"The response was filtered due to the prompt triggering Azure OpenAI's content management policy. Please modify your prompt and retry. To learn more about our content filtering policies please read our documentation: https://go.microsoft.com/fwlink/?linkid=2198766\", 'type': None, 'param': 'prompt', 'code': 'content_filter', 'status': 400, 'innererror': {'code': 'ResponsibleAIPolicyViolation', 'content_filter_result': {'hate': {'filtered': False, 'severity': 'safe'}, 'jailbreak': {'filtered': False, 'detected': False}, 'self_harm': {'filtered': False, 'severity': 'safe'}, 'sexual': {'filtered': True, 'severity': 'medium'}, 'violence': {'filtered': False, 'severity': 'safe'}}}}}\n"
     ]
    },
    {
     "name": "stderr",
     "output_type": "stream",
     "text": [
      " 17%|█▋        | 507/3000 [2:53:08<20:51:12, 30.11s/it]"
     ]
    },
    {
     "name": "stdout",
     "output_type": "stream",
     "text": [
      "Erro: Connection error.\n"
     ]
    },
    {
     "name": "stderr",
     "output_type": "stream",
     "text": [
      " 62%|██████▏   | 1871/3000 [10:48:22<6:06:27, 19.48s/it] "
     ]
    },
    {
     "name": "stdout",
     "output_type": "stream",
     "text": [
      "Erro: Error code: 400 - {'error': {'message': \"The response was filtered due to the prompt triggering Azure OpenAI's content management policy. Please modify your prompt and retry. To learn more about our content filtering policies please read our documentation: https://go.microsoft.com/fwlink/?linkid=2198766\", 'type': None, 'param': 'prompt', 'code': 'content_filter', 'status': 400, 'innererror': {'code': 'ResponsibleAIPolicyViolation', 'content_filter_result': {'hate': {'filtered': False, 'severity': 'safe'}, 'jailbreak': {'filtered': False, 'detected': False}, 'self_harm': {'filtered': False, 'severity': 'safe'}, 'sexual': {'filtered': True, 'severity': 'medium'}, 'violence': {'filtered': False, 'severity': 'safe'}}}}}\n"
     ]
    },
    {
     "name": "stderr",
     "output_type": "stream",
     "text": [
      " 84%|████████▍ | 2513/3000 [14:27:40<2:40:17, 19.75s/it]"
     ]
    },
    {
     "name": "stdout",
     "output_type": "stream",
     "text": [
      "Erro: Error code: 400 - {'error': {'message': \"The response was filtered due to the prompt triggering Azure OpenAI's content management policy. Please modify your prompt and retry. To learn more about our content filtering policies please read our documentation: https://go.microsoft.com/fwlink/?linkid=2198766\", 'type': None, 'param': 'prompt', 'code': 'content_filter', 'status': 400, 'innererror': {'code': 'ResponsibleAIPolicyViolation', 'content_filter_result': {'hate': {'filtered': False, 'severity': 'safe'}, 'jailbreak': {'filtered': False, 'detected': False}, 'self_harm': {'filtered': False, 'severity': 'safe'}, 'sexual': {'filtered': True, 'severity': 'medium'}, 'violence': {'filtered': False, 'severity': 'safe'}}}}}\n"
     ]
    },
    {
     "name": "stderr",
     "output_type": "stream",
     "text": [
      "100%|██████████| 3000/3000 [17:14:30<00:00, 20.69s/it]  \n"
     ]
    }
   ],
   "source": [
    "vagas_amostra2[\"competencias_extraidas\"] = vagas_amostra2[\"description\"].progress_apply(analisar_vaga_gpt_com_exemplos)"
   ]
  },
  {
   "cell_type": "code",
   "execution_count": 242,
   "metadata": {},
   "outputs": [
    {
     "data": {
      "text/html": [
       "<div>\n",
       "<style scoped>\n",
       "    .dataframe tbody tr th:only-of-type {\n",
       "        vertical-align: middle;\n",
       "    }\n",
       "\n",
       "    .dataframe tbody tr th {\n",
       "        vertical-align: top;\n",
       "    }\n",
       "\n",
       "    .dataframe thead th {\n",
       "        text-align: right;\n",
       "    }\n",
       "</style>\n",
       "<table border=\"1\" class=\"dataframe\">\n",
       "  <thead>\n",
       "    <tr style=\"text-align: right;\">\n",
       "      <th></th>\n",
       "      <th>Unnamed: 0.1</th>\n",
       "      <th>Unnamed: 0</th>\n",
       "      <th>source</th>\n",
       "      <th>identifier</th>\n",
       "      <th>uuid</th>\n",
       "      <th>title</th>\n",
       "      <th>title_standardized</th>\n",
       "      <th>description</th>\n",
       "      <th>descricao_clean</th>\n",
       "      <th>ramo_atividade</th>\n",
       "      <th>competencias_extraidas</th>\n",
       "    </tr>\n",
       "  </thead>\n",
       "  <tbody>\n",
       "    <tr>\n",
       "      <th>0</th>\n",
       "      <td>0</td>\n",
       "      <td>89329</td>\n",
       "      <td>BNE</td>\n",
       "      <td>4346041</td>\n",
       "      <td>C9F9D669-B185-4078-AD4C-882F014273E7</td>\n",
       "      <td>chapeiro</td>\n",
       "      <td>chapeiro</td>\n",
       "      <td>Descrição Geral\\nEmpresa localizada na cidade ...</td>\n",
       "      <td>chapeiro.,vaga para chapeiro de horário oturno...</td>\n",
       "      <td>metal mecanico</td>\n",
       "      <td>{'Habilidades': ['manuseio de chapa', 'manusei...</td>\n",
       "    </tr>\n",
       "    <tr>\n",
       "      <th>1</th>\n",
       "      <td>1</td>\n",
       "      <td>363048</td>\n",
       "      <td>BNE</td>\n",
       "      <td>4307019</td>\n",
       "      <td>52C0DAAA-12D0-411A-BC9C-E0CFE3BDE34B</td>\n",
       "      <td>estagiário</td>\n",
       "      <td>estagiario</td>\n",
       "      <td>Descrição Geral\\nEmpresa localizada na cidade ...</td>\n",
       "      <td>estagiário., ser estudante de engenharia civil...</td>\n",
       "      <td>administrativo</td>\n",
       "      <td>{'Habilidades': ['desenho arquitetônico', 'Con...</td>\n",
       "    </tr>\n",
       "    <tr>\n",
       "      <th>2</th>\n",
       "      <td>2</td>\n",
       "      <td>488515</td>\n",
       "      <td>BNE</td>\n",
       "      <td>4385222</td>\n",
       "      <td>22899E4A-1DCB-4EC0-AD40-D1FB3104BE42</td>\n",
       "      <td>analista de departamento pessoal</td>\n",
       "      <td>analista departamento pessoal</td>\n",
       "      <td>Descrição Geral\\nEmpresa localizada na cidade ...</td>\n",
       "      <td>analista de departamento pessoal.,atividades: ...</td>\n",
       "      <td>recursos humanos</td>\n",
       "      <td>{'Habilidades': ['eventos rotina dp em geral',...</td>\n",
       "    </tr>\n",
       "    <tr>\n",
       "      <th>3</th>\n",
       "      <td>3</td>\n",
       "      <td>546955</td>\n",
       "      <td>BNE</td>\n",
       "      <td>3967618</td>\n",
       "      <td>49D0ED16-087C-4E99-A28B-5BE7A29F9226</td>\n",
       "      <td>Suporte Técnico</td>\n",
       "      <td>suporte tecnico</td>\n",
       "      <td>Descrição Geral\\nEmpresa localizada na cidade ...</td>\n",
       "      <td>suporte técnico.,com conhecimento técnico e pr...</td>\n",
       "      <td>informatica</td>\n",
       "      <td>{'Habilidades': ['manutenção de interfones', '...</td>\n",
       "    </tr>\n",
       "    <tr>\n",
       "      <th>4</th>\n",
       "      <td>4</td>\n",
       "      <td>396472</td>\n",
       "      <td>BNE</td>\n",
       "      <td>4047696</td>\n",
       "      <td>9FC80823-A716-40C6-8F92-45F59A49AE2B</td>\n",
       "      <td>vendedor</td>\n",
       "      <td>vendedor</td>\n",
       "      <td>Descrição Geral\\nEmpresa localizada na cidade ...</td>\n",
       "      <td>vendedor., boa comunicação, disponibilidade de...</td>\n",
       "      <td>comercio</td>\n",
       "      <td>{'Habilidades': ['atendimento ao público', 'Co...</td>\n",
       "    </tr>\n",
       "    <tr>\n",
       "      <th>...</th>\n",
       "      <td>...</td>\n",
       "      <td>...</td>\n",
       "      <td>...</td>\n",
       "      <td>...</td>\n",
       "      <td>...</td>\n",
       "      <td>...</td>\n",
       "      <td>...</td>\n",
       "      <td>...</td>\n",
       "      <td>...</td>\n",
       "      <td>...</td>\n",
       "      <td>...</td>\n",
       "    </tr>\n",
       "    <tr>\n",
       "      <th>2995</th>\n",
       "      <td>2995</td>\n",
       "      <td>387671</td>\n",
       "      <td>BNE</td>\n",
       "      <td>4219906</td>\n",
       "      <td>B3BDC1E5-B1FB-4DC3-AE4B-6C70EA46D550</td>\n",
       "      <td>montador de móveis</td>\n",
       "      <td>montador moveis</td>\n",
       "      <td>Descrição Geral\\nEmpresa localizada na cidade ...</td>\n",
       "      <td>montador de móveis.,vaga para montador de móve...</td>\n",
       "      <td>moveis</td>\n",
       "      <td>{'Habilidades': ['montagem de móveis', 'Conhec...</td>\n",
       "    </tr>\n",
       "    <tr>\n",
       "      <th>2996</th>\n",
       "      <td>2996</td>\n",
       "      <td>295233</td>\n",
       "      <td>BNE</td>\n",
       "      <td>4391549</td>\n",
       "      <td>8F476A07-0915-41FF-9243-EE2EA7A5827A</td>\n",
       "      <td>operador de caixa</td>\n",
       "      <td>operador caixa</td>\n",
       "      <td>Descrição Geral\\nEmpresa localizada na cidade ...</td>\n",
       "      <td>operador de caixa.,empresa: cinco estrelas cas...</td>\n",
       "      <td>financeiro</td>\n",
       "      <td>{'Habilidades': ['Conhecimentos:', 'Atitudes_V...</td>\n",
       "    </tr>\n",
       "    <tr>\n",
       "      <th>2997</th>\n",
       "      <td>2997</td>\n",
       "      <td>106118</td>\n",
       "      <td>BNE</td>\n",
       "      <td>4026603</td>\n",
       "      <td>ECAC7277-9D5E-4142-A022-CB237E190317</td>\n",
       "      <td>auxiliar comercial</td>\n",
       "      <td>auxiliar comercial</td>\n",
       "      <td>Descrição Geral\\nEmpresa localizada na cidade ...</td>\n",
       "      <td>auxiliar comercial.,suporte ao time comercial,...</td>\n",
       "      <td>comercio</td>\n",
       "      <td>{'Habilidades': ['suporte ao time comercial', ...</td>\n",
       "    </tr>\n",
       "    <tr>\n",
       "      <th>2998</th>\n",
       "      <td>2998</td>\n",
       "      <td>457735</td>\n",
       "      <td>BNE</td>\n",
       "      <td>4029892</td>\n",
       "      <td>F280B1CE-C87A-4FFE-914A-DE929D9A3E2A</td>\n",
       "      <td>Auxiliar de Contabilidade</td>\n",
       "      <td>auxiliar contabilidade</td>\n",
       "      <td>Descrição Geral\\nEmpresa localizada na cidade ...</td>\n",
       "      <td>auxiliar de contabilidade.,experiência em trib...</td>\n",
       "      <td>contabilidade</td>\n",
       "      <td>{'Habilidades': ['importação de folha de pagam...</td>\n",
       "    </tr>\n",
       "    <tr>\n",
       "      <th>2999</th>\n",
       "      <td>2999</td>\n",
       "      <td>348810</td>\n",
       "      <td>BNE</td>\n",
       "      <td>3956644</td>\n",
       "      <td>5CFA4A99-2EE8-44C9-81BE-FC798C6C93C3</td>\n",
       "      <td>técnico em segurança do trabalho</td>\n",
       "      <td>tecnico seguranca</td>\n",
       "      <td>Descrição Geral\\nEmpresa localizada na cidade ...</td>\n",
       "      <td>técnico em segurança do trabalho.,para início ...</td>\n",
       "      <td>construcao</td>\n",
       "      <td>{'Habilidades': ['Conhecimentos:', 'Atitudes_V...</td>\n",
       "    </tr>\n",
       "  </tbody>\n",
       "</table>\n",
       "<p>3000 rows × 11 columns</p>\n",
       "</div>"
      ],
      "text/plain": [
       "      Unnamed: 0.1  Unnamed: 0 source  identifier  \\\n",
       "0                0       89329    BNE     4346041   \n",
       "1                1      363048    BNE     4307019   \n",
       "2                2      488515    BNE     4385222   \n",
       "3                3      546955    BNE     3967618   \n",
       "4                4      396472    BNE     4047696   \n",
       "...            ...         ...    ...         ...   \n",
       "2995          2995      387671    BNE     4219906   \n",
       "2996          2996      295233    BNE     4391549   \n",
       "2997          2997      106118    BNE     4026603   \n",
       "2998          2998      457735    BNE     4029892   \n",
       "2999          2999      348810    BNE     3956644   \n",
       "\n",
       "                                      uuid                             title  \\\n",
       "0     C9F9D669-B185-4078-AD4C-882F014273E7                          chapeiro   \n",
       "1     52C0DAAA-12D0-411A-BC9C-E0CFE3BDE34B                        estagiário   \n",
       "2     22899E4A-1DCB-4EC0-AD40-D1FB3104BE42  analista de departamento pessoal   \n",
       "3     49D0ED16-087C-4E99-A28B-5BE7A29F9226                   Suporte Técnico   \n",
       "4     9FC80823-A716-40C6-8F92-45F59A49AE2B                          vendedor   \n",
       "...                                    ...                               ...   \n",
       "2995  B3BDC1E5-B1FB-4DC3-AE4B-6C70EA46D550                montador de móveis   \n",
       "2996  8F476A07-0915-41FF-9243-EE2EA7A5827A                 operador de caixa   \n",
       "2997  ECAC7277-9D5E-4142-A022-CB237E190317                auxiliar comercial   \n",
       "2998  F280B1CE-C87A-4FFE-914A-DE929D9A3E2A         Auxiliar de Contabilidade   \n",
       "2999  5CFA4A99-2EE8-44C9-81BE-FC798C6C93C3  técnico em segurança do trabalho   \n",
       "\n",
       "                 title_standardized  \\\n",
       "0                          chapeiro   \n",
       "1                        estagiario   \n",
       "2     analista departamento pessoal   \n",
       "3                   suporte tecnico   \n",
       "4                          vendedor   \n",
       "...                             ...   \n",
       "2995                montador moveis   \n",
       "2996                 operador caixa   \n",
       "2997             auxiliar comercial   \n",
       "2998         auxiliar contabilidade   \n",
       "2999              tecnico seguranca   \n",
       "\n",
       "                                            description  \\\n",
       "0     Descrição Geral\\nEmpresa localizada na cidade ...   \n",
       "1     Descrição Geral\\nEmpresa localizada na cidade ...   \n",
       "2     Descrição Geral\\nEmpresa localizada na cidade ...   \n",
       "3     Descrição Geral\\nEmpresa localizada na cidade ...   \n",
       "4     Descrição Geral\\nEmpresa localizada na cidade ...   \n",
       "...                                                 ...   \n",
       "2995  Descrição Geral\\nEmpresa localizada na cidade ...   \n",
       "2996  Descrição Geral\\nEmpresa localizada na cidade ...   \n",
       "2997  Descrição Geral\\nEmpresa localizada na cidade ...   \n",
       "2998  Descrição Geral\\nEmpresa localizada na cidade ...   \n",
       "2999  Descrição Geral\\nEmpresa localizada na cidade ...   \n",
       "\n",
       "                                        descricao_clean    ramo_atividade  \\\n",
       "0     chapeiro.,vaga para chapeiro de horário oturno...    metal mecanico   \n",
       "1     estagiário., ser estudante de engenharia civil...    administrativo   \n",
       "2     analista de departamento pessoal.,atividades: ...  recursos humanos   \n",
       "3     suporte técnico.,com conhecimento técnico e pr...       informatica   \n",
       "4     vendedor., boa comunicação, disponibilidade de...          comercio   \n",
       "...                                                 ...               ...   \n",
       "2995  montador de móveis.,vaga para montador de móve...            moveis   \n",
       "2996  operador de caixa.,empresa: cinco estrelas cas...        financeiro   \n",
       "2997  auxiliar comercial.,suporte ao time comercial,...          comercio   \n",
       "2998  auxiliar de contabilidade.,experiência em trib...     contabilidade   \n",
       "2999  técnico em segurança do trabalho.,para início ...        construcao   \n",
       "\n",
       "                                 competencias_extraidas  \n",
       "0     {'Habilidades': ['manuseio de chapa', 'manusei...  \n",
       "1     {'Habilidades': ['desenho arquitetônico', 'Con...  \n",
       "2     {'Habilidades': ['eventos rotina dp em geral',...  \n",
       "3     {'Habilidades': ['manutenção de interfones', '...  \n",
       "4     {'Habilidades': ['atendimento ao público', 'Co...  \n",
       "...                                                 ...  \n",
       "2995  {'Habilidades': ['montagem de móveis', 'Conhec...  \n",
       "2996  {'Habilidades': ['Conhecimentos:', 'Atitudes_V...  \n",
       "2997  {'Habilidades': ['suporte ao time comercial', ...  \n",
       "2998  {'Habilidades': ['importação de folha de pagam...  \n",
       "2999  {'Habilidades': ['Conhecimentos:', 'Atitudes_V...  \n",
       "\n",
       "[3000 rows x 11 columns]"
      ]
     },
     "execution_count": 242,
     "metadata": {},
     "output_type": "execute_result"
    }
   ],
   "source": [
    "vagas_amostra2 = pd.read_csv(diretorio + 'base_treino_gpt.csv', sep=\";\")\n",
    "vagas_amostra2"
   ]
  },
  {
   "cell_type": "code",
   "execution_count": 243,
   "metadata": {},
   "outputs": [],
   "source": [
    "teste = vagas_amostra2"
   ]
  },
  {
   "cell_type": "code",
   "execution_count": 244,
   "metadata": {},
   "outputs": [
    {
     "data": {
      "text/html": [
       "<div>\n",
       "<style scoped>\n",
       "    .dataframe tbody tr th:only-of-type {\n",
       "        vertical-align: middle;\n",
       "    }\n",
       "\n",
       "    .dataframe tbody tr th {\n",
       "        vertical-align: top;\n",
       "    }\n",
       "\n",
       "    .dataframe thead th {\n",
       "        text-align: right;\n",
       "    }\n",
       "</style>\n",
       "<table border=\"1\" class=\"dataframe\">\n",
       "  <thead>\n",
       "    <tr style=\"text-align: right;\">\n",
       "      <th></th>\n",
       "      <th>Unnamed: 0.1</th>\n",
       "      <th>Unnamed: 0</th>\n",
       "      <th>source</th>\n",
       "      <th>identifier</th>\n",
       "      <th>uuid</th>\n",
       "      <th>title</th>\n",
       "      <th>title_standardized</th>\n",
       "      <th>description</th>\n",
       "      <th>descricao_clean</th>\n",
       "      <th>ramo_atividade</th>\n",
       "      <th>competencias_extraidas</th>\n",
       "    </tr>\n",
       "  </thead>\n",
       "  <tbody>\n",
       "    <tr>\n",
       "      <th>0</th>\n",
       "      <td>0</td>\n",
       "      <td>89329</td>\n",
       "      <td>BNE</td>\n",
       "      <td>4346041</td>\n",
       "      <td>C9F9D669-B185-4078-AD4C-882F014273E7</td>\n",
       "      <td>chapeiro</td>\n",
       "      <td>chapeiro</td>\n",
       "      <td>Descrição Geral\\nEmpresa localizada na cidade ...</td>\n",
       "      <td>chapeiro.,vaga para chapeiro de horário oturno...</td>\n",
       "      <td>metal mecanico</td>\n",
       "      <td>{'Habilidades': ['manuseio de chapa', 'manusei...</td>\n",
       "    </tr>\n",
       "    <tr>\n",
       "      <th>1</th>\n",
       "      <td>1</td>\n",
       "      <td>363048</td>\n",
       "      <td>BNE</td>\n",
       "      <td>4307019</td>\n",
       "      <td>52C0DAAA-12D0-411A-BC9C-E0CFE3BDE34B</td>\n",
       "      <td>estagiário</td>\n",
       "      <td>estagiario</td>\n",
       "      <td>Descrição Geral\\nEmpresa localizada na cidade ...</td>\n",
       "      <td>estagiário., ser estudante de engenharia civil...</td>\n",
       "      <td>administrativo</td>\n",
       "      <td>{'Habilidades': ['desenho arquitetônico', 'Con...</td>\n",
       "    </tr>\n",
       "    <tr>\n",
       "      <th>2</th>\n",
       "      <td>2</td>\n",
       "      <td>488515</td>\n",
       "      <td>BNE</td>\n",
       "      <td>4385222</td>\n",
       "      <td>22899E4A-1DCB-4EC0-AD40-D1FB3104BE42</td>\n",
       "      <td>analista de departamento pessoal</td>\n",
       "      <td>analista departamento pessoal</td>\n",
       "      <td>Descrição Geral\\nEmpresa localizada na cidade ...</td>\n",
       "      <td>analista de departamento pessoal.,atividades: ...</td>\n",
       "      <td>recursos humanos</td>\n",
       "      <td>{'Habilidades': ['eventos rotina dp em geral',...</td>\n",
       "    </tr>\n",
       "    <tr>\n",
       "      <th>3</th>\n",
       "      <td>3</td>\n",
       "      <td>546955</td>\n",
       "      <td>BNE</td>\n",
       "      <td>3967618</td>\n",
       "      <td>49D0ED16-087C-4E99-A28B-5BE7A29F9226</td>\n",
       "      <td>Suporte Técnico</td>\n",
       "      <td>suporte tecnico</td>\n",
       "      <td>Descrição Geral\\nEmpresa localizada na cidade ...</td>\n",
       "      <td>suporte técnico.,com conhecimento técnico e pr...</td>\n",
       "      <td>informatica</td>\n",
       "      <td>{'Habilidades': ['manutenção de interfones', '...</td>\n",
       "    </tr>\n",
       "    <tr>\n",
       "      <th>4</th>\n",
       "      <td>4</td>\n",
       "      <td>396472</td>\n",
       "      <td>BNE</td>\n",
       "      <td>4047696</td>\n",
       "      <td>9FC80823-A716-40C6-8F92-45F59A49AE2B</td>\n",
       "      <td>vendedor</td>\n",
       "      <td>vendedor</td>\n",
       "      <td>Descrição Geral\\nEmpresa localizada na cidade ...</td>\n",
       "      <td>vendedor., boa comunicação, disponibilidade de...</td>\n",
       "      <td>comercio</td>\n",
       "      <td>{'Habilidades': ['atendimento ao público', 'Co...</td>\n",
       "    </tr>\n",
       "    <tr>\n",
       "      <th>...</th>\n",
       "      <td>...</td>\n",
       "      <td>...</td>\n",
       "      <td>...</td>\n",
       "      <td>...</td>\n",
       "      <td>...</td>\n",
       "      <td>...</td>\n",
       "      <td>...</td>\n",
       "      <td>...</td>\n",
       "      <td>...</td>\n",
       "      <td>...</td>\n",
       "      <td>...</td>\n",
       "    </tr>\n",
       "    <tr>\n",
       "      <th>2995</th>\n",
       "      <td>2995</td>\n",
       "      <td>387671</td>\n",
       "      <td>BNE</td>\n",
       "      <td>4219906</td>\n",
       "      <td>B3BDC1E5-B1FB-4DC3-AE4B-6C70EA46D550</td>\n",
       "      <td>montador de móveis</td>\n",
       "      <td>montador moveis</td>\n",
       "      <td>Descrição Geral\\nEmpresa localizada na cidade ...</td>\n",
       "      <td>montador de móveis.,vaga para montador de móve...</td>\n",
       "      <td>moveis</td>\n",
       "      <td>{'Habilidades': ['montagem de móveis', 'Conhec...</td>\n",
       "    </tr>\n",
       "    <tr>\n",
       "      <th>2996</th>\n",
       "      <td>2996</td>\n",
       "      <td>295233</td>\n",
       "      <td>BNE</td>\n",
       "      <td>4391549</td>\n",
       "      <td>8F476A07-0915-41FF-9243-EE2EA7A5827A</td>\n",
       "      <td>operador de caixa</td>\n",
       "      <td>operador caixa</td>\n",
       "      <td>Descrição Geral\\nEmpresa localizada na cidade ...</td>\n",
       "      <td>operador de caixa.,empresa: cinco estrelas cas...</td>\n",
       "      <td>financeiro</td>\n",
       "      <td>{'Habilidades': ['Conhecimentos:', 'Atitudes_V...</td>\n",
       "    </tr>\n",
       "    <tr>\n",
       "      <th>2997</th>\n",
       "      <td>2997</td>\n",
       "      <td>106118</td>\n",
       "      <td>BNE</td>\n",
       "      <td>4026603</td>\n",
       "      <td>ECAC7277-9D5E-4142-A022-CB237E190317</td>\n",
       "      <td>auxiliar comercial</td>\n",
       "      <td>auxiliar comercial</td>\n",
       "      <td>Descrição Geral\\nEmpresa localizada na cidade ...</td>\n",
       "      <td>auxiliar comercial.,suporte ao time comercial,...</td>\n",
       "      <td>comercio</td>\n",
       "      <td>{'Habilidades': ['suporte ao time comercial', ...</td>\n",
       "    </tr>\n",
       "    <tr>\n",
       "      <th>2998</th>\n",
       "      <td>2998</td>\n",
       "      <td>457735</td>\n",
       "      <td>BNE</td>\n",
       "      <td>4029892</td>\n",
       "      <td>F280B1CE-C87A-4FFE-914A-DE929D9A3E2A</td>\n",
       "      <td>Auxiliar de Contabilidade</td>\n",
       "      <td>auxiliar contabilidade</td>\n",
       "      <td>Descrição Geral\\nEmpresa localizada na cidade ...</td>\n",
       "      <td>auxiliar de contabilidade.,experiência em trib...</td>\n",
       "      <td>contabilidade</td>\n",
       "      <td>{'Habilidades': ['importação de folha de pagam...</td>\n",
       "    </tr>\n",
       "    <tr>\n",
       "      <th>2999</th>\n",
       "      <td>2999</td>\n",
       "      <td>348810</td>\n",
       "      <td>BNE</td>\n",
       "      <td>3956644</td>\n",
       "      <td>5CFA4A99-2EE8-44C9-81BE-FC798C6C93C3</td>\n",
       "      <td>técnico em segurança do trabalho</td>\n",
       "      <td>tecnico seguranca</td>\n",
       "      <td>Descrição Geral\\nEmpresa localizada na cidade ...</td>\n",
       "      <td>técnico em segurança do trabalho.,para início ...</td>\n",
       "      <td>construcao</td>\n",
       "      <td>{'Habilidades': ['Conhecimentos:', 'Atitudes_V...</td>\n",
       "    </tr>\n",
       "  </tbody>\n",
       "</table>\n",
       "<p>3000 rows × 11 columns</p>\n",
       "</div>"
      ],
      "text/plain": [
       "      Unnamed: 0.1  Unnamed: 0 source  identifier  \\\n",
       "0                0       89329    BNE     4346041   \n",
       "1                1      363048    BNE     4307019   \n",
       "2                2      488515    BNE     4385222   \n",
       "3                3      546955    BNE     3967618   \n",
       "4                4      396472    BNE     4047696   \n",
       "...            ...         ...    ...         ...   \n",
       "2995          2995      387671    BNE     4219906   \n",
       "2996          2996      295233    BNE     4391549   \n",
       "2997          2997      106118    BNE     4026603   \n",
       "2998          2998      457735    BNE     4029892   \n",
       "2999          2999      348810    BNE     3956644   \n",
       "\n",
       "                                      uuid                             title  \\\n",
       "0     C9F9D669-B185-4078-AD4C-882F014273E7                          chapeiro   \n",
       "1     52C0DAAA-12D0-411A-BC9C-E0CFE3BDE34B                        estagiário   \n",
       "2     22899E4A-1DCB-4EC0-AD40-D1FB3104BE42  analista de departamento pessoal   \n",
       "3     49D0ED16-087C-4E99-A28B-5BE7A29F9226                   Suporte Técnico   \n",
       "4     9FC80823-A716-40C6-8F92-45F59A49AE2B                          vendedor   \n",
       "...                                    ...                               ...   \n",
       "2995  B3BDC1E5-B1FB-4DC3-AE4B-6C70EA46D550                montador de móveis   \n",
       "2996  8F476A07-0915-41FF-9243-EE2EA7A5827A                 operador de caixa   \n",
       "2997  ECAC7277-9D5E-4142-A022-CB237E190317                auxiliar comercial   \n",
       "2998  F280B1CE-C87A-4FFE-914A-DE929D9A3E2A         Auxiliar de Contabilidade   \n",
       "2999  5CFA4A99-2EE8-44C9-81BE-FC798C6C93C3  técnico em segurança do trabalho   \n",
       "\n",
       "                 title_standardized  \\\n",
       "0                          chapeiro   \n",
       "1                        estagiario   \n",
       "2     analista departamento pessoal   \n",
       "3                   suporte tecnico   \n",
       "4                          vendedor   \n",
       "...                             ...   \n",
       "2995                montador moveis   \n",
       "2996                 operador caixa   \n",
       "2997             auxiliar comercial   \n",
       "2998         auxiliar contabilidade   \n",
       "2999              tecnico seguranca   \n",
       "\n",
       "                                            description  \\\n",
       "0     Descrição Geral\\nEmpresa localizada na cidade ...   \n",
       "1     Descrição Geral\\nEmpresa localizada na cidade ...   \n",
       "2     Descrição Geral\\nEmpresa localizada na cidade ...   \n",
       "3     Descrição Geral\\nEmpresa localizada na cidade ...   \n",
       "4     Descrição Geral\\nEmpresa localizada na cidade ...   \n",
       "...                                                 ...   \n",
       "2995  Descrição Geral\\nEmpresa localizada na cidade ...   \n",
       "2996  Descrição Geral\\nEmpresa localizada na cidade ...   \n",
       "2997  Descrição Geral\\nEmpresa localizada na cidade ...   \n",
       "2998  Descrição Geral\\nEmpresa localizada na cidade ...   \n",
       "2999  Descrição Geral\\nEmpresa localizada na cidade ...   \n",
       "\n",
       "                                        descricao_clean    ramo_atividade  \\\n",
       "0     chapeiro.,vaga para chapeiro de horário oturno...    metal mecanico   \n",
       "1     estagiário., ser estudante de engenharia civil...    administrativo   \n",
       "2     analista de departamento pessoal.,atividades: ...  recursos humanos   \n",
       "3     suporte técnico.,com conhecimento técnico e pr...       informatica   \n",
       "4     vendedor., boa comunicação, disponibilidade de...          comercio   \n",
       "...                                                 ...               ...   \n",
       "2995  montador de móveis.,vaga para montador de móve...            moveis   \n",
       "2996  operador de caixa.,empresa: cinco estrelas cas...        financeiro   \n",
       "2997  auxiliar comercial.,suporte ao time comercial,...          comercio   \n",
       "2998  auxiliar de contabilidade.,experiência em trib...     contabilidade   \n",
       "2999  técnico em segurança do trabalho.,para início ...        construcao   \n",
       "\n",
       "                                 competencias_extraidas  \n",
       "0     {'Habilidades': ['manuseio de chapa', 'manusei...  \n",
       "1     {'Habilidades': ['desenho arquitetônico', 'Con...  \n",
       "2     {'Habilidades': ['eventos rotina dp em geral',...  \n",
       "3     {'Habilidades': ['manutenção de interfones', '...  \n",
       "4     {'Habilidades': ['atendimento ao público', 'Co...  \n",
       "...                                                 ...  \n",
       "2995  {'Habilidades': ['montagem de móveis', 'Conhec...  \n",
       "2996  {'Habilidades': ['Conhecimentos:', 'Atitudes_V...  \n",
       "2997  {'Habilidades': ['suporte ao time comercial', ...  \n",
       "2998  {'Habilidades': ['importação de folha de pagam...  \n",
       "2999  {'Habilidades': ['Conhecimentos:', 'Atitudes_V...  \n",
       "\n",
       "[3000 rows x 11 columns]"
      ]
     },
     "execution_count": 244,
     "metadata": {},
     "output_type": "execute_result"
    }
   ],
   "source": [
    "teste[\"competencias_extraidas\"] = teste[\"competencias_extraidas\"].astype(str).str.extract(r\"(.*?})\")[0]\n",
    "teste"
   ]
  },
  {
   "cell_type": "code",
   "execution_count": 245,
   "metadata": {},
   "outputs": [
    {
     "data": {
      "text/html": [
       "<div>\n",
       "<style scoped>\n",
       "    .dataframe tbody tr th:only-of-type {\n",
       "        vertical-align: middle;\n",
       "    }\n",
       "\n",
       "    .dataframe tbody tr th {\n",
       "        vertical-align: top;\n",
       "    }\n",
       "\n",
       "    .dataframe thead th {\n",
       "        text-align: right;\n",
       "    }\n",
       "</style>\n",
       "<table border=\"1\" class=\"dataframe\">\n",
       "  <thead>\n",
       "    <tr style=\"text-align: right;\">\n",
       "      <th></th>\n",
       "      <th>Unnamed: 0.1</th>\n",
       "      <th>Unnamed: 0</th>\n",
       "      <th>source</th>\n",
       "      <th>identifier</th>\n",
       "      <th>uuid</th>\n",
       "      <th>title</th>\n",
       "      <th>title_standardized</th>\n",
       "      <th>description</th>\n",
       "      <th>descricao_clean</th>\n",
       "      <th>ramo_atividade</th>\n",
       "      <th>competencias_extraidas</th>\n",
       "    </tr>\n",
       "  </thead>\n",
       "  <tbody>\n",
       "    <tr>\n",
       "      <th>0</th>\n",
       "      <td>0</td>\n",
       "      <td>89329</td>\n",
       "      <td>BNE</td>\n",
       "      <td>4346041</td>\n",
       "      <td>C9F9D669-B185-4078-AD4C-882F014273E7</td>\n",
       "      <td>chapeiro</td>\n",
       "      <td>chapeiro</td>\n",
       "      <td>Descrição Geral\\nEmpresa localizada na cidade ...</td>\n",
       "      <td>chapeiro.,vaga para chapeiro de horário oturno...</td>\n",
       "      <td>metal mecanico</td>\n",
       "      <td>{'Habilidades': 'manuseio de chapa', 'manuseio...</td>\n",
       "    </tr>\n",
       "    <tr>\n",
       "      <th>1</th>\n",
       "      <td>1</td>\n",
       "      <td>363048</td>\n",
       "      <td>BNE</td>\n",
       "      <td>4307019</td>\n",
       "      <td>52C0DAAA-12D0-411A-BC9C-E0CFE3BDE34B</td>\n",
       "      <td>estagiário</td>\n",
       "      <td>estagiario</td>\n",
       "      <td>Descrição Geral\\nEmpresa localizada na cidade ...</td>\n",
       "      <td>estagiário., ser estudante de engenharia civil...</td>\n",
       "      <td>administrativo</td>\n",
       "      <td>{'Habilidades': 'desenho arquitetônico', 'Conh...</td>\n",
       "    </tr>\n",
       "    <tr>\n",
       "      <th>2</th>\n",
       "      <td>2</td>\n",
       "      <td>488515</td>\n",
       "      <td>BNE</td>\n",
       "      <td>4385222</td>\n",
       "      <td>22899E4A-1DCB-4EC0-AD40-D1FB3104BE42</td>\n",
       "      <td>analista de departamento pessoal</td>\n",
       "      <td>analista departamento pessoal</td>\n",
       "      <td>Descrição Geral\\nEmpresa localizada na cidade ...</td>\n",
       "      <td>analista de departamento pessoal.,atividades: ...</td>\n",
       "      <td>recursos humanos</td>\n",
       "      <td>{'Habilidades': 'eventos rotina dp em geral', ...</td>\n",
       "    </tr>\n",
       "    <tr>\n",
       "      <th>3</th>\n",
       "      <td>3</td>\n",
       "      <td>546955</td>\n",
       "      <td>BNE</td>\n",
       "      <td>3967618</td>\n",
       "      <td>49D0ED16-087C-4E99-A28B-5BE7A29F9226</td>\n",
       "      <td>Suporte Técnico</td>\n",
       "      <td>suporte tecnico</td>\n",
       "      <td>Descrição Geral\\nEmpresa localizada na cidade ...</td>\n",
       "      <td>suporte técnico.,com conhecimento técnico e pr...</td>\n",
       "      <td>informatica</td>\n",
       "      <td>{'Habilidades': 'manutenção de interfones', 'i...</td>\n",
       "    </tr>\n",
       "    <tr>\n",
       "      <th>4</th>\n",
       "      <td>4</td>\n",
       "      <td>396472</td>\n",
       "      <td>BNE</td>\n",
       "      <td>4047696</td>\n",
       "      <td>9FC80823-A716-40C6-8F92-45F59A49AE2B</td>\n",
       "      <td>vendedor</td>\n",
       "      <td>vendedor</td>\n",
       "      <td>Descrição Geral\\nEmpresa localizada na cidade ...</td>\n",
       "      <td>vendedor., boa comunicação, disponibilidade de...</td>\n",
       "      <td>comercio</td>\n",
       "      <td>{'Habilidades': 'atendimento ao público', 'Con...</td>\n",
       "    </tr>\n",
       "    <tr>\n",
       "      <th>...</th>\n",
       "      <td>...</td>\n",
       "      <td>...</td>\n",
       "      <td>...</td>\n",
       "      <td>...</td>\n",
       "      <td>...</td>\n",
       "      <td>...</td>\n",
       "      <td>...</td>\n",
       "      <td>...</td>\n",
       "      <td>...</td>\n",
       "      <td>...</td>\n",
       "      <td>...</td>\n",
       "    </tr>\n",
       "    <tr>\n",
       "      <th>2995</th>\n",
       "      <td>2995</td>\n",
       "      <td>387671</td>\n",
       "      <td>BNE</td>\n",
       "      <td>4219906</td>\n",
       "      <td>B3BDC1E5-B1FB-4DC3-AE4B-6C70EA46D550</td>\n",
       "      <td>montador de móveis</td>\n",
       "      <td>montador moveis</td>\n",
       "      <td>Descrição Geral\\nEmpresa localizada na cidade ...</td>\n",
       "      <td>montador de móveis.,vaga para montador de móve...</td>\n",
       "      <td>moveis</td>\n",
       "      <td>{'Habilidades': 'montagem de móveis', 'Conheci...</td>\n",
       "    </tr>\n",
       "    <tr>\n",
       "      <th>2996</th>\n",
       "      <td>2996</td>\n",
       "      <td>295233</td>\n",
       "      <td>BNE</td>\n",
       "      <td>4391549</td>\n",
       "      <td>8F476A07-0915-41FF-9243-EE2EA7A5827A</td>\n",
       "      <td>operador de caixa</td>\n",
       "      <td>operador caixa</td>\n",
       "      <td>Descrição Geral\\nEmpresa localizada na cidade ...</td>\n",
       "      <td>operador de caixa.,empresa: cinco estrelas cas...</td>\n",
       "      <td>financeiro</td>\n",
       "      <td>{'Habilidades': 'Conhecimentos:', 'Atitudes_Va...</td>\n",
       "    </tr>\n",
       "    <tr>\n",
       "      <th>2997</th>\n",
       "      <td>2997</td>\n",
       "      <td>106118</td>\n",
       "      <td>BNE</td>\n",
       "      <td>4026603</td>\n",
       "      <td>ECAC7277-9D5E-4142-A022-CB237E190317</td>\n",
       "      <td>auxiliar comercial</td>\n",
       "      <td>auxiliar comercial</td>\n",
       "      <td>Descrição Geral\\nEmpresa localizada na cidade ...</td>\n",
       "      <td>auxiliar comercial.,suporte ao time comercial,...</td>\n",
       "      <td>comercio</td>\n",
       "      <td>{'Habilidades': 'suporte ao time comercial', '...</td>\n",
       "    </tr>\n",
       "    <tr>\n",
       "      <th>2998</th>\n",
       "      <td>2998</td>\n",
       "      <td>457735</td>\n",
       "      <td>BNE</td>\n",
       "      <td>4029892</td>\n",
       "      <td>F280B1CE-C87A-4FFE-914A-DE929D9A3E2A</td>\n",
       "      <td>Auxiliar de Contabilidade</td>\n",
       "      <td>auxiliar contabilidade</td>\n",
       "      <td>Descrição Geral\\nEmpresa localizada na cidade ...</td>\n",
       "      <td>auxiliar de contabilidade.,experiência em trib...</td>\n",
       "      <td>contabilidade</td>\n",
       "      <td>{'Habilidades': 'importação de folha de pagame...</td>\n",
       "    </tr>\n",
       "    <tr>\n",
       "      <th>2999</th>\n",
       "      <td>2999</td>\n",
       "      <td>348810</td>\n",
       "      <td>BNE</td>\n",
       "      <td>3956644</td>\n",
       "      <td>5CFA4A99-2EE8-44C9-81BE-FC798C6C93C3</td>\n",
       "      <td>técnico em segurança do trabalho</td>\n",
       "      <td>tecnico seguranca</td>\n",
       "      <td>Descrição Geral\\nEmpresa localizada na cidade ...</td>\n",
       "      <td>técnico em segurança do trabalho.,para início ...</td>\n",
       "      <td>construcao</td>\n",
       "      <td>{'Habilidades': 'Conhecimentos:', 'Atitudes_Va...</td>\n",
       "    </tr>\n",
       "  </tbody>\n",
       "</table>\n",
       "<p>3000 rows × 11 columns</p>\n",
       "</div>"
      ],
      "text/plain": [
       "      Unnamed: 0.1  Unnamed: 0 source  identifier  \\\n",
       "0                0       89329    BNE     4346041   \n",
       "1                1      363048    BNE     4307019   \n",
       "2                2      488515    BNE     4385222   \n",
       "3                3      546955    BNE     3967618   \n",
       "4                4      396472    BNE     4047696   \n",
       "...            ...         ...    ...         ...   \n",
       "2995          2995      387671    BNE     4219906   \n",
       "2996          2996      295233    BNE     4391549   \n",
       "2997          2997      106118    BNE     4026603   \n",
       "2998          2998      457735    BNE     4029892   \n",
       "2999          2999      348810    BNE     3956644   \n",
       "\n",
       "                                      uuid                             title  \\\n",
       "0     C9F9D669-B185-4078-AD4C-882F014273E7                          chapeiro   \n",
       "1     52C0DAAA-12D0-411A-BC9C-E0CFE3BDE34B                        estagiário   \n",
       "2     22899E4A-1DCB-4EC0-AD40-D1FB3104BE42  analista de departamento pessoal   \n",
       "3     49D0ED16-087C-4E99-A28B-5BE7A29F9226                   Suporte Técnico   \n",
       "4     9FC80823-A716-40C6-8F92-45F59A49AE2B                          vendedor   \n",
       "...                                    ...                               ...   \n",
       "2995  B3BDC1E5-B1FB-4DC3-AE4B-6C70EA46D550                montador de móveis   \n",
       "2996  8F476A07-0915-41FF-9243-EE2EA7A5827A                 operador de caixa   \n",
       "2997  ECAC7277-9D5E-4142-A022-CB237E190317                auxiliar comercial   \n",
       "2998  F280B1CE-C87A-4FFE-914A-DE929D9A3E2A         Auxiliar de Contabilidade   \n",
       "2999  5CFA4A99-2EE8-44C9-81BE-FC798C6C93C3  técnico em segurança do trabalho   \n",
       "\n",
       "                 title_standardized  \\\n",
       "0                          chapeiro   \n",
       "1                        estagiario   \n",
       "2     analista departamento pessoal   \n",
       "3                   suporte tecnico   \n",
       "4                          vendedor   \n",
       "...                             ...   \n",
       "2995                montador moveis   \n",
       "2996                 operador caixa   \n",
       "2997             auxiliar comercial   \n",
       "2998         auxiliar contabilidade   \n",
       "2999              tecnico seguranca   \n",
       "\n",
       "                                            description  \\\n",
       "0     Descrição Geral\\nEmpresa localizada na cidade ...   \n",
       "1     Descrição Geral\\nEmpresa localizada na cidade ...   \n",
       "2     Descrição Geral\\nEmpresa localizada na cidade ...   \n",
       "3     Descrição Geral\\nEmpresa localizada na cidade ...   \n",
       "4     Descrição Geral\\nEmpresa localizada na cidade ...   \n",
       "...                                                 ...   \n",
       "2995  Descrição Geral\\nEmpresa localizada na cidade ...   \n",
       "2996  Descrição Geral\\nEmpresa localizada na cidade ...   \n",
       "2997  Descrição Geral\\nEmpresa localizada na cidade ...   \n",
       "2998  Descrição Geral\\nEmpresa localizada na cidade ...   \n",
       "2999  Descrição Geral\\nEmpresa localizada na cidade ...   \n",
       "\n",
       "                                        descricao_clean    ramo_atividade  \\\n",
       "0     chapeiro.,vaga para chapeiro de horário oturno...    metal mecanico   \n",
       "1     estagiário., ser estudante de engenharia civil...    administrativo   \n",
       "2     analista de departamento pessoal.,atividades: ...  recursos humanos   \n",
       "3     suporte técnico.,com conhecimento técnico e pr...       informatica   \n",
       "4     vendedor., boa comunicação, disponibilidade de...          comercio   \n",
       "...                                                 ...               ...   \n",
       "2995  montador de móveis.,vaga para montador de móve...            moveis   \n",
       "2996  operador de caixa.,empresa: cinco estrelas cas...        financeiro   \n",
       "2997  auxiliar comercial.,suporte ao time comercial,...          comercio   \n",
       "2998  auxiliar de contabilidade.,experiência em trib...     contabilidade   \n",
       "2999  técnico em segurança do trabalho.,para início ...        construcao   \n",
       "\n",
       "                                 competencias_extraidas  \n",
       "0     {'Habilidades': 'manuseio de chapa', 'manuseio...  \n",
       "1     {'Habilidades': 'desenho arquitetônico', 'Conh...  \n",
       "2     {'Habilidades': 'eventos rotina dp em geral', ...  \n",
       "3     {'Habilidades': 'manutenção de interfones', 'i...  \n",
       "4     {'Habilidades': 'atendimento ao público', 'Con...  \n",
       "...                                                 ...  \n",
       "2995  {'Habilidades': 'montagem de móveis', 'Conheci...  \n",
       "2996  {'Habilidades': 'Conhecimentos:', 'Atitudes_Va...  \n",
       "2997  {'Habilidades': 'suporte ao time comercial', '...  \n",
       "2998  {'Habilidades': 'importação de folha de pagame...  \n",
       "2999  {'Habilidades': 'Conhecimentos:', 'Atitudes_Va...  \n",
       "\n",
       "[3000 rows x 11 columns]"
      ]
     },
     "execution_count": 245,
     "metadata": {},
     "output_type": "execute_result"
    }
   ],
   "source": [
    "teste[\"competencias_extraidas\"] = teste[\"competencias_extraidas\"].str.replace(\"[\", \"\", regex=False)\n",
    "teste"
   ]
  },
  {
   "cell_type": "code",
   "execution_count": 249,
   "metadata": {},
   "outputs": [
    {
     "data": {
      "text/html": [
       "<div>\n",
       "<style scoped>\n",
       "    .dataframe tbody tr th:only-of-type {\n",
       "        vertical-align: middle;\n",
       "    }\n",
       "\n",
       "    .dataframe tbody tr th {\n",
       "        vertical-align: top;\n",
       "    }\n",
       "\n",
       "    .dataframe thead th {\n",
       "        text-align: right;\n",
       "    }\n",
       "</style>\n",
       "<table border=\"1\" class=\"dataframe\">\n",
       "  <thead>\n",
       "    <tr style=\"text-align: right;\">\n",
       "      <th></th>\n",
       "      <th>Unnamed: 0.1</th>\n",
       "      <th>Unnamed: 0</th>\n",
       "      <th>source</th>\n",
       "      <th>identifier</th>\n",
       "      <th>uuid</th>\n",
       "      <th>title</th>\n",
       "      <th>title_standardized</th>\n",
       "      <th>description</th>\n",
       "      <th>descricao_clean</th>\n",
       "      <th>ramo_atividade</th>\n",
       "      <th>competencias_extraidas</th>\n",
       "      <th>Habilidades</th>\n",
       "      <th>Conhecimentos</th>\n",
       "      <th>Atitudes_Valores</th>\n",
       "      <th>Escolaridade</th>\n",
       "      <th>Certificacoes</th>\n",
       "    </tr>\n",
       "  </thead>\n",
       "  <tbody>\n",
       "    <tr>\n",
       "      <th>0</th>\n",
       "      <td>0</td>\n",
       "      <td>89329</td>\n",
       "      <td>BNE</td>\n",
       "      <td>4346041</td>\n",
       "      <td>C9F9D669-B185-4078-AD4C-882F014273E7</td>\n",
       "      <td>chapeiro</td>\n",
       "      <td>chapeiro</td>\n",
       "      <td>Descrição Geral\\nEmpresa localizada na cidade ...</td>\n",
       "      <td>chapeiro.,vaga para chapeiro de horário oturno...</td>\n",
       "      <td>metal mecanico</td>\n",
       "      <td>{'Habilidades': 'manuseio de chapa', 'manuseio...</td>\n",
       "      <td>[manuseio de chapa, manuseio de grelha]</td>\n",
       "      <td>[]</td>\n",
       "      <td>[]</td>\n",
       "      <td>[]</td>\n",
       "      <td>[]</td>\n",
       "    </tr>\n",
       "    <tr>\n",
       "      <th>1</th>\n",
       "      <td>1</td>\n",
       "      <td>363048</td>\n",
       "      <td>BNE</td>\n",
       "      <td>4307019</td>\n",
       "      <td>52C0DAAA-12D0-411A-BC9C-E0CFE3BDE34B</td>\n",
       "      <td>estagiário</td>\n",
       "      <td>estagiario</td>\n",
       "      <td>Descrição Geral\\nEmpresa localizada na cidade ...</td>\n",
       "      <td>estagiário., ser estudante de engenharia civil...</td>\n",
       "      <td>administrativo</td>\n",
       "      <td>{'Habilidades': 'desenho arquitetônico', 'Conh...</td>\n",
       "      <td>[desenho arquitetônico]</td>\n",
       "      <td>[AutoCAD]</td>\n",
       "      <td>[]</td>\n",
       "      <td>[estudante de engenharia civil, estudante de a...</td>\n",
       "      <td>[]</td>\n",
       "    </tr>\n",
       "    <tr>\n",
       "      <th>2</th>\n",
       "      <td>2</td>\n",
       "      <td>488515</td>\n",
       "      <td>BNE</td>\n",
       "      <td>4385222</td>\n",
       "      <td>22899E4A-1DCB-4EC0-AD40-D1FB3104BE42</td>\n",
       "      <td>analista de departamento pessoal</td>\n",
       "      <td>analista departamento pessoal</td>\n",
       "      <td>Descrição Geral\\nEmpresa localizada na cidade ...</td>\n",
       "      <td>analista de departamento pessoal.,atividades: ...</td>\n",
       "      <td>recursos humanos</td>\n",
       "      <td>{'Habilidades': 'eventos rotina dp em geral', ...</td>\n",
       "      <td>[eventos rotina dp em geral, processos de admi...</td>\n",
       "      <td>[eSocial, DCTFWeb]</td>\n",
       "      <td>[]</td>\n",
       "      <td>[]</td>\n",
       "      <td>[]</td>\n",
       "    </tr>\n",
       "    <tr>\n",
       "      <th>3</th>\n",
       "      <td>3</td>\n",
       "      <td>546955</td>\n",
       "      <td>BNE</td>\n",
       "      <td>3967618</td>\n",
       "      <td>49D0ED16-087C-4E99-A28B-5BE7A29F9226</td>\n",
       "      <td>Suporte Técnico</td>\n",
       "      <td>suporte tecnico</td>\n",
       "      <td>Descrição Geral\\nEmpresa localizada na cidade ...</td>\n",
       "      <td>suporte técnico.,com conhecimento técnico e pr...</td>\n",
       "      <td>informatica</td>\n",
       "      <td>{'Habilidades': 'manutenção de interfones', 'i...</td>\n",
       "      <td>[manutenção de interfones, instalação de inter...</td>\n",
       "      <td>[interfones condominiais]</td>\n",
       "      <td>[]</td>\n",
       "      <td>[]</td>\n",
       "      <td>[]</td>\n",
       "    </tr>\n",
       "    <tr>\n",
       "      <th>4</th>\n",
       "      <td>4</td>\n",
       "      <td>396472</td>\n",
       "      <td>BNE</td>\n",
       "      <td>4047696</td>\n",
       "      <td>9FC80823-A716-40C6-8F92-45F59A49AE2B</td>\n",
       "      <td>vendedor</td>\n",
       "      <td>vendedor</td>\n",
       "      <td>Descrição Geral\\nEmpresa localizada na cidade ...</td>\n",
       "      <td>vendedor., boa comunicação, disponibilidade de...</td>\n",
       "      <td>comercio</td>\n",
       "      <td>{'Habilidades': 'atendimento ao público', 'Con...</td>\n",
       "      <td>[atendimento ao público]</td>\n",
       "      <td>[]</td>\n",
       "      <td>[boa comunicação, bom relacionamento com a equ...</td>\n",
       "      <td>[]</td>\n",
       "      <td>[]</td>\n",
       "    </tr>\n",
       "    <tr>\n",
       "      <th>...</th>\n",
       "      <td>...</td>\n",
       "      <td>...</td>\n",
       "      <td>...</td>\n",
       "      <td>...</td>\n",
       "      <td>...</td>\n",
       "      <td>...</td>\n",
       "      <td>...</td>\n",
       "      <td>...</td>\n",
       "      <td>...</td>\n",
       "      <td>...</td>\n",
       "      <td>...</td>\n",
       "      <td>...</td>\n",
       "      <td>...</td>\n",
       "      <td>...</td>\n",
       "      <td>...</td>\n",
       "      <td>...</td>\n",
       "    </tr>\n",
       "    <tr>\n",
       "      <th>2995</th>\n",
       "      <td>2995</td>\n",
       "      <td>387671</td>\n",
       "      <td>BNE</td>\n",
       "      <td>4219906</td>\n",
       "      <td>B3BDC1E5-B1FB-4DC3-AE4B-6C70EA46D550</td>\n",
       "      <td>montador de móveis</td>\n",
       "      <td>montador moveis</td>\n",
       "      <td>Descrição Geral\\nEmpresa localizada na cidade ...</td>\n",
       "      <td>montador de móveis.,vaga para montador de móve...</td>\n",
       "      <td>moveis</td>\n",
       "      <td>{'Habilidades': 'montagem de móveis', 'Conheci...</td>\n",
       "      <td>[montagem de móveis]</td>\n",
       "      <td>[]</td>\n",
       "      <td>[]</td>\n",
       "      <td>[]</td>\n",
       "      <td>[]</td>\n",
       "    </tr>\n",
       "    <tr>\n",
       "      <th>2996</th>\n",
       "      <td>2996</td>\n",
       "      <td>295233</td>\n",
       "      <td>BNE</td>\n",
       "      <td>4391549</td>\n",
       "      <td>8F476A07-0915-41FF-9243-EE2EA7A5827A</td>\n",
       "      <td>operador de caixa</td>\n",
       "      <td>operador caixa</td>\n",
       "      <td>Descrição Geral\\nEmpresa localizada na cidade ...</td>\n",
       "      <td>operador de caixa.,empresa: cinco estrelas cas...</td>\n",
       "      <td>financeiro</td>\n",
       "      <td>{'Habilidades': 'Conhecimentos:', 'Atitudes_Va...</td>\n",
       "      <td>[]</td>\n",
       "      <td>[]</td>\n",
       "      <td>[]</td>\n",
       "      <td>[]</td>\n",
       "      <td>[]</td>\n",
       "    </tr>\n",
       "    <tr>\n",
       "      <th>2997</th>\n",
       "      <td>2997</td>\n",
       "      <td>106118</td>\n",
       "      <td>BNE</td>\n",
       "      <td>4026603</td>\n",
       "      <td>ECAC7277-9D5E-4142-A022-CB237E190317</td>\n",
       "      <td>auxiliar comercial</td>\n",
       "      <td>auxiliar comercial</td>\n",
       "      <td>Descrição Geral\\nEmpresa localizada na cidade ...</td>\n",
       "      <td>auxiliar comercial.,suporte ao time comercial,...</td>\n",
       "      <td>comercio</td>\n",
       "      <td>{'Habilidades': 'suporte ao time comercial', '...</td>\n",
       "      <td>[suporte ao time comercial, realizar contatos ...</td>\n",
       "      <td>[]</td>\n",
       "      <td>[]</td>\n",
       "      <td>[]</td>\n",
       "      <td>[]</td>\n",
       "    </tr>\n",
       "    <tr>\n",
       "      <th>2998</th>\n",
       "      <td>2998</td>\n",
       "      <td>457735</td>\n",
       "      <td>BNE</td>\n",
       "      <td>4029892</td>\n",
       "      <td>F280B1CE-C87A-4FFE-914A-DE929D9A3E2A</td>\n",
       "      <td>Auxiliar de Contabilidade</td>\n",
       "      <td>auxiliar contabilidade</td>\n",
       "      <td>Descrição Geral\\nEmpresa localizada na cidade ...</td>\n",
       "      <td>auxiliar de contabilidade.,experiência em trib...</td>\n",
       "      <td>contabilidade</td>\n",
       "      <td>{'Habilidades': 'importação de folha de pagame...</td>\n",
       "      <td>[importação de folha de pagamento, conciliação...</td>\n",
       "      <td>[tributos fiscais, DIRF, cálculo de IR]</td>\n",
       "      <td>[]</td>\n",
       "      <td>[]</td>\n",
       "      <td>[]</td>\n",
       "    </tr>\n",
       "    <tr>\n",
       "      <th>2999</th>\n",
       "      <td>2999</td>\n",
       "      <td>348810</td>\n",
       "      <td>BNE</td>\n",
       "      <td>3956644</td>\n",
       "      <td>5CFA4A99-2EE8-44C9-81BE-FC798C6C93C3</td>\n",
       "      <td>técnico em segurança do trabalho</td>\n",
       "      <td>tecnico seguranca</td>\n",
       "      <td>Descrição Geral\\nEmpresa localizada na cidade ...</td>\n",
       "      <td>técnico em segurança do trabalho.,para início ...</td>\n",
       "      <td>construcao</td>\n",
       "      <td>{'Habilidades': 'Conhecimentos:', 'Atitudes_Va...</td>\n",
       "      <td>[]</td>\n",
       "      <td>[]</td>\n",
       "      <td>[]</td>\n",
       "      <td>[]</td>\n",
       "      <td>[]</td>\n",
       "    </tr>\n",
       "  </tbody>\n",
       "</table>\n",
       "<p>3000 rows × 16 columns</p>\n",
       "</div>"
      ],
      "text/plain": [
       "      Unnamed: 0.1  Unnamed: 0 source  identifier  \\\n",
       "0                0       89329    BNE     4346041   \n",
       "1                1      363048    BNE     4307019   \n",
       "2                2      488515    BNE     4385222   \n",
       "3                3      546955    BNE     3967618   \n",
       "4                4      396472    BNE     4047696   \n",
       "...            ...         ...    ...         ...   \n",
       "2995          2995      387671    BNE     4219906   \n",
       "2996          2996      295233    BNE     4391549   \n",
       "2997          2997      106118    BNE     4026603   \n",
       "2998          2998      457735    BNE     4029892   \n",
       "2999          2999      348810    BNE     3956644   \n",
       "\n",
       "                                      uuid                             title  \\\n",
       "0     C9F9D669-B185-4078-AD4C-882F014273E7                          chapeiro   \n",
       "1     52C0DAAA-12D0-411A-BC9C-E0CFE3BDE34B                        estagiário   \n",
       "2     22899E4A-1DCB-4EC0-AD40-D1FB3104BE42  analista de departamento pessoal   \n",
       "3     49D0ED16-087C-4E99-A28B-5BE7A29F9226                   Suporte Técnico   \n",
       "4     9FC80823-A716-40C6-8F92-45F59A49AE2B                          vendedor   \n",
       "...                                    ...                               ...   \n",
       "2995  B3BDC1E5-B1FB-4DC3-AE4B-6C70EA46D550                montador de móveis   \n",
       "2996  8F476A07-0915-41FF-9243-EE2EA7A5827A                 operador de caixa   \n",
       "2997  ECAC7277-9D5E-4142-A022-CB237E190317                auxiliar comercial   \n",
       "2998  F280B1CE-C87A-4FFE-914A-DE929D9A3E2A         Auxiliar de Contabilidade   \n",
       "2999  5CFA4A99-2EE8-44C9-81BE-FC798C6C93C3  técnico em segurança do trabalho   \n",
       "\n",
       "                 title_standardized  \\\n",
       "0                          chapeiro   \n",
       "1                        estagiario   \n",
       "2     analista departamento pessoal   \n",
       "3                   suporte tecnico   \n",
       "4                          vendedor   \n",
       "...                             ...   \n",
       "2995                montador moveis   \n",
       "2996                 operador caixa   \n",
       "2997             auxiliar comercial   \n",
       "2998         auxiliar contabilidade   \n",
       "2999              tecnico seguranca   \n",
       "\n",
       "                                            description  \\\n",
       "0     Descrição Geral\\nEmpresa localizada na cidade ...   \n",
       "1     Descrição Geral\\nEmpresa localizada na cidade ...   \n",
       "2     Descrição Geral\\nEmpresa localizada na cidade ...   \n",
       "3     Descrição Geral\\nEmpresa localizada na cidade ...   \n",
       "4     Descrição Geral\\nEmpresa localizada na cidade ...   \n",
       "...                                                 ...   \n",
       "2995  Descrição Geral\\nEmpresa localizada na cidade ...   \n",
       "2996  Descrição Geral\\nEmpresa localizada na cidade ...   \n",
       "2997  Descrição Geral\\nEmpresa localizada na cidade ...   \n",
       "2998  Descrição Geral\\nEmpresa localizada na cidade ...   \n",
       "2999  Descrição Geral\\nEmpresa localizada na cidade ...   \n",
       "\n",
       "                                        descricao_clean    ramo_atividade  \\\n",
       "0     chapeiro.,vaga para chapeiro de horário oturno...    metal mecanico   \n",
       "1     estagiário., ser estudante de engenharia civil...    administrativo   \n",
       "2     analista de departamento pessoal.,atividades: ...  recursos humanos   \n",
       "3     suporte técnico.,com conhecimento técnico e pr...       informatica   \n",
       "4     vendedor., boa comunicação, disponibilidade de...          comercio   \n",
       "...                                                 ...               ...   \n",
       "2995  montador de móveis.,vaga para montador de móve...            moveis   \n",
       "2996  operador de caixa.,empresa: cinco estrelas cas...        financeiro   \n",
       "2997  auxiliar comercial.,suporte ao time comercial,...          comercio   \n",
       "2998  auxiliar de contabilidade.,experiência em trib...     contabilidade   \n",
       "2999  técnico em segurança do trabalho.,para início ...        construcao   \n",
       "\n",
       "                                 competencias_extraidas  \\\n",
       "0     {'Habilidades': 'manuseio de chapa', 'manuseio...   \n",
       "1     {'Habilidades': 'desenho arquitetônico', 'Conh...   \n",
       "2     {'Habilidades': 'eventos rotina dp em geral', ...   \n",
       "3     {'Habilidades': 'manutenção de interfones', 'i...   \n",
       "4     {'Habilidades': 'atendimento ao público', 'Con...   \n",
       "...                                                 ...   \n",
       "2995  {'Habilidades': 'montagem de móveis', 'Conheci...   \n",
       "2996  {'Habilidades': 'Conhecimentos:', 'Atitudes_Va...   \n",
       "2997  {'Habilidades': 'suporte ao time comercial', '...   \n",
       "2998  {'Habilidades': 'importação de folha de pagame...   \n",
       "2999  {'Habilidades': 'Conhecimentos:', 'Atitudes_Va...   \n",
       "\n",
       "                                            Habilidades  \\\n",
       "0               [manuseio de chapa, manuseio de grelha]   \n",
       "1                               [desenho arquitetônico]   \n",
       "2     [eventos rotina dp em geral, processos de admi...   \n",
       "3     [manutenção de interfones, instalação de inter...   \n",
       "4                              [atendimento ao público]   \n",
       "...                                                 ...   \n",
       "2995                               [montagem de móveis]   \n",
       "2996                                                 []   \n",
       "2997  [suporte ao time comercial, realizar contatos ...   \n",
       "2998  [importação de folha de pagamento, conciliação...   \n",
       "2999                                                 []   \n",
       "\n",
       "                                Conhecimentos  \\\n",
       "0                                          []   \n",
       "1                                   [AutoCAD]   \n",
       "2                          [eSocial, DCTFWeb]   \n",
       "3                   [interfones condominiais]   \n",
       "4                                          []   \n",
       "...                                       ...   \n",
       "2995                                       []   \n",
       "2996                                       []   \n",
       "2997                                       []   \n",
       "2998  [tributos fiscais, DIRF, cálculo de IR]   \n",
       "2999                                       []   \n",
       "\n",
       "                                       Atitudes_Valores  \\\n",
       "0                                                    []   \n",
       "1                                                    []   \n",
       "2                                                    []   \n",
       "3                                                    []   \n",
       "4     [boa comunicação, bom relacionamento com a equ...   \n",
       "...                                                 ...   \n",
       "2995                                                 []   \n",
       "2996                                                 []   \n",
       "2997                                                 []   \n",
       "2998                                                 []   \n",
       "2999                                                 []   \n",
       "\n",
       "                                           Escolaridade Certificacoes  \n",
       "0                                                    []            []  \n",
       "1     [estudante de engenharia civil, estudante de a...            []  \n",
       "2                                                    []            []  \n",
       "3                                                    []            []  \n",
       "4                                                    []            []  \n",
       "...                                                 ...           ...  \n",
       "2995                                                 []            []  \n",
       "2996                                                 []            []  \n",
       "2997                                                 []            []  \n",
       "2998                                                 []            []  \n",
       "2999                                                 []            []  \n",
       "\n",
       "[3000 rows x 16 columns]"
      ]
     },
     "execution_count": 249,
     "metadata": {},
     "output_type": "execute_result"
    }
   ],
   "source": [
    "# Função para extrair blocos de texto com base nos marcadores em uma string única\n",
    "def extrair_blocos_de_string(texto):\n",
    "    try:\n",
    "        if not isinstance(texto, str):\n",
    "            return [], [], [], [], []\n",
    "\n",
    "        # Limpeza inicial\n",
    "        texto = texto.replace(\"\\n\", \" \").replace(\"{\", \"\").replace(\"}\", \"\").replace(\"'\", \"\")\n",
    "\n",
    "        # Divisões usando os marcadores\n",
    "        partes = re.split(r\"(?i)\\b(Conhecimentos:|Atitudes_Valores:|Escolaridade:|Certificacoes:)\", texto)\n",
    "\n",
    "        # Inicializar\n",
    "        habilidades = []\n",
    "        conhecimentos = []\n",
    "        atitudes = []\n",
    "        escolaridade = []\n",
    "        certificacoes = []\n",
    "\n",
    "        # Separar blocos\n",
    "        if partes:\n",
    "            habilidades_texto = partes[0].replace(\"Habilidades:\", \"\").strip().strip(\",\")\n",
    "            habilidades = [h.strip() for h in habilidades_texto.split(\",\") if h.strip()]\n",
    "\n",
    "            for i in range(1, len(partes), 2):\n",
    "                categoria = partes[i].strip(\": \")\n",
    "                conteudo = partes[i+1] if i+1 < len(partes) else \"\"\n",
    "                itens = [c.strip() for c in conteudo.split(\",\") if c.strip()]\n",
    "\n",
    "                if categoria.lower() == \"conhecimentos\":\n",
    "                    conhecimentos = itens\n",
    "                elif categoria.lower() == \"atitudes_valores\":\n",
    "                    atitudes = itens\n",
    "                elif categoria.lower() == \"escolaridade\":\n",
    "                    escolaridade = itens\n",
    "                elif categoria.lower() == \"certificacoes\":\n",
    "                    certificacoes = itens\n",
    "\n",
    "        return habilidades, conhecimentos, atitudes, escolaridade, certificacoes\n",
    "\n",
    "    except Exception:\n",
    "        return [], [], [], [], []\n",
    "\n",
    "# Aplicar a função\n",
    "teste[[\"Habilidades\", \"Conhecimentos\", \"Atitudes_Valores\", \"Escolaridade\", \"Certificacoes\"]] = teste[\"competencias_extraidas\"].apply(\n",
    "    lambda x: pd.Series(extrair_blocos_de_string(x))\n",
    ")\n",
    "\n",
    "teste"
   ]
  },
  {
   "cell_type": "code",
   "execution_count": 250,
   "metadata": {},
   "outputs": [],
   "source": [
    "teste.to_csv(diretorio + 'base_treino_gpt2.csv', sep=\";\", encoding= 'utf-8-sig')"
   ]
  },
  {
   "cell_type": "markdown",
   "metadata": {},
   "source": [
    "## após alguns pequenos ajustes manuais, carregar a base novamente"
   ]
  },
  {
   "cell_type": "code",
   "execution_count": 71,
   "metadata": {},
   "outputs": [],
   "source": [
    "base_treino = pd.read_csv(diretorio + 'base_treino_gpt2.csv', sep=\";\", encoding='utf-8-sig')"
   ]
  },
  {
   "cell_type": "code",
   "execution_count": 74,
   "metadata": {},
   "outputs": [
    {
     "data": {
      "text/html": [
       "<div>\n",
       "<style scoped>\n",
       "    .dataframe tbody tr th:only-of-type {\n",
       "        vertical-align: middle;\n",
       "    }\n",
       "\n",
       "    .dataframe tbody tr th {\n",
       "        vertical-align: top;\n",
       "    }\n",
       "\n",
       "    .dataframe thead th {\n",
       "        text-align: right;\n",
       "    }\n",
       "</style>\n",
       "<table border=\"1\" class=\"dataframe\">\n",
       "  <thead>\n",
       "    <tr style=\"text-align: right;\">\n",
       "      <th></th>\n",
       "      <th>source</th>\n",
       "      <th>identifier</th>\n",
       "      <th>uuid</th>\n",
       "      <th>title</th>\n",
       "      <th>title_standardized</th>\n",
       "      <th>description</th>\n",
       "      <th>descricao_clean</th>\n",
       "      <th>ramo_atividade</th>\n",
       "    </tr>\n",
       "  </thead>\n",
       "  <tbody>\n",
       "    <tr>\n",
       "      <th>200657</th>\n",
       "      <td>BNE</td>\n",
       "      <td>4207444</td>\n",
       "      <td>23C853EC-9254-4621-9F04-AECD0E3662C2</td>\n",
       "      <td>Gerente Customer Service</td>\n",
       "      <td>gerente customer servico</td>\n",
       "      <td>Descrição Geral\\nEmpresa localizada na cidade ...</td>\n",
       "      <td>gerente customer service.,somos uma operadora ...</td>\n",
       "      <td>comercio</td>\n",
       "    </tr>\n",
       "    <tr>\n",
       "      <th>474712</th>\n",
       "      <td>BNE</td>\n",
       "      <td>4209889</td>\n",
       "      <td>13AF5674-2DFA-42DE-BA9F-73F659B3E15F</td>\n",
       "      <td>Doméstica</td>\n",
       "      <td>domestica</td>\n",
       "      <td>Descrição Geral\\nEmpresa localizada na cidade ...</td>\n",
       "      <td>doméstica.,teste teste teste teste teste teste...</td>\n",
       "      <td>limpeza</td>\n",
       "    </tr>\n",
       "    <tr>\n",
       "      <th>480029</th>\n",
       "      <td>BNE</td>\n",
       "      <td>4312823</td>\n",
       "      <td>41062C74-E96D-40E0-A73E-0B12C5815D9E</td>\n",
       "      <td>comprador</td>\n",
       "      <td>comprador</td>\n",
       "      <td>Descrição Geral\\nEmpresa localizada na cidade ...</td>\n",
       "      <td>comprador.,desejável vivência o segmento. ativ...</td>\n",
       "      <td>administrativo</td>\n",
       "    </tr>\n",
       "    <tr>\n",
       "      <th>192040</th>\n",
       "      <td>BNE</td>\n",
       "      <td>3956220</td>\n",
       "      <td>9BC334F9-CD24-4E13-B2B0-63BA885290AC</td>\n",
       "      <td>auxiliar de serviços gerais</td>\n",
       "      <td>auxiliar servicos gerais</td>\n",
       "      <td>Descrição Geral\\nEmpresa localizada na cidade ...</td>\n",
       "      <td>auxiliar de serviços gerais.,responsável pela ...</td>\n",
       "      <td>limpeza</td>\n",
       "    </tr>\n",
       "    <tr>\n",
       "      <th>354166</th>\n",
       "      <td>BNE</td>\n",
       "      <td>4311442</td>\n",
       "      <td>E7F70304-A762-46BC-9F9A-139D22232A1E</td>\n",
       "      <td>mecânico de manutenção</td>\n",
       "      <td>mecanico manutencao</td>\n",
       "      <td>Descrição Geral\\nEmpresa localizada na cidade ...</td>\n",
       "      <td>mecânico de manutenção.,vaga para atuar em man...</td>\n",
       "      <td>manutencao</td>\n",
       "    </tr>\n",
       "    <tr>\n",
       "      <th>...</th>\n",
       "      <td>...</td>\n",
       "      <td>...</td>\n",
       "      <td>...</td>\n",
       "      <td>...</td>\n",
       "      <td>...</td>\n",
       "      <td>...</td>\n",
       "      <td>...</td>\n",
       "      <td>...</td>\n",
       "    </tr>\n",
       "    <tr>\n",
       "      <th>204796</th>\n",
       "      <td>BNE</td>\n",
       "      <td>4244618</td>\n",
       "      <td>E7AD5B8A-F3CC-4A01-B35A-5DBD2ECEEDF2</td>\n",
       "      <td>Estagiário</td>\n",
       "      <td>estagiario</td>\n",
       "      <td>Descrição Geral\\nEmpresa localizada na cidade ...</td>\n",
       "      <td>estagiário.,estágio atendimentor r atividades:...</td>\n",
       "      <td>administrativo</td>\n",
       "    </tr>\n",
       "    <tr>\n",
       "      <th>6180</th>\n",
       "      <td>BNE</td>\n",
       "      <td>4241885</td>\n",
       "      <td>FA7425AA-C60C-4BC0-B3EF-C934C393B69D</td>\n",
       "      <td>auxiliar de almoxarifado</td>\n",
       "      <td>auxiliar almoxarifado</td>\n",
       "      <td>Descrição Geral\\nEmpresa localizada na cidade ...</td>\n",
       "      <td>auxiliar de almoxarifado.,vaga para auxiliar d...</td>\n",
       "      <td>logistica</td>\n",
       "    </tr>\n",
       "    <tr>\n",
       "      <th>56915</th>\n",
       "      <td>BNE</td>\n",
       "      <td>3964298</td>\n",
       "      <td>0F099222-F1D8-4C06-9CD3-B0B9B43460B7</td>\n",
       "      <td>vigia</td>\n",
       "      <td>vigia</td>\n",
       "      <td>Descrição Geral\\nEmpresa localizada na cidade ...</td>\n",
       "      <td>vigia.,vaga para atuar como vigia, escala 12x3...</td>\n",
       "      <td>seguranca</td>\n",
       "    </tr>\n",
       "    <tr>\n",
       "      <th>303536</th>\n",
       "      <td>BNE</td>\n",
       "      <td>4026387</td>\n",
       "      <td>FD10E4EB-8815-47C0-BC14-F20535150B06</td>\n",
       "      <td>açougueiro</td>\n",
       "      <td>acougueiro</td>\n",
       "      <td>Descrição Geral\\nEmpresa localizada na cidade ...</td>\n",
       "      <td>açougueiro.,experiência em atendimentos e cort...</td>\n",
       "      <td>alimentos</td>\n",
       "    </tr>\n",
       "    <tr>\n",
       "      <th>105118</th>\n",
       "      <td>BNE</td>\n",
       "      <td>4096311</td>\n",
       "      <td>A3327F31-969F-4362-8001-3489192B3509</td>\n",
       "      <td>Analista de frota</td>\n",
       "      <td>analista frota</td>\n",
       "      <td>Descrição Geral\\nEmpresa localizada na cidade ...</td>\n",
       "      <td>analista de frota,superior completo,analista d...</td>\n",
       "      <td>recursos humanos</td>\n",
       "    </tr>\n",
       "  </tbody>\n",
       "</table>\n",
       "<p>3000 rows × 8 columns</p>\n",
       "</div>"
      ],
      "text/plain": [
       "       source identifier                                  uuid  \\\n",
       "200657    BNE    4207444  23C853EC-9254-4621-9F04-AECD0E3662C2   \n",
       "474712    BNE    4209889  13AF5674-2DFA-42DE-BA9F-73F659B3E15F   \n",
       "480029    BNE    4312823  41062C74-E96D-40E0-A73E-0B12C5815D9E   \n",
       "192040    BNE    3956220  9BC334F9-CD24-4E13-B2B0-63BA885290AC   \n",
       "354166    BNE    4311442  E7F70304-A762-46BC-9F9A-139D22232A1E   \n",
       "...       ...        ...                                   ...   \n",
       "204796    BNE    4244618  E7AD5B8A-F3CC-4A01-B35A-5DBD2ECEEDF2   \n",
       "6180      BNE    4241885  FA7425AA-C60C-4BC0-B3EF-C934C393B69D   \n",
       "56915     BNE    3964298  0F099222-F1D8-4C06-9CD3-B0B9B43460B7   \n",
       "303536    BNE    4026387  FD10E4EB-8815-47C0-BC14-F20535150B06   \n",
       "105118    BNE    4096311  A3327F31-969F-4362-8001-3489192B3509   \n",
       "\n",
       "                              title        title_standardized  \\\n",
       "200657     Gerente Customer Service  gerente customer servico   \n",
       "474712                    Doméstica                 domestica   \n",
       "480029                    comprador                 comprador   \n",
       "192040  auxiliar de serviços gerais  auxiliar servicos gerais   \n",
       "354166       mecânico de manutenção       mecanico manutencao   \n",
       "...                             ...                       ...   \n",
       "204796                   Estagiário                estagiario   \n",
       "6180       auxiliar de almoxarifado     auxiliar almoxarifado   \n",
       "56915                         vigia                     vigia   \n",
       "303536                   açougueiro                acougueiro   \n",
       "105118            Analista de frota            analista frota   \n",
       "\n",
       "                                              description  \\\n",
       "200657  Descrição Geral\\nEmpresa localizada na cidade ...   \n",
       "474712  Descrição Geral\\nEmpresa localizada na cidade ...   \n",
       "480029  Descrição Geral\\nEmpresa localizada na cidade ...   \n",
       "192040  Descrição Geral\\nEmpresa localizada na cidade ...   \n",
       "354166  Descrição Geral\\nEmpresa localizada na cidade ...   \n",
       "...                                                   ...   \n",
       "204796  Descrição Geral\\nEmpresa localizada na cidade ...   \n",
       "6180    Descrição Geral\\nEmpresa localizada na cidade ...   \n",
       "56915   Descrição Geral\\nEmpresa localizada na cidade ...   \n",
       "303536  Descrição Geral\\nEmpresa localizada na cidade ...   \n",
       "105118  Descrição Geral\\nEmpresa localizada na cidade ...   \n",
       "\n",
       "                                          descricao_clean    ramo_atividade  \n",
       "200657  gerente customer service.,somos uma operadora ...          comercio  \n",
       "474712  doméstica.,teste teste teste teste teste teste...           limpeza  \n",
       "480029  comprador.,desejável vivência o segmento. ativ...    administrativo  \n",
       "192040  auxiliar de serviços gerais.,responsável pela ...           limpeza  \n",
       "354166  mecânico de manutenção.,vaga para atuar em man...        manutencao  \n",
       "...                                                   ...               ...  \n",
       "204796  estagiário.,estágio atendimentor r atividades:...    administrativo  \n",
       "6180    auxiliar de almoxarifado.,vaga para auxiliar d...         logistica  \n",
       "56915   vigia.,vaga para atuar como vigia, escala 12x3...         seguranca  \n",
       "303536  açougueiro.,experiência em atendimentos e cort...         alimentos  \n",
       "105118  analista de frota,superior completo,analista d...  recursos humanos  \n",
       "\n",
       "[3000 rows x 8 columns]"
      ]
     },
     "execution_count": 74,
     "metadata": {},
     "output_type": "execute_result"
    }
   ],
   "source": [
    "base_retreino"
   ]
  },
  {
   "cell_type": "code",
   "execution_count": 103,
   "metadata": {},
   "outputs": [],
   "source": [
    "# 1. Carrega as bases\n",
    "vagas = pd.read_csv(diretorio + 'vagas.csv', sep=\";\", encoding=\"utf-8-sig\")\n",
    "\n",
    "# 3. Amostragem estratificada com no mínimo 4 por grupo\n",
    "min_grupo = 4\n",
    "grupos_validos = vagas['ramo_atividade'].value_counts()\n",
    "grupos_validos = grupos_validos[grupos_validos >= min_grupo].index\n",
    "\n",
    "vagas_filtradas = vagas[vagas['ramo_atividade'].isin(grupos_validos)]\n",
    "\n",
    "vagas_sample = (\n",
    "    vagas_filtradas\n",
    "    .groupby('ramo_atividade', group_keys=False)\n",
    "    .apply(lambda x: x.sample(frac=100/len(vagas_filtradas), random_state=42))\n",
    "    .reset_index(drop=True)\n",
    ")"
   ]
  },
  {
   "cell_type": "code",
   "execution_count": 105,
   "metadata": {},
   "outputs": [],
   "source": [
    "vagas_sample.to_csv(diretorio + 'vagas_sample100.csv', sep=\";\", encoding = 'utf-8')"
   ]
  },
  {
   "cell_type": "code",
   "execution_count": 75,
   "metadata": {},
   "outputs": [
    {
     "name": "stderr",
     "output_type": "stream",
     "text": [
      "  0%|          | 3/3000 [00:08<1:52:13,  2.25s/it]"
     ]
    },
    {
     "name": "stdout",
     "output_type": "stream",
     "text": [
      ">>> Processadas 480030 descrições\n"
     ]
    },
    {
     "name": "stderr",
     "output_type": "stream",
     "text": [
      "  0%|          | 6/3000 [00:14<1:33:53,  1.88s/it]"
     ]
    },
    {
     "name": "stdout",
     "output_type": "stream",
     "text": [
      "Erro: Error code: 400 - {'error': {'message': \"The response was filtered due to the prompt triggering Azure OpenAI's content management policy. Please modify your prompt and retry. To learn more about our content filtering policies please read our documentation: https://go.microsoft.com/fwlink/?linkid=2198766\", 'type': None, 'param': 'prompt', 'code': 'content_filter', 'status': 400, 'innererror': {'code': 'ResponsibleAIPolicyViolation', 'content_filter_result': {'hate': {'filtered': False, 'severity': 'safe'}, 'jailbreak': {'filtered': False, 'detected': False}, 'self_harm': {'filtered': False, 'severity': 'safe'}, 'sexual': {'filtered': True, 'severity': 'medium'}, 'violence': {'filtered': False, 'severity': 'safe'}}}}}\n"
     ]
    },
    {
     "name": "stderr",
     "output_type": "stream",
     "text": [
      "  0%|          | 14/3000 [01:16<3:46:38,  4.55s/it]"
     ]
    },
    {
     "name": "stdout",
     "output_type": "stream",
     "text": [
      ">>> Processadas 331230 descrições\n"
     ]
    },
    {
     "name": "stderr",
     "output_type": "stream",
     "text": [
      "  1%|          | 32/3000 [03:21<2:37:20,  3.18s/it] "
     ]
    },
    {
     "name": "stdout",
     "output_type": "stream",
     "text": [
      "Erro: Error code: 400 - {'error': {'message': \"The response was filtered due to the prompt triggering Azure OpenAI's content management policy. Please modify your prompt and retry. To learn more about our content filtering policies please read our documentation: https://go.microsoft.com/fwlink/?linkid=2198766\", 'type': None, 'param': 'prompt', 'code': 'content_filter', 'status': 400, 'innererror': {'code': 'ResponsibleAIPolicyViolation', 'content_filter_result': {'hate': {'filtered': False, 'severity': 'safe'}, 'jailbreak': {'filtered': False, 'detected': False}, 'self_harm': {'filtered': False, 'severity': 'safe'}, 'sexual': {'filtered': True, 'severity': 'medium'}, 'violence': {'filtered': False, 'severity': 'safe'}}}}}\n"
     ]
    },
    {
     "name": "stderr",
     "output_type": "stream",
     "text": [
      "  3%|▎         | 91/3000 [11:23<7:19:24,  9.06s/it] "
     ]
    },
    {
     "name": "stdout",
     "output_type": "stream",
     "text": [
      ">>> Processadas 36120 descrições\n"
     ]
    },
    {
     "name": "stderr",
     "output_type": "stream",
     "text": [
      "  5%|▍         | 144/3000 [17:40<2:24:01,  3.03s/it] "
     ]
    },
    {
     "name": "stdout",
     "output_type": "stream",
     "text": [
      ">>> Processadas 513690 descrições\n"
     ]
    },
    {
     "name": "stderr",
     "output_type": "stream",
     "text": [
      "  5%|▌         | 152/3000 [18:41<2:33:46,  3.24s/it] "
     ]
    },
    {
     "name": "stdout",
     "output_type": "stream",
     "text": [
      ">>> Processadas 417840 descrições\n"
     ]
    },
    {
     "name": "stderr",
     "output_type": "stream",
     "text": [
      "  5%|▌         | 159/3000 [19:40<2:55:14,  3.70s/it] "
     ]
    },
    {
     "name": "stdout",
     "output_type": "stream",
     "text": [
      "Erro: Error code: 400 - {'error': {'message': \"The response was filtered due to the prompt triggering Azure OpenAI's content management policy. Please modify your prompt and retry. To learn more about our content filtering policies please read our documentation: https://go.microsoft.com/fwlink/?linkid=2198766\", 'type': None, 'param': 'prompt', 'code': 'content_filter', 'status': 400, 'innererror': {'code': 'ResponsibleAIPolicyViolation', 'content_filter_result': {'hate': {'filtered': False, 'severity': 'safe'}, 'jailbreak': {'filtered': False, 'detected': False}, 'self_harm': {'filtered': False, 'severity': 'safe'}, 'sexual': {'filtered': True, 'severity': 'medium'}, 'violence': {'filtered': False, 'severity': 'safe'}}}}}\n"
     ]
    },
    {
     "name": "stderr",
     "output_type": "stream",
     "text": [
      "  5%|▌         | 164/3000 [20:36<5:33:52,  7.06s/it] "
     ]
    },
    {
     "name": "stdout",
     "output_type": "stream",
     "text": [
      ">>> Processadas 46740 descrições\n"
     ]
    },
    {
     "name": "stderr",
     "output_type": "stream",
     "text": [
      "  6%|▌         | 171/3000 [21:35<7:04:00,  8.99s/it] "
     ]
    },
    {
     "name": "stdout",
     "output_type": "stream",
     "text": [
      ">>> Processadas 390450 descrições\n"
     ]
    },
    {
     "name": "stderr",
     "output_type": "stream",
     "text": [
      "  6%|▌         | 186/3000 [23:36<9:28:26, 12.12s/it] "
     ]
    },
    {
     "name": "stdout",
     "output_type": "stream",
     "text": [
      ">>> Processadas 22320 descrições\n"
     ]
    },
    {
     "name": "stderr",
     "output_type": "stream",
     "text": [
      "  7%|▋         | 218/3000 [27:41<8:48:27, 11.40s/it] "
     ]
    },
    {
     "name": "stdout",
     "output_type": "stream",
     "text": [
      ">>> Processadas 456330 descrições\n"
     ]
    },
    {
     "name": "stderr",
     "output_type": "stream",
     "text": [
      "  8%|▊         | 231/3000 [28:53<2:34:01,  3.34s/it] "
     ]
    },
    {
     "name": "stdout",
     "output_type": "stream",
     "text": [
      ">>> Processadas 165630 descrições\n"
     ]
    },
    {
     "name": "stderr",
     "output_type": "stream",
     "text": [
      "  8%|▊         | 232/3000 [28:56<2:21:00,  3.06s/it]"
     ]
    },
    {
     "name": "stdout",
     "output_type": "stream",
     "text": [
      ">>> Processadas 436290 descrições\n"
     ]
    },
    {
     "name": "stderr",
     "output_type": "stream",
     "text": [
      "  8%|▊         | 241/3000 [30:43<12:21:59, 16.14s/it]"
     ]
    },
    {
     "name": "stdout",
     "output_type": "stream",
     "text": [
      ">>> Processadas 280500 descrições\n"
     ]
    },
    {
     "name": "stderr",
     "output_type": "stream",
     "text": [
      "  8%|▊         | 246/3000 [30:54<3:16:37,  4.28s/it] "
     ]
    },
    {
     "name": "stdout",
     "output_type": "stream",
     "text": [
      ">>> Processadas 367890 descrições\n"
     ]
    },
    {
     "name": "stderr",
     "output_type": "stream",
     "text": [
      "  8%|▊         | 249/3000 [31:44<12:16:24, 16.06s/it]"
     ]
    },
    {
     "name": "stdout",
     "output_type": "stream",
     "text": [
      ">>> Processadas 405180 descrições\n"
     ]
    },
    {
     "name": "stderr",
     "output_type": "stream",
     "text": [
      "  9%|▊         | 261/3000 [32:55<4:28:36,  5.88s/it] "
     ]
    },
    {
     "name": "stdout",
     "output_type": "stream",
     "text": [
      ">>> Processadas 221640 descrições\n"
     ]
    },
    {
     "name": "stderr",
     "output_type": "stream",
     "text": [
      "  9%|▉         | 279/3000 [34:59<2:34:28,  3.41s/it] "
     ]
    },
    {
     "name": "stdout",
     "output_type": "stream",
     "text": [
      "Erro: Error code: 400 - {'error': {'message': \"The response was filtered due to the prompt triggering Azure OpenAI's content management policy. Please modify your prompt and retry. To learn more about our content filtering policies please read our documentation: https://go.microsoft.com/fwlink/?linkid=2198766\", 'type': None, 'param': 'prompt', 'code': 'content_filter', 'status': 400, 'innererror': {'code': 'ResponsibleAIPolicyViolation', 'content_filter_result': {'hate': {'filtered': False, 'severity': 'safe'}, 'jailbreak': {'filtered': False, 'detected': False}, 'self_harm': {'filtered': False, 'severity': 'safe'}, 'sexual': {'filtered': True, 'severity': 'medium'}, 'violence': {'filtered': False, 'severity': 'safe'}}}}}\n"
     ]
    },
    {
     "name": "stderr",
     "output_type": "stream",
     "text": [
      "  9%|▉         | 281/3000 [35:49<12:26:36, 16.48s/it]"
     ]
    },
    {
     "name": "stdout",
     "output_type": "stream",
     "text": [
      ">>> Processadas 466500 descrições\n"
     ]
    },
    {
     "name": "stderr",
     "output_type": "stream",
     "text": [
      " 10%|█         | 312/3000 [39:08<2:47:22,  3.74s/it] "
     ]
    },
    {
     "name": "stdout",
     "output_type": "stream",
     "text": [
      ">>> Processadas 129390 descrições\n"
     ]
    },
    {
     "name": "stderr",
     "output_type": "stream",
     "text": [
      " 11%|█         | 318/3000 [40:05<3:22:02,  4.52s/it] "
     ]
    },
    {
     "name": "stdout",
     "output_type": "stream",
     "text": [
      ">>> Processadas 405900 descrições\n"
     ]
    },
    {
     "name": "stderr",
     "output_type": "stream",
     "text": [
      " 12%|█▏        | 347/3000 [44:02<6:36:49,  8.97s/it] "
     ]
    },
    {
     "name": "stdout",
     "output_type": "stream",
     "text": [
      "Erro: Error code: 400 - {'error': {'message': \"The response was filtered due to the prompt triggering Azure OpenAI's content management policy. Please modify your prompt and retry. To learn more about our content filtering policies please read our documentation: https://go.microsoft.com/fwlink/?linkid=2198766\", 'type': None, 'param': 'prompt', 'code': 'content_filter', 'status': 400, 'innererror': {'code': 'ResponsibleAIPolicyViolation', 'content_filter_result': {'hate': {'filtered': False, 'severity': 'safe'}, 'jailbreak': {'filtered': False, 'detected': False}, 'self_harm': {'filtered': False, 'severity': 'safe'}, 'sexual': {'filtered': True, 'severity': 'medium'}, 'violence': {'filtered': False, 'severity': 'safe'}}}}}\n"
     ]
    },
    {
     "name": "stderr",
     "output_type": "stream",
     "text": [
      " 14%|█▎        | 406/3000 [51:15<2:49:50,  3.93s/it] "
     ]
    },
    {
     "name": "stdout",
     "output_type": "stream",
     "text": [
      "Erro: Error code: 400 - {'error': {'message': \"The response was filtered due to the prompt triggering Azure OpenAI's content management policy. Please modify your prompt and retry. To learn more about our content filtering policies please read our documentation: https://go.microsoft.com/fwlink/?linkid=2198766\", 'type': None, 'param': 'prompt', 'code': 'content_filter', 'status': 400, 'innererror': {'code': 'ResponsibleAIPolicyViolation', 'content_filter_result': {'hate': {'filtered': False, 'severity': 'safe'}, 'jailbreak': {'filtered': False, 'detected': False}, 'self_harm': {'filtered': False, 'severity': 'safe'}, 'sexual': {'filtered': True, 'severity': 'medium'}, 'violence': {'filtered': False, 'severity': 'safe'}}}}}\n"
     ]
    },
    {
     "name": "stderr",
     "output_type": "stream",
     "text": [
      " 14%|█▎        | 410/3000 [52:09<8:39:54, 12.04s/it] "
     ]
    },
    {
     "name": "stdout",
     "output_type": "stream",
     "text": [
      ">>> Processadas 417480 descrições\n"
     ]
    },
    {
     "name": "stderr",
     "output_type": "stream",
     "text": [
      " 14%|█▍        | 417/3000 [53:09<11:58:35, 16.69s/it]"
     ]
    },
    {
     "name": "stdout",
     "output_type": "stream",
     "text": [
      ">>> Processadas 90030 descrições\n"
     ]
    },
    {
     "name": "stderr",
     "output_type": "stream",
     "text": [
      " 14%|█▍        | 419/3000 [53:13<6:40:29,  9.31s/it] "
     ]
    },
    {
     "name": "stdout",
     "output_type": "stream",
     "text": [
      ">>> Processadas 376800 descrições\n"
     ]
    },
    {
     "name": "stderr",
     "output_type": "stream",
     "text": [
      " 14%|█▍        | 422/3000 [53:17<2:59:01,  4.17s/it]"
     ]
    },
    {
     "name": "stdout",
     "output_type": "stream",
     "text": [
      "Erro: Error code: 400 - {'error': {'message': \"The response was filtered due to the prompt triggering Azure OpenAI's content management policy. Please modify your prompt and retry. To learn more about our content filtering policies please read our documentation: https://go.microsoft.com/fwlink/?linkid=2198766\", 'type': None, 'param': 'prompt', 'code': 'content_filter', 'status': 400, 'innererror': {'code': 'ResponsibleAIPolicyViolation', 'content_filter_result': {'hate': {'filtered': False, 'severity': 'safe'}, 'jailbreak': {'filtered': False, 'detected': False}, 'self_harm': {'filtered': False, 'severity': 'safe'}, 'sexual': {'filtered': True, 'severity': 'medium'}, 'violence': {'filtered': False, 'severity': 'safe'}}}}}\n"
     ]
    },
    {
     "name": "stderr",
     "output_type": "stream",
     "text": [
      " 15%|█▍        | 446/3000 [56:21<2:52:49,  4.06s/it] "
     ]
    },
    {
     "name": "stdout",
     "output_type": "stream",
     "text": [
      ">>> Processadas 435450 descrições\n"
     ]
    },
    {
     "name": "stderr",
     "output_type": "stream",
     "text": [
      " 15%|█▍        | 448/3000 [56:23<1:47:13,  2.52s/it]"
     ]
    },
    {
     "name": "stdout",
     "output_type": "stream",
     "text": [
      ">>> Processadas 532860 descrições\n"
     ]
    },
    {
     "name": "stderr",
     "output_type": "stream",
     "text": [
      " 15%|█▌        | 450/3000 [57:17<9:05:51, 12.84s/it] "
     ]
    },
    {
     "name": "stdout",
     "output_type": "stream",
     "text": [
      ">>> Processadas 347430 descrições\n"
     ]
    },
    {
     "name": "stderr",
     "output_type": "stream",
     "text": [
      " 15%|█▌        | 460/3000 [58:22<4:52:29,  6.91s/it] "
     ]
    },
    {
     "name": "stdout",
     "output_type": "stream",
     "text": [
      ">>> Processadas 493110 descrições\n"
     ]
    },
    {
     "name": "stderr",
     "output_type": "stream",
     "text": [
      " 17%|█▋        | 524/3000 [1:06:33<4:40:11,  6.79s/it] "
     ]
    },
    {
     "name": "stdout",
     "output_type": "stream",
     "text": [
      ">>> Processadas 117420 descrições\n"
     ]
    },
    {
     "name": "stderr",
     "output_type": "stream",
     "text": [
      " 22%|██▏       | 662/3000 [1:24:06<3:14:53,  5.00s/it] "
     ]
    },
    {
     "name": "stdout",
     "output_type": "stream",
     "text": [
      ">>> Processadas 518640 descrições\n"
     ]
    },
    {
     "name": "stderr",
     "output_type": "stream",
     "text": [
      " 23%|██▎       | 690/3000 [1:27:56<7:18:12, 11.38s/it]"
     ]
    },
    {
     "name": "stdout",
     "output_type": "stream",
     "text": [
      ">>> Processadas 477630 descrições\n"
     ]
    },
    {
     "name": "stderr",
     "output_type": "stream",
     "text": [
      " 23%|██▎       | 701/3000 [1:29:06<3:45:40,  5.89s/it]"
     ]
    },
    {
     "name": "stdout",
     "output_type": "stream",
     "text": [
      "Erro: Error code: 400 - {'error': {'message': \"The response was filtered due to the prompt triggering Azure OpenAI's content management policy. Please modify your prompt and retry. To learn more about our content filtering policies please read our documentation: https://go.microsoft.com/fwlink/?linkid=2198766\", 'type': None, 'param': 'prompt', 'code': 'content_filter', 'status': 400, 'innererror': {'code': 'ResponsibleAIPolicyViolation', 'content_filter_result': {'hate': {'filtered': False, 'severity': 'safe'}, 'jailbreak': {'filtered': False, 'detected': False}, 'self_harm': {'filtered': False, 'severity': 'safe'}, 'sexual': {'filtered': True, 'severity': 'medium'}, 'violence': {'filtered': False, 'severity': 'safe'}}}}}\n"
     ]
    },
    {
     "name": "stderr",
     "output_type": "stream",
     "text": [
      " 24%|██▍       | 723/3000 [1:32:02<5:30:49,  8.72s/it]"
     ]
    },
    {
     "name": "stdout",
     "output_type": "stream",
     "text": [
      ">>> Processadas 562740 descrições\n"
     ]
    },
    {
     "name": "stderr",
     "output_type": "stream",
     "text": [
      " 24%|██▍       | 732/3000 [1:33:05<4:11:51,  6.66s/it]"
     ]
    },
    {
     "name": "stdout",
     "output_type": "stream",
     "text": [
      "Erro: Error code: 400 - {'error': {'message': \"The response was filtered due to the prompt triggering Azure OpenAI's content management policy. Please modify your prompt and retry. To learn more about our content filtering policies please read our documentation: https://go.microsoft.com/fwlink/?linkid=2198766\", 'type': None, 'param': 'prompt', 'code': 'content_filter', 'status': 400, 'innererror': {'code': 'ResponsibleAIPolicyViolation', 'content_filter_result': {'hate': {'filtered': False, 'severity': 'safe'}, 'jailbreak': {'filtered': False, 'detected': False}, 'self_harm': {'filtered': False, 'severity': 'safe'}, 'sexual': {'filtered': True, 'severity': 'medium'}, 'violence': {'filtered': False, 'severity': 'safe'}}}}}\n"
     ]
    },
    {
     "name": "stderr",
     "output_type": "stream",
     "text": [
      " 25%|██▌       | 761/3000 [1:37:03<9:43:21, 15.63s/it] "
     ]
    },
    {
     "name": "stdout",
     "output_type": "stream",
     "text": [
      ">>> Processadas 504630 descrições\n"
     ]
    },
    {
     "name": "stderr",
     "output_type": "stream",
     "text": [
      " 26%|██▋       | 794/3000 [1:41:09<7:06:39, 11.60s/it]"
     ]
    },
    {
     "name": "stdout",
     "output_type": "stream",
     "text": [
      "Erro: Error code: 400 - {'error': {'message': \"The response was filtered due to the prompt triggering Azure OpenAI's content management policy. Please modify your prompt and retry. To learn more about our content filtering policies please read our documentation: https://go.microsoft.com/fwlink/?linkid=2198766\", 'type': None, 'param': 'prompt', 'code': 'content_filter', 'status': 400, 'innererror': {'code': 'ResponsibleAIPolicyViolation', 'content_filter_result': {'hate': {'filtered': False, 'severity': 'safe'}, 'jailbreak': {'filtered': False, 'detected': False}, 'self_harm': {'filtered': False, 'severity': 'safe'}, 'sexual': {'filtered': True, 'severity': 'medium'}, 'violence': {'filtered': False, 'severity': 'safe'}}}}}\n"
     ]
    },
    {
     "name": "stderr",
     "output_type": "stream",
     "text": [
      " 27%|██▋       | 810/3000 [1:43:13<7:23:47, 12.16s/it] "
     ]
    },
    {
     "name": "stdout",
     "output_type": "stream",
     "text": [
      ">>> Processadas 45510 descrições\n"
     ]
    },
    {
     "name": "stderr",
     "output_type": "stream",
     "text": [
      " 28%|██▊       | 841/3000 [1:47:16<8:28:46, 14.14s/it] "
     ]
    },
    {
     "name": "stdout",
     "output_type": "stream",
     "text": [
      ">>> Processadas 537720 descrições\n"
     ]
    },
    {
     "name": "stderr",
     "output_type": "stream",
     "text": [
      " 28%|██▊       | 847/3000 [1:47:36<2:28:40,  4.14s/it]"
     ]
    },
    {
     "name": "stdout",
     "output_type": "stream",
     "text": [
      ">>> Processadas 344640 descrições\n"
     ]
    },
    {
     "name": "stderr",
     "output_type": "stream",
     "text": [
      " 29%|██▉       | 868/3000 [1:50:42<5:20:18,  9.01s/it]"
     ]
    },
    {
     "name": "stdout",
     "output_type": "stream",
     "text": [
      ">>> Processadas 188100 descrições\n"
     ]
    },
    {
     "name": "stderr",
     "output_type": "stream",
     "text": [
      " 29%|██▉       | 881/3000 [1:52:23<7:21:47, 12.51s/it]"
     ]
    },
    {
     "name": "stdout",
     "output_type": "stream",
     "text": [
      "Erro: Error code: 400 - {'error': {'message': \"The response was filtered due to the prompt triggering Azure OpenAI's content management policy. Please modify your prompt and retry. To learn more about our content filtering policies please read our documentation: https://go.microsoft.com/fwlink/?linkid=2198766\", 'type': None, 'param': 'prompt', 'code': 'content_filter', 'status': 400, 'innererror': {'code': 'ResponsibleAIPolicyViolation', 'content_filter_result': {'hate': {'filtered': False, 'severity': 'safe'}, 'jailbreak': {'filtered': False, 'detected': False}, 'self_harm': {'filtered': False, 'severity': 'safe'}, 'sexual': {'filtered': True, 'severity': 'medium'}, 'violence': {'filtered': False, 'severity': 'safe'}}}}}\n"
     ]
    },
    {
     "name": "stderr",
     "output_type": "stream",
     "text": [
      " 30%|██▉       | 888/3000 [1:52:50<1:57:13,  3.33s/it]"
     ]
    },
    {
     "name": "stdout",
     "output_type": "stream",
     "text": [
      ">>> Processadas 190350 descrições\n"
     ]
    },
    {
     "name": "stderr",
     "output_type": "stream",
     "text": [
      " 30%|███       | 912/3000 [1:55:55<2:03:42,  3.55s/it]"
     ]
    },
    {
     "name": "stdout",
     "output_type": "stream",
     "text": [
      ">>> Processadas 151680 descrições\n"
     ]
    },
    {
     "name": "stderr",
     "output_type": "stream",
     "text": [
      " 33%|███▎      | 989/3000 [2:05:59<3:13:18,  5.77s/it]"
     ]
    },
    {
     "name": "stdout",
     "output_type": "stream",
     "text": [
      "Erro: Error code: 400 - {'error': {'message': \"The response was filtered due to the prompt triggering Azure OpenAI's content management policy. Please modify your prompt and retry. To learn more about our content filtering policies please read our documentation: https://go.microsoft.com/fwlink/?linkid=2198766\", 'type': None, 'param': 'prompt', 'code': 'content_filter', 'status': 400, 'innererror': {'code': 'ResponsibleAIPolicyViolation', 'content_filter_result': {'hate': {'filtered': False, 'severity': 'safe'}, 'jailbreak': {'filtered': False, 'detected': False}, 'self_harm': {'filtered': False, 'severity': 'safe'}, 'sexual': {'filtered': True, 'severity': 'medium'}, 'violence': {'filtered': False, 'severity': 'safe'}}}}}\n"
     ]
    },
    {
     "name": "stderr",
     "output_type": "stream",
     "text": [
      " 33%|███▎      | 994/3000 [2:06:44<5:27:11,  9.79s/it]"
     ]
    },
    {
     "name": "stdout",
     "output_type": "stream",
     "text": [
      ">>> Processadas 461340 descrições\n"
     ]
    },
    {
     "name": "stderr",
     "output_type": "stream",
     "text": [
      " 34%|███▎      | 1011/3000 [2:09:00<6:04:13, 10.99s/it]"
     ]
    },
    {
     "name": "stdout",
     "output_type": "stream",
     "text": [
      ">>> Processadas 519900 descrições\n"
     ]
    },
    {
     "name": "stderr",
     "output_type": "stream",
     "text": [
      " 35%|███▌      | 1062/3000 [2:15:12<2:28:28,  4.60s/it]"
     ]
    },
    {
     "name": "stdout",
     "output_type": "stream",
     "text": [
      ">>> Processadas 202140 descrições\n"
     ]
    },
    {
     "name": "stderr",
     "output_type": "stream",
     "text": [
      " 36%|███▌      | 1065/3000 [2:15:55<7:30:51, 13.98s/it]"
     ]
    },
    {
     "name": "stdout",
     "output_type": "stream",
     "text": [
      ">>> Processadas 228390 descrições\n"
     ]
    },
    {
     "name": "stderr",
     "output_type": "stream",
     "text": [
      " 36%|███▌      | 1081/3000 [2:17:58<7:36:50, 14.28s/it]"
     ]
    },
    {
     "name": "stdout",
     "output_type": "stream",
     "text": [
      ">>> Processadas 426840 descrições\n"
     ]
    },
    {
     "name": "stderr",
     "output_type": "stream",
     "text": [
      " 36%|███▌      | 1086/3000 [2:18:16<2:23:52,  4.51s/it]"
     ]
    },
    {
     "name": "stdout",
     "output_type": "stream",
     "text": [
      ">>> Processadas 303150 descrições\n"
     ]
    },
    {
     "name": "stderr",
     "output_type": "stream",
     "text": [
      " 38%|███▊      | 1145/3000 [2:26:08<6:42:22, 13.01s/it]"
     ]
    },
    {
     "name": "stdout",
     "output_type": "stream",
     "text": [
      ">>> Processadas 298020 descrições\n"
     ]
    },
    {
     "name": "stderr",
     "output_type": "stream",
     "text": [
      " 39%|███▊      | 1158/3000 [2:27:32<2:47:34,  5.46s/it]"
     ]
    },
    {
     "name": "stdout",
     "output_type": "stream",
     "text": [
      ">>> Processadas 305400 descrições\n"
     ]
    },
    {
     "name": "stderr",
     "output_type": "stream",
     "text": [
      " 41%|████      | 1229/3000 [2:36:41<3:00:42,  6.12s/it]"
     ]
    },
    {
     "name": "stdout",
     "output_type": "stream",
     "text": [
      ">>> Processadas 496200 descrições\n"
     ]
    },
    {
     "name": "stderr",
     "output_type": "stream",
     "text": [
      " 43%|████▎     | 1295/3000 [2:44:55<1:59:02,  4.19s/it]"
     ]
    },
    {
     "name": "stdout",
     "output_type": "stream",
     "text": [
      "Erro: Error code: 400 - {'error': {'message': \"The response was filtered due to the prompt triggering Azure OpenAI's content management policy. Please modify your prompt and retry. To learn more about our content filtering policies please read our documentation: https://go.microsoft.com/fwlink/?linkid=2198766\", 'type': None, 'param': 'prompt', 'code': 'content_filter', 'status': 400, 'innererror': {'code': 'ResponsibleAIPolicyViolation', 'content_filter_result': {'hate': {'filtered': False, 'severity': 'safe'}, 'jailbreak': {'filtered': False, 'detected': False}, 'self_harm': {'filtered': False, 'severity': 'safe'}, 'sexual': {'filtered': True, 'severity': 'medium'}, 'violence': {'filtered': False, 'severity': 'safe'}}}}}\n"
     ]
    },
    {
     "name": "stderr",
     "output_type": "stream",
     "text": [
      " 44%|████▍     | 1320/3000 [2:47:59<1:31:17,  3.26s/it]"
     ]
    },
    {
     "name": "stdout",
     "output_type": "stream",
     "text": [
      ">>> Processadas 105630 descrições\n"
     ]
    },
    {
     "name": "stderr",
     "output_type": "stream",
     "text": [
      " 45%|████▍     | 1336/3000 [2:50:00<1:28:12,  3.18s/it]"
     ]
    },
    {
     "name": "stdout",
     "output_type": "stream",
     "text": [
      ">>> Processadas 246060 descrições\n"
     ]
    },
    {
     "name": "stderr",
     "output_type": "stream",
     "text": [
      " 46%|████▌     | 1380/3000 [2:56:03<3:47:23,  8.42s/it]"
     ]
    },
    {
     "name": "stdout",
     "output_type": "stream",
     "text": [
      ">>> Processadas 5760 descrições\n"
     ]
    },
    {
     "name": "stderr",
     "output_type": "stream",
     "text": [
      " 46%|████▋     | 1390/3000 [2:57:06<2:04:23,  4.64s/it]"
     ]
    },
    {
     "name": "stdout",
     "output_type": "stream",
     "text": [
      ">>> Processadas 265110 descrições\n"
     ]
    },
    {
     "name": "stderr",
     "output_type": "stream",
     "text": [
      " 47%|████▋     | 1412/3000 [3:00:06<3:28:41,  7.88s/it]"
     ]
    },
    {
     "name": "stdout",
     "output_type": "stream",
     "text": [
      "Erro: Error code: 400 - {'error': {'message': \"The response was filtered due to the prompt triggering Azure OpenAI's content management policy. Please modify your prompt and retry. To learn more about our content filtering policies please read our documentation: https://go.microsoft.com/fwlink/?linkid=2198766\", 'type': None, 'param': 'prompt', 'code': 'content_filter', 'status': 400, 'innererror': {'code': 'ResponsibleAIPolicyViolation', 'content_filter_result': {'hate': {'filtered': False, 'severity': 'safe'}, 'jailbreak': {'filtered': False, 'detected': False}, 'self_harm': {'filtered': False, 'severity': 'safe'}, 'sexual': {'filtered': True, 'severity': 'medium'}, 'violence': {'filtered': False, 'severity': 'safe'}}}}}\n"
     ]
    },
    {
     "name": "stderr",
     "output_type": "stream",
     "text": [
      " 47%|████▋     | 1413/3000 [3:00:07<2:31:15,  5.72s/it]"
     ]
    },
    {
     "name": "stdout",
     "output_type": "stream",
     "text": [
      "Erro: Error code: 400 - {'error': {'message': \"The response was filtered due to the prompt triggering Azure OpenAI's content management policy. Please modify your prompt and retry. To learn more about our content filtering policies please read our documentation: https://go.microsoft.com/fwlink/?linkid=2198766\", 'type': None, 'param': 'prompt', 'code': 'content_filter', 'status': 400, 'innererror': {'code': 'ResponsibleAIPolicyViolation', 'content_filter_result': {'hate': {'filtered': False, 'severity': 'safe'}, 'jailbreak': {'filtered': False, 'detected': False}, 'self_harm': {'filtered': False, 'severity': 'safe'}, 'sexual': {'filtered': True, 'severity': 'medium'}, 'violence': {'filtered': False, 'severity': 'safe'}}}}}\n"
     ]
    },
    {
     "name": "stderr",
     "output_type": "stream",
     "text": [
      " 47%|████▋     | 1418/3000 [3:00:52<4:16:42,  9.74s/it]"
     ]
    },
    {
     "name": "stdout",
     "output_type": "stream",
     "text": [
      ">>> Processadas 558000 descrições\n"
     ]
    },
    {
     "name": "stderr",
     "output_type": "stream",
     "text": [
      " 48%|████▊     | 1433/3000 [3:02:54<5:49:52, 13.40s/it]"
     ]
    },
    {
     "name": "stdout",
     "output_type": "stream",
     "text": [
      ">>> Processadas 274380 descrições\n"
     ]
    },
    {
     "name": "stderr",
     "output_type": "stream",
     "text": [
      " 48%|████▊     | 1435/3000 [3:03:09<4:48:40, 11.07s/it]"
     ]
    },
    {
     "name": "stdout",
     "output_type": "stream",
     "text": [
      ">>> Processadas 533040 descrições\n"
     ]
    },
    {
     "name": "stderr",
     "output_type": "stream",
     "text": [
      " 48%|████▊     | 1444/3000 [3:04:12<3:22:52,  7.82s/it]"
     ]
    },
    {
     "name": "stdout",
     "output_type": "stream",
     "text": [
      ">>> Processadas 85530 descrições\n"
     ]
    },
    {
     "name": "stderr",
     "output_type": "stream",
     "text": [
      " 49%|████▉     | 1464/3000 [3:06:22<1:28:36,  3.46s/it]"
     ]
    },
    {
     "name": "stdout",
     "output_type": "stream",
     "text": [
      ">>> Processadas 128820 descrições\n"
     ]
    },
    {
     "name": "stderr",
     "output_type": "stream",
     "text": [
      " 49%|████▉     | 1465/3000 [3:07:01<5:59:48, 14.06s/it]"
     ]
    },
    {
     "name": "stdout",
     "output_type": "stream",
     "text": [
      ">>> Processadas 303720 descrições\n"
     ]
    },
    {
     "name": "stderr",
     "output_type": "stream",
     "text": [
      " 50%|████▉     | 1489/3000 [3:10:03<5:24:01, 12.87s/it]"
     ]
    },
    {
     "name": "stdout",
     "output_type": "stream",
     "text": [
      "Erro: Error code: 400 - {'error': {'message': \"The response was filtered due to the prompt triggering Azure OpenAI's content management policy. Please modify your prompt and retry. To learn more about our content filtering policies please read our documentation: https://go.microsoft.com/fwlink/?linkid=2198766\", 'type': None, 'param': 'prompt', 'code': 'content_filter', 'status': 400, 'innererror': {'code': 'ResponsibleAIPolicyViolation', 'content_filter_result': {'hate': {'filtered': False, 'severity': 'safe'}, 'jailbreak': {'filtered': False, 'detected': False}, 'self_harm': {'filtered': False, 'severity': 'safe'}, 'sexual': {'filtered': True, 'severity': 'medium'}, 'violence': {'filtered': False, 'severity': 'safe'}}}}}\n"
     ]
    },
    {
     "name": "stderr",
     "output_type": "stream",
     "text": [
      " 51%|█████     | 1533/3000 [3:15:28<2:32:49,  6.25s/it]"
     ]
    },
    {
     "name": "stdout",
     "output_type": "stream",
     "text": [
      ">>> Processadas 228900 descrições\n"
     ]
    },
    {
     "name": "stderr",
     "output_type": "stream",
     "text": [
      " 52%|█████▏    | 1552/3000 [3:17:37<1:36:27,  4.00s/it]"
     ]
    },
    {
     "name": "stdout",
     "output_type": "stream",
     "text": [
      ">>> Processadas 541200 descrições\n"
     ]
    },
    {
     "name": "stderr",
     "output_type": "stream",
     "text": [
      " 53%|█████▎    | 1595/3000 [3:23:33<4:04:56, 10.46s/it]"
     ]
    },
    {
     "name": "stdout",
     "output_type": "stream",
     "text": [
      ">>> Processadas 134190 descrições\n"
     ]
    },
    {
     "name": "stderr",
     "output_type": "stream",
     "text": [
      " 53%|█████▎    | 1603/3000 [3:24:34<4:04:17, 10.49s/it]"
     ]
    },
    {
     "name": "stdout",
     "output_type": "stream",
     "text": [
      "Erro: Error code: 400 - {'error': {'message': \"The response was filtered due to the prompt triggering Azure OpenAI's content management policy. Please modify your prompt and retry. To learn more about our content filtering policies please read our documentation: https://go.microsoft.com/fwlink/?linkid=2198766\", 'type': None, 'param': 'prompt', 'code': 'content_filter', 'status': 400, 'innererror': {'code': 'ResponsibleAIPolicyViolation', 'content_filter_result': {'hate': {'filtered': False, 'severity': 'safe'}, 'jailbreak': {'filtered': False, 'detected': False}, 'self_harm': {'filtered': False, 'severity': 'safe'}, 'sexual': {'filtered': True, 'severity': 'medium'}, 'violence': {'filtered': False, 'severity': 'safe'}}}}}\n",
      ">>> Processadas 307020 descrições\n"
     ]
    },
    {
     "name": "stderr",
     "output_type": "stream",
     "text": [
      " 54%|█████▍    | 1620/3000 [3:26:39<2:55:58,  7.65s/it]"
     ]
    },
    {
     "name": "stdout",
     "output_type": "stream",
     "text": [
      ">>> Processadas 374040 descrições\n"
     ]
    },
    {
     "name": "stderr",
     "output_type": "stream",
     "text": [
      " 54%|█████▍    | 1631/3000 [3:27:44<1:20:58,  3.55s/it]"
     ]
    },
    {
     "name": "stdout",
     "output_type": "stream",
     "text": [
      ">>> Processadas 537360 descrições\n"
     ]
    },
    {
     "name": "stderr",
     "output_type": "stream",
     "text": [
      " 55%|█████▍    | 1637/3000 [3:28:45<2:26:25,  6.45s/it]"
     ]
    },
    {
     "name": "stdout",
     "output_type": "stream",
     "text": [
      ">>> Processadas 269160 descrições\n"
     ]
    },
    {
     "name": "stderr",
     "output_type": "stream",
     "text": [
      " 56%|█████▌    | 1684/3000 [3:34:50<2:48:20,  7.67s/it]"
     ]
    },
    {
     "name": "stdout",
     "output_type": "stream",
     "text": [
      ">>> Processadas 400560 descrições\n"
     ]
    },
    {
     "name": "stderr",
     "output_type": "stream",
     "text": [
      " 57%|█████▋    | 1699/3000 [3:36:52<3:46:21, 10.44s/it]"
     ]
    },
    {
     "name": "stdout",
     "output_type": "stream",
     "text": [
      ">>> Processadas 539070 descrições\n"
     ]
    },
    {
     "name": "stderr",
     "output_type": "stream",
     "text": [
      " 58%|█████▊    | 1728/3000 [3:40:12<1:42:20,  4.83s/it]"
     ]
    },
    {
     "name": "stdout",
     "output_type": "stream",
     "text": [
      ">>> Processadas 159630 descrições\n"
     ]
    },
    {
     "name": "stderr",
     "output_type": "stream",
     "text": [
      " 58%|█████▊    | 1745/3000 [3:42:44<4:18:40, 12.37s/it]"
     ]
    },
    {
     "name": "stdout",
     "output_type": "stream",
     "text": [
      ">>> Processadas 188790 descrições\n"
     ]
    },
    {
     "name": "stderr",
     "output_type": "stream",
     "text": [
      " 58%|█████▊    | 1752/3000 [3:43:15<1:40:13,  4.82s/it]"
     ]
    },
    {
     "name": "stdout",
     "output_type": "stream",
     "text": [
      "Erro: Error code: 400 - {'error': {'message': \"The response was filtered due to the prompt triggering Azure OpenAI's content management policy. Please modify your prompt and retry. To learn more about our content filtering policies please read our documentation: https://go.microsoft.com/fwlink/?linkid=2198766\", 'type': None, 'param': 'prompt', 'code': 'content_filter', 'status': 400, 'innererror': {'code': 'ResponsibleAIPolicyViolation', 'content_filter_result': {'hate': {'filtered': False, 'severity': 'safe'}, 'jailbreak': {'filtered': False, 'detected': False}, 'self_harm': {'filtered': False, 'severity': 'safe'}, 'sexual': {'filtered': True, 'severity': 'medium'}, 'violence': {'filtered': False, 'severity': 'safe'}}}}}\n"
     ]
    },
    {
     "name": "stderr",
     "output_type": "stream",
     "text": [
      " 59%|█████▉    | 1780/3000 [3:47:07<2:38:04,  7.77s/it]"
     ]
    },
    {
     "name": "stdout",
     "output_type": "stream",
     "text": [
      ">>> Processadas 184920 descrições\n"
     ]
    },
    {
     "name": "stderr",
     "output_type": "stream",
     "text": [
      " 60%|█████▉    | 1795/3000 [3:49:07<3:24:53, 10.20s/it]"
     ]
    },
    {
     "name": "stdout",
     "output_type": "stream",
     "text": [
      ">>> Processadas 308970 descrições\n"
     ]
    },
    {
     "name": "stderr",
     "output_type": "stream",
     "text": [
      " 60%|██████    | 1801/3000 [3:49:53<3:51:03, 11.56s/it]"
     ]
    },
    {
     "name": "stdout",
     "output_type": "stream",
     "text": [
      ">>> Processadas 45840 descrições\n"
     ]
    },
    {
     "name": "stderr",
     "output_type": "stream",
     "text": [
      " 61%|██████    | 1819/3000 [3:52:11<3:18:41, 10.09s/it]"
     ]
    },
    {
     "name": "stdout",
     "output_type": "stream",
     "text": [
      ">>> Processadas 144990 descrições\n"
     ]
    },
    {
     "name": "stderr",
     "output_type": "stream",
     "text": [
      " 61%|██████    | 1820/3000 [3:52:11<2:24:33,  7.35s/it]"
     ]
    },
    {
     "name": "stdout",
     "output_type": "stream",
     "text": [
      ">>> Processadas 720 descrições\n"
     ]
    },
    {
     "name": "stderr",
     "output_type": "stream",
     "text": [
      " 61%|██████    | 1825/3000 [3:52:56<3:52:20, 11.86s/it]"
     ]
    },
    {
     "name": "stdout",
     "output_type": "stream",
     "text": [
      "Erro: Error code: 400 - {'error': {'message': \"The response was filtered due to the prompt triggering Azure OpenAI's content management policy. Please modify your prompt and retry. To learn more about our content filtering policies please read our documentation: https://go.microsoft.com/fwlink/?linkid=2198766\", 'type': None, 'param': 'prompt', 'code': 'content_filter', 'status': 400, 'innererror': {'code': 'ResponsibleAIPolicyViolation', 'content_filter_result': {'hate': {'filtered': False, 'severity': 'safe'}, 'jailbreak': {'filtered': False, 'detected': False}, 'self_harm': {'filtered': False, 'severity': 'safe'}, 'sexual': {'filtered': True, 'severity': 'medium'}, 'violence': {'filtered': False, 'severity': 'safe'}}}}}\n"
     ]
    },
    {
     "name": "stderr",
     "output_type": "stream",
     "text": [
      " 61%|██████    | 1836/3000 [3:54:14<2:23:52,  7.42s/it]"
     ]
    },
    {
     "name": "stdout",
     "output_type": "stream",
     "text": [
      "Erro: Error code: 400 - {'error': {'message': \"The response was filtered due to the prompt triggering Azure OpenAI's content management policy. Please modify your prompt and retry. To learn more about our content filtering policies please read our documentation: https://go.microsoft.com/fwlink/?linkid=2198766\", 'type': None, 'param': 'prompt', 'code': 'content_filter', 'status': 400, 'innererror': {'code': 'ResponsibleAIPolicyViolation', 'content_filter_result': {'hate': {'filtered': False, 'severity': 'safe'}, 'jailbreak': {'filtered': False, 'detected': False}, 'self_harm': {'filtered': False, 'severity': 'safe'}, 'sexual': {'filtered': True, 'severity': 'medium'}, 'violence': {'filtered': False, 'severity': 'safe'}}}}}\n"
     ]
    },
    {
     "name": "stderr",
     "output_type": "stream",
     "text": [
      " 62%|██████▏   | 1854/3000 [3:56:19<1:22:19,  4.31s/it]"
     ]
    },
    {
     "name": "stdout",
     "output_type": "stream",
     "text": [
      ">>> Processadas 10020 descrições\n"
     ]
    },
    {
     "name": "stderr",
     "output_type": "stream",
     "text": [
      " 62%|██████▏   | 1858/3000 [3:57:04<2:56:45,  9.29s/it]"
     ]
    },
    {
     "name": "stdout",
     "output_type": "stream",
     "text": [
      ">>> Processadas 528990 descrições\n"
     ]
    },
    {
     "name": "stderr",
     "output_type": "stream",
     "text": [
      " 62%|██████▏   | 1865/3000 [3:58:03<3:47:30, 12.03s/it]"
     ]
    },
    {
     "name": "stdout",
     "output_type": "stream",
     "text": [
      "Erro: Error code: 400 - {'error': {'message': \"The response was filtered due to the prompt triggering Azure OpenAI's content management policy. Please modify your prompt and retry. To learn more about our content filtering policies please read our documentation: https://go.microsoft.com/fwlink/?linkid=2198766\", 'type': None, 'param': 'prompt', 'code': 'content_filter', 'status': 400, 'innererror': {'code': 'ResponsibleAIPolicyViolation', 'content_filter_result': {'hate': {'filtered': False, 'severity': 'safe'}, 'jailbreak': {'filtered': False, 'detected': False}, 'self_harm': {'filtered': False, 'severity': 'safe'}, 'sexual': {'filtered': True, 'severity': 'medium'}, 'violence': {'filtered': False, 'severity': 'safe'}}}}}\n"
     ]
    },
    {
     "name": "stderr",
     "output_type": "stream",
     "text": [
      " 63%|██████▎   | 1883/3000 [4:00:20<3:10:20, 10.22s/it]"
     ]
    },
    {
     "name": "stdout",
     "output_type": "stream",
     "text": [
      ">>> Processadas 307920 descrições\n"
     ]
    },
    {
     "name": "stderr",
     "output_type": "stream",
     "text": [
      " 63%|██████▎   | 1889/3000 [4:01:07<3:46:08, 12.21s/it]"
     ]
    },
    {
     "name": "stdout",
     "output_type": "stream",
     "text": [
      ">>> Processadas 48660 descrições\n"
     ]
    },
    {
     "name": "stderr",
     "output_type": "stream",
     "text": [
      " 64%|██████▎   | 1908/3000 [4:03:25<2:21:00,  7.75s/it]"
     ]
    },
    {
     "name": "stdout",
     "output_type": "stream",
     "text": [
      ">>> Processadas 454530 descrições\n"
     ]
    },
    {
     "name": "stderr",
     "output_type": "stream",
     "text": [
      " 64%|██████▍   | 1915/3000 [4:04:24<3:01:49, 10.05s/it]"
     ]
    },
    {
     "name": "stdout",
     "output_type": "stream",
     "text": [
      ">>> Processadas 318180 descrições\n"
     ]
    },
    {
     "name": "stderr",
     "output_type": "stream",
     "text": [
      " 64%|██████▍   | 1918/3000 [4:04:30<1:23:39,  4.64s/it]"
     ]
    },
    {
     "name": "stdout",
     "output_type": "stream",
     "text": [
      ">>> Processadas 386850 descrições\n"
     ]
    },
    {
     "name": "stderr",
     "output_type": "stream",
     "text": [
      " 64%|██████▍   | 1928/3000 [4:05:46<1:40:57,  5.65s/it]"
     ]
    },
    {
     "name": "stdout",
     "output_type": "stream",
     "text": [
      "Erro: Error code: 400 - {'error': {'message': \"The response was filtered due to the prompt triggering Azure OpenAI's content management policy. Please modify your prompt and retry. To learn more about our content filtering policies please read our documentation: https://go.microsoft.com/fwlink/?linkid=2198766\", 'type': None, 'param': 'prompt', 'code': 'content_filter', 'status': 400, 'innererror': {'code': 'ResponsibleAIPolicyViolation', 'content_filter_result': {'hate': {'filtered': False, 'severity': 'safe'}, 'jailbreak': {'filtered': False, 'detected': False}, 'self_harm': {'filtered': False, 'severity': 'safe'}, 'sexual': {'filtered': True, 'severity': 'medium'}, 'violence': {'filtered': False, 'severity': 'safe'}}}}}\n"
     ]
    },
    {
     "name": "stderr",
     "output_type": "stream",
     "text": [
      " 65%|██████▍   | 1946/3000 [4:08:16<2:33:59,  8.77s/it]"
     ]
    },
    {
     "name": "stdout",
     "output_type": "stream",
     "text": [
      ">>> Processadas 329400 descrições\n"
     ]
    },
    {
     "name": "stderr",
     "output_type": "stream",
     "text": [
      " 66%|██████▌   | 1968/3000 [4:10:51<1:29:05,  5.18s/it]"
     ]
    },
    {
     "name": "stdout",
     "output_type": "stream",
     "text": [
      "Erro: Error code: 400 - {'error': {'message': \"The response was filtered due to the prompt triggering Azure OpenAI's content management policy. Please modify your prompt and retry. To learn more about our content filtering policies please read our documentation: https://go.microsoft.com/fwlink/?linkid=2198766\", 'type': None, 'param': 'prompt', 'code': 'content_filter', 'status': 400, 'innererror': {'code': 'ResponsibleAIPolicyViolation', 'content_filter_result': {'hate': {'filtered': False, 'severity': 'safe'}, 'jailbreak': {'filtered': False, 'detected': False}, 'self_harm': {'filtered': False, 'severity': 'safe'}, 'sexual': {'filtered': True, 'severity': 'medium'}, 'violence': {'filtered': False, 'severity': 'safe'}}}}}\n"
     ]
    },
    {
     "name": "stderr",
     "output_type": "stream",
     "text": [
      " 66%|██████▌   | 1983/3000 [4:12:53<2:01:43,  7.18s/it]"
     ]
    },
    {
     "name": "stdout",
     "output_type": "stream",
     "text": [
      ">>> Processadas 192990 descrições\n"
     ]
    },
    {
     "name": "stderr",
     "output_type": "stream",
     "text": [
      " 66%|██████▋   | 1990/3000 [4:13:40<1:11:45,  4.26s/it]"
     ]
    },
    {
     "name": "stdout",
     "output_type": "stream",
     "text": [
      ">>> Processadas 295260 descrições\n"
     ]
    },
    {
     "name": "stderr",
     "output_type": "stream",
     "text": [
      " 68%|██████▊   | 2025/3000 [4:18:29<3:25:11, 12.63s/it]"
     ]
    },
    {
     "name": "stdout",
     "output_type": "stream",
     "text": [
      ">>> Processadas 304200 descrições\n"
     ]
    },
    {
     "name": "stderr",
     "output_type": "stream",
     "text": [
      " 68%|██████▊   | 2026/3000 [4:18:30<2:27:13,  9.07s/it]"
     ]
    },
    {
     "name": "stdout",
     "output_type": "stream",
     "text": [
      "Erro: Error code: 400 - {'error': {'message': \"The response was filtered due to the prompt triggering Azure OpenAI's content management policy. Please modify your prompt and retry. To learn more about our content filtering policies please read our documentation: https://go.microsoft.com/fwlink/?linkid=2198766\", 'type': None, 'param': 'prompt', 'code': 'content_filter', 'status': 400, 'innererror': {'code': 'ResponsibleAIPolicyViolation', 'content_filter_result': {'hate': {'filtered': False, 'severity': 'safe'}, 'jailbreak': {'filtered': False, 'detected': False}, 'self_harm': {'filtered': False, 'severity': 'safe'}, 'sexual': {'filtered': True, 'severity': 'medium'}, 'violence': {'filtered': False, 'severity': 'safe'}}}}}\n"
     ]
    },
    {
     "name": "stderr",
     "output_type": "stream",
     "text": [
      " 68%|██████▊   | 2027/3000 [4:18:43<2:48:09, 10.37s/it]"
     ]
    },
    {
     "name": "stdout",
     "output_type": "stream",
     "text": [
      ">>> Processadas 477420 descrições\n"
     ]
    },
    {
     "name": "stderr",
     "output_type": "stream",
     "text": [
      " 68%|██████▊   | 2028/3000 [4:18:44<2:01:27,  7.50s/it]"
     ]
    },
    {
     "name": "stdout",
     "output_type": "stream",
     "text": [
      ">>> Processadas 137970 descrições\n"
     ]
    },
    {
     "name": "stderr",
     "output_type": "stream",
     "text": [
      " 68%|██████▊   | 2032/3000 [4:18:59<1:19:29,  4.93s/it]"
     ]
    },
    {
     "name": "stdout",
     "output_type": "stream",
     "text": [
      ">>> Processadas 241080 descrições\n"
     ]
    },
    {
     "name": "stderr",
     "output_type": "stream",
     "text": [
      " 68%|██████▊   | 2043/3000 [4:20:45<2:39:53, 10.02s/it]"
     ]
    },
    {
     "name": "stdout",
     "output_type": "stream",
     "text": [
      "Erro: Error code: 400 - {'error': {'message': \"The response was filtered due to the prompt triggering Azure OpenAI's content management policy. Please modify your prompt and retry. To learn more about our content filtering policies please read our documentation: https://go.microsoft.com/fwlink/?linkid=2198766\", 'type': None, 'param': 'prompt', 'code': 'content_filter', 'status': 400, 'innererror': {'code': 'ResponsibleAIPolicyViolation', 'content_filter_result': {'hate': {'filtered': False, 'severity': 'safe'}, 'jailbreak': {'filtered': False, 'detected': False}, 'self_harm': {'filtered': False, 'severity': 'safe'}, 'sexual': {'filtered': True, 'severity': 'medium'}, 'violence': {'filtered': False, 'severity': 'safe'}}}}}\n"
     ]
    },
    {
     "name": "stderr",
     "output_type": "stream",
     "text": [
      " 69%|██████▉   | 2077/3000 [4:24:52<1:21:37,  5.31s/it]"
     ]
    },
    {
     "name": "stdout",
     "output_type": "stream",
     "text": [
      "Erro: Error code: 400 - {'error': {'message': \"The response was filtered due to the prompt triggering Azure OpenAI's content management policy. Please modify your prompt and retry. To learn more about our content filtering policies please read our documentation: https://go.microsoft.com/fwlink/?linkid=2198766\", 'type': None, 'param': 'prompt', 'code': 'content_filter', 'status': 400, 'innererror': {'code': 'ResponsibleAIPolicyViolation', 'content_filter_result': {'hate': {'filtered': False, 'severity': 'safe'}, 'jailbreak': {'filtered': False, 'detected': False}, 'self_harm': {'filtered': False, 'severity': 'safe'}, 'sexual': {'filtered': True, 'severity': 'medium'}, 'violence': {'filtered': False, 'severity': 'safe'}}}}}\n"
     ]
    },
    {
     "name": "stderr",
     "output_type": "stream",
     "text": [
      " 69%|██████▉   | 2081/3000 [4:25:39<3:06:03, 12.15s/it]"
     ]
    },
    {
     "name": "stdout",
     "output_type": "stream",
     "text": [
      ">>> Processadas 64170 descrições\n"
     ]
    },
    {
     "name": "stderr",
     "output_type": "stream",
     "text": [
      " 71%|███████   | 2118/3000 [4:30:03<1:10:21,  4.79s/it]"
     ]
    },
    {
     "name": "stdout",
     "output_type": "stream",
     "text": [
      "Erro: Error code: 400 - {'error': {'message': \"The response was filtered due to the prompt triggering Azure OpenAI's content management policy. Please modify your prompt and retry. To learn more about our content filtering policies please read our documentation: https://go.microsoft.com/fwlink/?linkid=2198766\", 'type': None, 'param': 'prompt', 'code': 'content_filter', 'status': 400, 'innererror': {'code': 'ResponsibleAIPolicyViolation', 'content_filter_result': {'hate': {'filtered': False, 'severity': 'safe'}, 'jailbreak': {'filtered': False, 'detected': False}, 'self_harm': {'filtered': False, 'severity': 'safe'}, 'sexual': {'filtered': True, 'severity': 'medium'}, 'violence': {'filtered': False, 'severity': 'safe'}}}}}\n"
     ]
    },
    {
     "name": "stderr",
     "output_type": "stream",
     "text": [
      " 71%|███████   | 2133/3000 [4:32:05<1:26:07,  5.96s/it]"
     ]
    },
    {
     "name": "stdout",
     "output_type": "stream",
     "text": [
      ">>> Processadas 205980 descrições\n"
     ]
    },
    {
     "name": "stderr",
     "output_type": "stream",
     "text": [
      " 72%|███████▏  | 2158/3000 [4:35:09<1:07:04,  4.78s/it]"
     ]
    },
    {
     "name": "stdout",
     "output_type": "stream",
     "text": [
      ">>> Processadas 244320 descrições\n"
     ]
    },
    {
     "name": "stderr",
     "output_type": "stream",
     "text": [
      " 72%|███████▏  | 2167/3000 [4:36:21<1:28:15,  6.36s/it]"
     ]
    },
    {
     "name": "stdout",
     "output_type": "stream",
     "text": [
      "Erro: Error code: 400 - {'error': {'message': \"The response was filtered due to the prompt triggering Azure OpenAI's content management policy. Please modify your prompt and retry. To learn more about our content filtering policies please read our documentation: https://go.microsoft.com/fwlink/?linkid=2198766\", 'type': None, 'param': 'prompt', 'code': 'content_filter', 'status': 400, 'innererror': {'code': 'ResponsibleAIPolicyViolation', 'content_filter_result': {'hate': {'filtered': False, 'severity': 'safe'}, 'jailbreak': {'filtered': False, 'detected': False}, 'self_harm': {'filtered': False, 'severity': 'safe'}, 'sexual': {'filtered': True, 'severity': 'medium'}, 'violence': {'filtered': False, 'severity': 'safe'}}}}}\n"
     ]
    },
    {
     "name": "stderr",
     "output_type": "stream",
     "text": [
      " 72%|███████▏  | 2174/3000 [4:37:13<1:05:23,  4.75s/it]"
     ]
    },
    {
     "name": "stdout",
     "output_type": "stream",
     "text": [
      ">>> Processadas 531930 descrições\n"
     ]
    },
    {
     "name": "stderr",
     "output_type": "stream",
     "text": [
      " 73%|███████▎  | 2176/3000 [4:37:26<1:15:21,  5.49s/it]"
     ]
    },
    {
     "name": "stdout",
     "output_type": "stream",
     "text": [
      ">>> Processadas 201540 descrições\n"
     ]
    },
    {
     "name": "stderr",
     "output_type": "stream",
     "text": [
      " 75%|███████▌  | 2254/3000 [4:47:25<1:02:17,  5.01s/it]"
     ]
    },
    {
     "name": "stdout",
     "output_type": "stream",
     "text": [
      ">>> Processadas 119790 descrições\n"
     ]
    },
    {
     "name": "stderr",
     "output_type": "stream",
     "text": [
      " 76%|███████▌  | 2272/3000 [4:49:42<1:06:33,  5.49s/it]"
     ]
    },
    {
     "name": "stdout",
     "output_type": "stream",
     "text": [
      ">>> Processadas 227010 descrições\n"
     ]
    },
    {
     "name": "stderr",
     "output_type": "stream",
     "text": [
      " 77%|███████▋  | 2307/3000 [4:54:25<1:36:11,  8.33s/it]"
     ]
    },
    {
     "name": "stdout",
     "output_type": "stream",
     "text": [
      ">>> Processadas 6180 descrições\n"
     ]
    },
    {
     "name": "stderr",
     "output_type": "stream",
     "text": [
      " 77%|███████▋  | 2314/3000 [4:55:26<2:12:30, 11.59s/it]"
     ]
    },
    {
     "name": "stdout",
     "output_type": "stream",
     "text": [
      ">>> Processadas 62250 descrições\n"
     ]
    },
    {
     "name": "stderr",
     "output_type": "stream",
     "text": [
      " 77%|███████▋  | 2319/3000 [4:55:49<1:31:25,  8.05s/it]"
     ]
    },
    {
     "name": "stdout",
     "output_type": "stream",
     "text": [
      ">>> Processadas 445710 descrições\n"
     ]
    },
    {
     "name": "stderr",
     "output_type": "stream",
     "text": [
      " 79%|███████▊  | 2356/3000 [5:00:37<1:10:31,  6.57s/it]"
     ]
    },
    {
     "name": "stdout",
     "output_type": "stream",
     "text": [
      "Erro: Error code: 400 - {'error': {'message': \"The response was filtered due to the prompt triggering Azure OpenAI's content management policy. Please modify your prompt and retry. To learn more about our content filtering policies please read our documentation: https://go.microsoft.com/fwlink/?linkid=2198766\", 'type': None, 'param': 'prompt', 'code': 'content_filter', 'status': 400, 'innererror': {'code': 'ResponsibleAIPolicyViolation', 'content_filter_result': {'hate': {'filtered': False, 'severity': 'safe'}, 'jailbreak': {'filtered': False, 'detected': False}, 'self_harm': {'filtered': False, 'severity': 'safe'}, 'sexual': {'filtered': True, 'severity': 'medium'}, 'violence': {'filtered': False, 'severity': 'safe'}}}}}\n"
     ]
    },
    {
     "name": "stderr",
     "output_type": "stream",
     "text": [
      " 80%|███████▉  | 2385/3000 [5:04:29<2:10:08, 12.70s/it]"
     ]
    },
    {
     "name": "stdout",
     "output_type": "stream",
     "text": [
      ">>> Processadas 135630 descrições\n"
     ]
    },
    {
     "name": "stderr",
     "output_type": "stream",
     "text": [
      " 80%|███████▉  | 2389/3000 [5:04:40<48:27,  4.76s/it]  "
     ]
    },
    {
     "name": "stdout",
     "output_type": "stream",
     "text": [
      ">>> Processadas 89700 descrições\n"
     ]
    },
    {
     "name": "stderr",
     "output_type": "stream",
     "text": [
      " 80%|████████  | 2400/3000 [5:06:05<1:05:54,  6.59s/it]"
     ]
    },
    {
     "name": "stdout",
     "output_type": "stream",
     "text": [
      ">>> Processadas 90900 descrições\n"
     ]
    },
    {
     "name": "stderr",
     "output_type": "stream",
     "text": [
      " 81%|████████  | 2420/3000 [5:08:42<52:14,  5.40s/it]  "
     ]
    },
    {
     "name": "stdout",
     "output_type": "stream",
     "text": [
      ">>> Processadas 29310 descrições\n"
     ]
    },
    {
     "name": "stderr",
     "output_type": "stream",
     "text": [
      " 81%|████████  | 2430/3000 [5:09:46<32:39,  3.44s/it]  "
     ]
    },
    {
     "name": "stdout",
     "output_type": "stream",
     "text": [
      ">>> Processadas 150990 descrições\n"
     ]
    },
    {
     "name": "stderr",
     "output_type": "stream",
     "text": [
      " 81%|████████▏ | 2442/3000 [5:11:42<1:27:38,  9.42s/it]"
     ]
    },
    {
     "name": "stdout",
     "output_type": "stream",
     "text": [
      ">>> Processadas 502320 descrições\n"
     ]
    },
    {
     "name": "stderr",
     "output_type": "stream",
     "text": [
      " 82%|████████▏ | 2452/3000 [5:12:45<49:08,  5.38s/it]  "
     ]
    },
    {
     "name": "stdout",
     "output_type": "stream",
     "text": [
      "Erro: Error code: 400 - {'error': {'message': \"The response was filtered due to the prompt triggering Azure OpenAI's content management policy. Please modify your prompt and retry. To learn more about our content filtering policies please read our documentation: https://go.microsoft.com/fwlink/?linkid=2198766\", 'type': None, 'param': 'prompt', 'code': 'content_filter', 'status': 400, 'innererror': {'code': 'ResponsibleAIPolicyViolation', 'content_filter_result': {'hate': {'filtered': False, 'severity': 'safe'}, 'jailbreak': {'filtered': False, 'detected': False}, 'self_harm': {'filtered': False, 'severity': 'safe'}, 'sexual': {'filtered': True, 'severity': 'medium'}, 'violence': {'filtered': False, 'severity': 'safe'}}}}}\n"
     ]
    },
    {
     "name": "stderr",
     "output_type": "stream",
     "text": [
      " 82%|████████▏ | 2474/3000 [5:15:46<1:21:03,  9.25s/it]"
     ]
    },
    {
     "name": "stdout",
     "output_type": "stream",
     "text": [
      "Erro: Error code: 400 - {'error': {'message': \"The response was filtered due to the prompt triggering Azure OpenAI's content management policy. Please modify your prompt and retry. To learn more about our content filtering policies please read our documentation: https://go.microsoft.com/fwlink/?linkid=2198766\", 'type': None, 'param': 'prompt', 'code': 'content_filter', 'status': 400, 'innererror': {'code': 'ResponsibleAIPolicyViolation', 'content_filter_result': {'hate': {'filtered': False, 'severity': 'safe'}, 'jailbreak': {'filtered': False, 'detected': False}, 'self_harm': {'filtered': False, 'severity': 'safe'}, 'sexual': {'filtered': True, 'severity': 'medium'}, 'violence': {'filtered': False, 'severity': 'safe'}}}}}\n"
     ]
    },
    {
     "name": "stderr",
     "output_type": "stream",
     "text": [
      " 85%|████████▌ | 2551/3000 [5:25:30<1:06:51,  8.94s/it]"
     ]
    },
    {
     "name": "stdout",
     "output_type": "stream",
     "text": [
      ">>> Processadas 480300 descrições\n"
     ]
    },
    {
     "name": "stderr",
     "output_type": "stream",
     "text": [
      " 87%|████████▋ | 2601/3000 [5:32:08<1:27:10, 13.11s/it]"
     ]
    },
    {
     "name": "stdout",
     "output_type": "stream",
     "text": [
      ">>> Processadas 518490 descrições\n"
     ]
    },
    {
     "name": "stderr",
     "output_type": "stream",
     "text": [
      " 88%|████████▊ | 2652/3000 [5:38:20<32:30,  5.61s/it]  "
     ]
    },
    {
     "name": "stdout",
     "output_type": "stream",
     "text": [
      ">>> Processadas 203370 descrições\n"
     ]
    },
    {
     "name": "stderr",
     "output_type": "stream",
     "text": [
      " 88%|████████▊ | 2653/3000 [5:38:22<25:34,  4.42s/it]"
     ]
    },
    {
     "name": "stdout",
     "output_type": "stream",
     "text": [
      "Erro: Error code: 400 - {'error': {'message': \"The response was filtered due to the prompt triggering Azure OpenAI's content management policy. Please modify your prompt and retry. To learn more about our content filtering policies please read our documentation: https://go.microsoft.com/fwlink/?linkid=2198766\", 'type': None, 'param': 'prompt', 'code': 'content_filter', 'status': 400, 'innererror': {'code': 'ResponsibleAIPolicyViolation', 'content_filter_result': {'hate': {'filtered': False, 'severity': 'safe'}, 'jailbreak': {'filtered': False, 'detected': False}, 'self_harm': {'filtered': False, 'severity': 'safe'}, 'sexual': {'filtered': True, 'severity': 'medium'}, 'violence': {'filtered': False, 'severity': 'safe'}}}}}\n"
     ]
    },
    {
     "name": "stderr",
     "output_type": "stream",
     "text": [
      " 89%|████████▉ | 2674/3000 [5:41:23<55:26, 10.20s/it]  "
     ]
    },
    {
     "name": "stdout",
     "output_type": "stream",
     "text": [
      ">>> Processadas 131250 descrições\n"
     ]
    },
    {
     "name": "stderr",
     "output_type": "stream",
     "text": [
      " 90%|████████▉ | 2693/3000 [5:43:29<23:15,  4.54s/it]  "
     ]
    },
    {
     "name": "stdout",
     "output_type": "stream",
     "text": [
      ">>> Processadas 14400 descrições\n"
     ]
    },
    {
     "name": "stderr",
     "output_type": "stream",
     "text": [
      " 90%|█████████ | 2714/3000 [5:46:28<47:31,  9.97s/it]  "
     ]
    },
    {
     "name": "stdout",
     "output_type": "stream",
     "text": [
      ">>> Processadas 115620 descrições\n"
     ]
    },
    {
     "name": "stderr",
     "output_type": "stream",
     "text": [
      " 91%|█████████ | 2720/3000 [5:47:00<33:29,  7.18s/it]"
     ]
    },
    {
     "name": "stdout",
     "output_type": "stream",
     "text": [
      "Erro: Error code: 400 - {'error': {'message': \"The response was filtered due to the prompt triggering Azure OpenAI's content management policy. Please modify your prompt and retry. To learn more about our content filtering policies please read our documentation: https://go.microsoft.com/fwlink/?linkid=2198766\", 'type': None, 'param': 'prompt', 'code': 'content_filter', 'status': 400, 'innererror': {'code': 'ResponsibleAIPolicyViolation', 'content_filter_result': {'hate': {'filtered': False, 'severity': 'safe'}, 'jailbreak': {'filtered': False, 'detected': False}, 'self_harm': {'filtered': False, 'severity': 'safe'}, 'sexual': {'filtered': True, 'severity': 'medium'}, 'violence': {'filtered': False, 'severity': 'safe'}}}}}\n"
     ]
    },
    {
     "name": "stderr",
     "output_type": "stream",
     "text": [
      " 91%|█████████▏| 2744/3000 [5:50:05<31:00,  7.27s/it]  "
     ]
    },
    {
     "name": "stdout",
     "output_type": "stream",
     "text": [
      ">>> Processadas 314160 descrições\n"
     ]
    },
    {
     "name": "stderr",
     "output_type": "stream",
     "text": [
      " 93%|█████████▎| 2777/3000 [5:54:35<46:48, 12.60s/it]"
     ]
    },
    {
     "name": "stdout",
     "output_type": "stream",
     "text": [
      ">>> Processadas 303990 descrições\n"
     ]
    },
    {
     "name": "stderr",
     "output_type": "stream",
     "text": [
      " 93%|█████████▎| 2787/3000 [5:55:38<23:02,  6.49s/it]"
     ]
    },
    {
     "name": "stdout",
     "output_type": "stream",
     "text": [
      "Erro: Error code: 400 - {'error': {'message': \"The response was filtered due to the prompt triggering Azure OpenAI's content management policy. Please modify your prompt and retry. To learn more about our content filtering policies please read our documentation: https://go.microsoft.com/fwlink/?linkid=2198766\", 'type': None, 'param': 'prompt', 'code': 'content_filter', 'status': 400, 'innererror': {'code': 'ResponsibleAIPolicyViolation', 'content_filter_result': {'hate': {'filtered': False, 'severity': 'safe'}, 'jailbreak': {'filtered': False, 'detected': False}, 'self_harm': {'filtered': False, 'severity': 'safe'}, 'sexual': {'filtered': True, 'severity': 'medium'}, 'violence': {'filtered': False, 'severity': 'safe'}}}}}\n"
     ]
    },
    {
     "name": "stderr",
     "output_type": "stream",
     "text": [
      " 94%|█████████▍| 2813/3000 [5:58:47<13:47,  4.42s/it]"
     ]
    },
    {
     "name": "stdout",
     "output_type": "stream",
     "text": [
      ">>> Processadas 265740 descrições\n"
     ]
    },
    {
     "name": "stderr",
     "output_type": "stream",
     "text": [
      " 95%|█████████▌| 2851/3000 [6:03:51<17:48,  7.17s/it]"
     ]
    },
    {
     "name": "stdout",
     "output_type": "stream",
     "text": [
      ">>> Processadas 514860 descrições\n"
     ]
    },
    {
     "name": "stderr",
     "output_type": "stream",
     "text": [
      " 95%|█████████▌| 2862/3000 [6:04:57<07:38,  3.32s/it]"
     ]
    },
    {
     "name": "stdout",
     "output_type": "stream",
     "text": [
      ">>> Processadas 144270 descrições\n"
     ]
    },
    {
     "name": "stderr",
     "output_type": "stream",
     "text": [
      " 97%|█████████▋| 2901/3000 [6:10:03<06:56,  4.21s/it]"
     ]
    },
    {
     "name": "stdout",
     "output_type": "stream",
     "text": [
      ">>> Processadas 212280 descrições\n"
     ]
    },
    {
     "name": "stderr",
     "output_type": "stream",
     "text": [
      " 98%|█████████▊| 2953/3000 [6:17:06<10:09, 12.97s/it]"
     ]
    },
    {
     "name": "stdout",
     "output_type": "stream",
     "text": [
      ">>> Processadas 13890 descrições\n"
     ]
    },
    {
     "name": "stderr",
     "output_type": "stream",
     "text": [
      " 98%|█████████▊| 2954/3000 [6:17:08<07:27,  9.72s/it]"
     ]
    },
    {
     "name": "stdout",
     "output_type": "stream",
     "text": [
      ">>> Processadas 346530 descrições\n"
     ]
    },
    {
     "name": "stderr",
     "output_type": "stream",
     "text": [
      "100%|██████████| 3000/3000 [6:22:49<00:00,  7.66s/it]\n"
     ]
    },
    {
     "name": "stdout",
     "output_type": "stream",
     "text": [
      "✅ Base salva como base_retreino_gpt.csv\n"
     ]
    }
   ],
   "source": [
    "from tqdm import tqdm\n",
    "import pandas as pd\n",
    "\n",
    "# Inicializa colunas\n",
    "base_retreino[\"Habilidades\"] = \"\"\n",
    "base_retreino[\"Conhecimentos\"] = \"\"\n",
    "base_retreino[\"Atitudes_Valores\"] = \"\"\n",
    "base_retreino[\"Escolaridade\"] = \"\"\n",
    "base_retreino[\"Certificacoes\"] = \"\"\n",
    "\n",
    "# Aplicação linha a linha com progresso\n",
    "for idx, row in tqdm(base_retreino.iterrows(), total=len(base_retreino)):\n",
    "    descricao = row[\"descricao_clean\"]\n",
    "    resultado = analisar_vaga_gpt(descricao)\n",
    "\n",
    "    base_retreino.at[idx, \"Habilidades\"] = str(resultado[\"Habilidades\"])\n",
    "    base_retreino.at[idx, \"Conhecimentos\"] = str(resultado[\"Conhecimentos\"])\n",
    "    base_retreino.at[idx, \"Atitudes_Valores\"] = str(resultado[\"Atitudes_Valores\"])\n",
    "    base_retreino.at[idx, \"Escolaridade\"] = str(resultado[\"Escolaridade\"])\n",
    "    base_retreino.at[idx, \"Certificacoes\"] = str(resultado[\"Certificacoes\"])\n",
    "\n",
    "    if (idx + 1) % 30 == 0:\n",
    "        print(f\">>> Processadas {idx + 1} descrições\")\n",
    "\n",
    "# Exporta no padrão da anterior\n",
    "base_retreino.to_csv(diretorio +\"base_retreino_gpt.csv\", sep=\";\", encoding=\"utf-8-sig\", index=False)\n",
    "print(\"✅ Base salva como base_retreino_gpt.csv\")"
   ]
  },
  {
   "cell_type": "code",
   "execution_count": 76,
   "metadata": {},
   "outputs": [
    {
     "data": {
      "text/html": [
       "<div>\n",
       "<style scoped>\n",
       "    .dataframe tbody tr th:only-of-type {\n",
       "        vertical-align: middle;\n",
       "    }\n",
       "\n",
       "    .dataframe tbody tr th {\n",
       "        vertical-align: top;\n",
       "    }\n",
       "\n",
       "    .dataframe thead th {\n",
       "        text-align: right;\n",
       "    }\n",
       "</style>\n",
       "<table border=\"1\" class=\"dataframe\">\n",
       "  <thead>\n",
       "    <tr style=\"text-align: right;\">\n",
       "      <th></th>\n",
       "      <th>source</th>\n",
       "      <th>identifier</th>\n",
       "      <th>uuid</th>\n",
       "      <th>title</th>\n",
       "      <th>title_standardized</th>\n",
       "      <th>description</th>\n",
       "      <th>descricao_clean</th>\n",
       "      <th>ramo_atividade</th>\n",
       "      <th>Habilidades</th>\n",
       "      <th>Conhecimentos</th>\n",
       "      <th>Atitudes_Valores</th>\n",
       "      <th>Escolaridade</th>\n",
       "      <th>Certificacoes</th>\n",
       "    </tr>\n",
       "  </thead>\n",
       "  <tbody>\n",
       "    <tr>\n",
       "      <th>200657</th>\n",
       "      <td>BNE</td>\n",
       "      <td>4207444</td>\n",
       "      <td>23C853EC-9254-4621-9F04-AECD0E3662C2</td>\n",
       "      <td>Gerente Customer Service</td>\n",
       "      <td>gerente customer servico</td>\n",
       "      <td>Descrição Geral\\nEmpresa localizada na cidade ...</td>\n",
       "      <td>gerente customer service.,somos uma operadora ...</td>\n",
       "      <td>comercio</td>\n",
       "      <td>['medir e gerar indicadores de experiência', '...</td>\n",
       "      <td>['Excel avançado', 'Power BI', 'PowerPoint']</td>\n",
       "      <td>['proatividade', 'organização', 'trabalho em e...</td>\n",
       "      <td>['']</td>\n",
       "      <td>[]</td>\n",
       "    </tr>\n",
       "    <tr>\n",
       "      <th>474712</th>\n",
       "      <td>BNE</td>\n",
       "      <td>4209889</td>\n",
       "      <td>13AF5674-2DFA-42DE-BA9F-73F659B3E15F</td>\n",
       "      <td>Doméstica</td>\n",
       "      <td>domestica</td>\n",
       "      <td>Descrição Geral\\nEmpresa localizada na cidade ...</td>\n",
       "      <td>doméstica.,teste teste teste teste teste teste...</td>\n",
       "      <td>limpeza</td>\n",
       "      <td>['']</td>\n",
       "      <td>['']</td>\n",
       "      <td>['']</td>\n",
       "      <td>['']</td>\n",
       "      <td>[]</td>\n",
       "    </tr>\n",
       "    <tr>\n",
       "      <th>480029</th>\n",
       "      <td>BNE</td>\n",
       "      <td>4312823</td>\n",
       "      <td>41062C74-E96D-40E0-A73E-0B12C5815D9E</td>\n",
       "      <td>comprador</td>\n",
       "      <td>comprador</td>\n",
       "      <td>Descrição Geral\\nEmpresa localizada na cidade ...</td>\n",
       "      <td>comprador.,desejável vivência o segmento. ativ...</td>\n",
       "      <td>administrativo</td>\n",
       "      <td>[\"'realizar cotações'\", \"'fechamento de compra...</td>\n",
       "      <td>[\"'segmento de alimentos'\", \"'produtos de limp...</td>\n",
       "      <td>['']</td>\n",
       "      <td>['']</td>\n",
       "      <td>[]</td>\n",
       "    </tr>\n",
       "    <tr>\n",
       "      <th>192040</th>\n",
       "      <td>BNE</td>\n",
       "      <td>3956220</td>\n",
       "      <td>9BC334F9-CD24-4E13-B2B0-63BA885290AC</td>\n",
       "      <td>auxiliar de serviços gerais</td>\n",
       "      <td>auxiliar servicos gerais</td>\n",
       "      <td>Descrição Geral\\nEmpresa localizada na cidade ...</td>\n",
       "      <td>auxiliar de serviços gerais.,responsável pela ...</td>\n",
       "      <td>limpeza</td>\n",
       "      <td>[\"'manutenção da limpeza'\"]</td>\n",
       "      <td>['']</td>\n",
       "      <td>['']</td>\n",
       "      <td>[\"'ensino fundamental incompleto'\"]</td>\n",
       "      <td>[]</td>\n",
       "    </tr>\n",
       "    <tr>\n",
       "      <th>354166</th>\n",
       "      <td>BNE</td>\n",
       "      <td>4311442</td>\n",
       "      <td>E7F70304-A762-46BC-9F9A-139D22232A1E</td>\n",
       "      <td>mecânico de manutenção</td>\n",
       "      <td>mecanico manutencao</td>\n",
       "      <td>Descrição Geral\\nEmpresa localizada na cidade ...</td>\n",
       "      <td>mecânico de manutenção.,vaga para atuar em man...</td>\n",
       "      <td>manutencao</td>\n",
       "      <td>[\"'manutenção mecânica de equipamentos de solo...</td>\n",
       "      <td>[\"'geradores'\", \"'motor diesel'\", \"'hidráulico...</td>\n",
       "      <td>['']</td>\n",
       "      <td>[\"'ensino médio completo'\", \"'técnico completo'\"]</td>\n",
       "      <td>[]</td>\n",
       "    </tr>\n",
       "    <tr>\n",
       "      <th>...</th>\n",
       "      <td>...</td>\n",
       "      <td>...</td>\n",
       "      <td>...</td>\n",
       "      <td>...</td>\n",
       "      <td>...</td>\n",
       "      <td>...</td>\n",
       "      <td>...</td>\n",
       "      <td>...</td>\n",
       "      <td>...</td>\n",
       "      <td>...</td>\n",
       "      <td>...</td>\n",
       "      <td>...</td>\n",
       "      <td>...</td>\n",
       "    </tr>\n",
       "    <tr>\n",
       "      <th>204796</th>\n",
       "      <td>BNE</td>\n",
       "      <td>4244618</td>\n",
       "      <td>E7AD5B8A-F3CC-4A01-B35A-5DBD2ECEEDF2</td>\n",
       "      <td>Estagiário</td>\n",
       "      <td>estagiario</td>\n",
       "      <td>Descrição Geral\\nEmpresa localizada na cidade ...</td>\n",
       "      <td>estagiário.,estágio atendimentor r atividades:...</td>\n",
       "      <td>administrativo</td>\n",
       "      <td>['auxiliar o atendimento ao cliente', 'organiz...</td>\n",
       "      <td>['']</td>\n",
       "      <td>['disponibilidade manhã', 'tarde']</td>\n",
       "      <td>['']</td>\n",
       "      <td>[]</td>\n",
       "    </tr>\n",
       "    <tr>\n",
       "      <th>6180</th>\n",
       "      <td>BNE</td>\n",
       "      <td>4241885</td>\n",
       "      <td>FA7425AA-C60C-4BC0-B3EF-C934C393B69D</td>\n",
       "      <td>auxiliar de almoxarifado</td>\n",
       "      <td>auxiliar almoxarifado</td>\n",
       "      <td>Descrição Geral\\nEmpresa localizada na cidade ...</td>\n",
       "      <td>auxiliar de almoxarifado.,vaga para auxiliar d...</td>\n",
       "      <td>logistica</td>\n",
       "      <td>[\"'recebimento de mercadorias'\", \"'entregas de...</td>\n",
       "      <td>[\"'sistemas de emissão de OS'\"]</td>\n",
       "      <td>['']</td>\n",
       "      <td>[\"'ensino médio completo'\"]</td>\n",
       "      <td>[]</td>\n",
       "    </tr>\n",
       "    <tr>\n",
       "      <th>56915</th>\n",
       "      <td>BNE</td>\n",
       "      <td>3964298</td>\n",
       "      <td>0F099222-F1D8-4C06-9CD3-B0B9B43460B7</td>\n",
       "      <td>vigia</td>\n",
       "      <td>vigia</td>\n",
       "      <td>Descrição Geral\\nEmpresa localizada na cidade ...</td>\n",
       "      <td>vigia.,vaga para atuar como vigia, escala 12x3...</td>\n",
       "      <td>seguranca</td>\n",
       "      <td>['']</td>\n",
       "      <td>['']</td>\n",
       "      <td>['']</td>\n",
       "      <td>['']</td>\n",
       "      <td>[]</td>\n",
       "    </tr>\n",
       "    <tr>\n",
       "      <th>303536</th>\n",
       "      <td>BNE</td>\n",
       "      <td>4026387</td>\n",
       "      <td>FD10E4EB-8815-47C0-BC14-F20535150B06</td>\n",
       "      <td>açougueiro</td>\n",
       "      <td>acougueiro</td>\n",
       "      <td>Descrição Geral\\nEmpresa localizada na cidade ...</td>\n",
       "      <td>açougueiro.,experiência em atendimentos e cort...</td>\n",
       "      <td>alimentos</td>\n",
       "      <td>[\"'atendimentos'\", \"'cortes de carne'\"]</td>\n",
       "      <td>['']</td>\n",
       "      <td>['']</td>\n",
       "      <td>['']</td>\n",
       "      <td>[]</td>\n",
       "    </tr>\n",
       "    <tr>\n",
       "      <th>105118</th>\n",
       "      <td>BNE</td>\n",
       "      <td>4096311</td>\n",
       "      <td>A3327F31-969F-4362-8001-3489192B3509</td>\n",
       "      <td>Analista de frota</td>\n",
       "      <td>analista frota</td>\n",
       "      <td>Descrição Geral\\nEmpresa localizada na cidade ...</td>\n",
       "      <td>analista de frota,superior completo,analista d...</td>\n",
       "      <td>recursos humanos</td>\n",
       "      <td>['monitorar a operação de fretes', 'garantir a...</td>\n",
       "      <td>['pacote office', 'Excel intermediário', 'roti...</td>\n",
       "      <td>['']</td>\n",
       "      <td>['superior completo', 'formação superior em ad...</td>\n",
       "      <td>[]</td>\n",
       "    </tr>\n",
       "  </tbody>\n",
       "</table>\n",
       "<p>3000 rows × 13 columns</p>\n",
       "</div>"
      ],
      "text/plain": [
       "       source identifier                                  uuid  \\\n",
       "200657    BNE    4207444  23C853EC-9254-4621-9F04-AECD0E3662C2   \n",
       "474712    BNE    4209889  13AF5674-2DFA-42DE-BA9F-73F659B3E15F   \n",
       "480029    BNE    4312823  41062C74-E96D-40E0-A73E-0B12C5815D9E   \n",
       "192040    BNE    3956220  9BC334F9-CD24-4E13-B2B0-63BA885290AC   \n",
       "354166    BNE    4311442  E7F70304-A762-46BC-9F9A-139D22232A1E   \n",
       "...       ...        ...                                   ...   \n",
       "204796    BNE    4244618  E7AD5B8A-F3CC-4A01-B35A-5DBD2ECEEDF2   \n",
       "6180      BNE    4241885  FA7425AA-C60C-4BC0-B3EF-C934C393B69D   \n",
       "56915     BNE    3964298  0F099222-F1D8-4C06-9CD3-B0B9B43460B7   \n",
       "303536    BNE    4026387  FD10E4EB-8815-47C0-BC14-F20535150B06   \n",
       "105118    BNE    4096311  A3327F31-969F-4362-8001-3489192B3509   \n",
       "\n",
       "                              title        title_standardized  \\\n",
       "200657     Gerente Customer Service  gerente customer servico   \n",
       "474712                    Doméstica                 domestica   \n",
       "480029                    comprador                 comprador   \n",
       "192040  auxiliar de serviços gerais  auxiliar servicos gerais   \n",
       "354166       mecânico de manutenção       mecanico manutencao   \n",
       "...                             ...                       ...   \n",
       "204796                   Estagiário                estagiario   \n",
       "6180       auxiliar de almoxarifado     auxiliar almoxarifado   \n",
       "56915                         vigia                     vigia   \n",
       "303536                   açougueiro                acougueiro   \n",
       "105118            Analista de frota            analista frota   \n",
       "\n",
       "                                              description  \\\n",
       "200657  Descrição Geral\\nEmpresa localizada na cidade ...   \n",
       "474712  Descrição Geral\\nEmpresa localizada na cidade ...   \n",
       "480029  Descrição Geral\\nEmpresa localizada na cidade ...   \n",
       "192040  Descrição Geral\\nEmpresa localizada na cidade ...   \n",
       "354166  Descrição Geral\\nEmpresa localizada na cidade ...   \n",
       "...                                                   ...   \n",
       "204796  Descrição Geral\\nEmpresa localizada na cidade ...   \n",
       "6180    Descrição Geral\\nEmpresa localizada na cidade ...   \n",
       "56915   Descrição Geral\\nEmpresa localizada na cidade ...   \n",
       "303536  Descrição Geral\\nEmpresa localizada na cidade ...   \n",
       "105118  Descrição Geral\\nEmpresa localizada na cidade ...   \n",
       "\n",
       "                                          descricao_clean    ramo_atividade  \\\n",
       "200657  gerente customer service.,somos uma operadora ...          comercio   \n",
       "474712  doméstica.,teste teste teste teste teste teste...           limpeza   \n",
       "480029  comprador.,desejável vivência o segmento. ativ...    administrativo   \n",
       "192040  auxiliar de serviços gerais.,responsável pela ...           limpeza   \n",
       "354166  mecânico de manutenção.,vaga para atuar em man...        manutencao   \n",
       "...                                                   ...               ...   \n",
       "204796  estagiário.,estágio atendimentor r atividades:...    administrativo   \n",
       "6180    auxiliar de almoxarifado.,vaga para auxiliar d...         logistica   \n",
       "56915   vigia.,vaga para atuar como vigia, escala 12x3...         seguranca   \n",
       "303536  açougueiro.,experiência em atendimentos e cort...         alimentos   \n",
       "105118  analista de frota,superior completo,analista d...  recursos humanos   \n",
       "\n",
       "                                              Habilidades  \\\n",
       "200657  ['medir e gerar indicadores de experiência', '...   \n",
       "474712                                               ['']   \n",
       "480029  [\"'realizar cotações'\", \"'fechamento de compra...   \n",
       "192040                        [\"'manutenção da limpeza'\"]   \n",
       "354166  [\"'manutenção mecânica de equipamentos de solo...   \n",
       "...                                                   ...   \n",
       "204796  ['auxiliar o atendimento ao cliente', 'organiz...   \n",
       "6180    [\"'recebimento de mercadorias'\", \"'entregas de...   \n",
       "56915                                                ['']   \n",
       "303536            [\"'atendimentos'\", \"'cortes de carne'\"]   \n",
       "105118  ['monitorar a operação de fretes', 'garantir a...   \n",
       "\n",
       "                                            Conhecimentos  \\\n",
       "200657       ['Excel avançado', 'Power BI', 'PowerPoint']   \n",
       "474712                                               ['']   \n",
       "480029  [\"'segmento de alimentos'\", \"'produtos de limp...   \n",
       "192040                                               ['']   \n",
       "354166  [\"'geradores'\", \"'motor diesel'\", \"'hidráulico...   \n",
       "...                                                   ...   \n",
       "204796                                               ['']   \n",
       "6180                      [\"'sistemas de emissão de OS'\"]   \n",
       "56915                                                ['']   \n",
       "303536                                               ['']   \n",
       "105118  ['pacote office', 'Excel intermediário', 'roti...   \n",
       "\n",
       "                                         Atitudes_Valores  \\\n",
       "200657  ['proatividade', 'organização', 'trabalho em e...   \n",
       "474712                                               ['']   \n",
       "480029                                               ['']   \n",
       "192040                                               ['']   \n",
       "354166                                               ['']   \n",
       "...                                                   ...   \n",
       "204796                 ['disponibilidade manhã', 'tarde']   \n",
       "6180                                                 ['']   \n",
       "56915                                                ['']   \n",
       "303536                                               ['']   \n",
       "105118                                               ['']   \n",
       "\n",
       "                                             Escolaridade Certificacoes  \n",
       "200657                                               ['']            []  \n",
       "474712                                               ['']            []  \n",
       "480029                                               ['']            []  \n",
       "192040                [\"'ensino fundamental incompleto'\"]            []  \n",
       "354166  [\"'ensino médio completo'\", \"'técnico completo'\"]            []  \n",
       "...                                                   ...           ...  \n",
       "204796                                               ['']            []  \n",
       "6180                          [\"'ensino médio completo'\"]            []  \n",
       "56915                                                ['']            []  \n",
       "303536                                               ['']            []  \n",
       "105118  ['superior completo', 'formação superior em ad...            []  \n",
       "\n",
       "[3000 rows x 13 columns]"
      ]
     },
     "execution_count": 76,
     "metadata": {},
     "output_type": "execute_result"
    }
   ],
   "source": [
    "base_retreino"
   ]
  },
  {
   "cell_type": "code",
   "execution_count": 77,
   "metadata": {},
   "outputs": [],
   "source": [
    "base_retreino.to_csv(diretorio +\"base_retreino_gpt.csv\", sep=\";\", encoding=\"utf-8-sig\", index=False)"
   ]
  },
  {
   "cell_type": "code",
   "execution_count": 22,
   "metadata": {},
   "outputs": [
    {
     "data": {
      "text/html": [
       "<div>\n",
       "<style scoped>\n",
       "    .dataframe tbody tr th:only-of-type {\n",
       "        vertical-align: middle;\n",
       "    }\n",
       "\n",
       "    .dataframe tbody tr th {\n",
       "        vertical-align: top;\n",
       "    }\n",
       "\n",
       "    .dataframe thead th {\n",
       "        text-align: right;\n",
       "    }\n",
       "</style>\n",
       "<table border=\"1\" class=\"dataframe\">\n",
       "  <thead>\n",
       "    <tr style=\"text-align: right;\">\n",
       "      <th></th>\n",
       "      <th>Unnamed: 0.2</th>\n",
       "      <th>Unnamed: 0.1</th>\n",
       "      <th>Unnamed: 0</th>\n",
       "      <th>source</th>\n",
       "      <th>identifier</th>\n",
       "      <th>uuid</th>\n",
       "      <th>title</th>\n",
       "      <th>title_standardized</th>\n",
       "      <th>description</th>\n",
       "      <th>descricao_clean</th>\n",
       "      <th>ramo_atividade</th>\n",
       "      <th>competencias_extraidas</th>\n",
       "      <th>Habilidades</th>\n",
       "      <th>Conhecimentos</th>\n",
       "      <th>Atitudes_Valores</th>\n",
       "      <th>Escolaridade</th>\n",
       "      <th>Certificacoes</th>\n",
       "    </tr>\n",
       "  </thead>\n",
       "  <tbody>\n",
       "    <tr>\n",
       "      <th>0</th>\n",
       "      <td>0</td>\n",
       "      <td>0</td>\n",
       "      <td>89329</td>\n",
       "      <td>BNE</td>\n",
       "      <td>4346041</td>\n",
       "      <td>C9F9D669-B185-4078-AD4C-882F014273E7</td>\n",
       "      <td>chapeiro</td>\n",
       "      <td>chapeiro</td>\n",
       "      <td>Descrição Geral\\nEmpresa localizada na cidade ...</td>\n",
       "      <td>chapeiro.,vaga para chapeiro de horário oturno...</td>\n",
       "      <td>metal mecanico</td>\n",
       "      <td>{'Habilidades': 'manuseio de chapa', 'manuseio...</td>\n",
       "      <td>['manuseio de chapa', 'manuseio de grelha']</td>\n",
       "      <td>[]</td>\n",
       "      <td>[]</td>\n",
       "      <td>[]</td>\n",
       "      <td>[]</td>\n",
       "    </tr>\n",
       "    <tr>\n",
       "      <th>1</th>\n",
       "      <td>1</td>\n",
       "      <td>1</td>\n",
       "      <td>363048</td>\n",
       "      <td>BNE</td>\n",
       "      <td>4307019</td>\n",
       "      <td>52C0DAAA-12D0-411A-BC9C-E0CFE3BDE34B</td>\n",
       "      <td>estagiário</td>\n",
       "      <td>estagiario</td>\n",
       "      <td>Descrição Geral\\nEmpresa localizada na cidade ...</td>\n",
       "      <td>estagiário., ser estudante de engenharia civil...</td>\n",
       "      <td>administrativo</td>\n",
       "      <td>{'Habilidades': 'desenho arquitetônico', 'Conh...</td>\n",
       "      <td>['desenho arquitetônico']</td>\n",
       "      <td>['AutoCAD']</td>\n",
       "      <td>[]</td>\n",
       "      <td>['estudante de engenharia civil', 'estudante d...</td>\n",
       "      <td>[]</td>\n",
       "    </tr>\n",
       "    <tr>\n",
       "      <th>2</th>\n",
       "      <td>2</td>\n",
       "      <td>2</td>\n",
       "      <td>488515</td>\n",
       "      <td>BNE</td>\n",
       "      <td>4385222</td>\n",
       "      <td>22899E4A-1DCB-4EC0-AD40-D1FB3104BE42</td>\n",
       "      <td>analista de departamento pessoal</td>\n",
       "      <td>analista departamento pessoal</td>\n",
       "      <td>Descrição Geral\\nEmpresa localizada na cidade ...</td>\n",
       "      <td>analista de departamento pessoal.,atividades: ...</td>\n",
       "      <td>recursos humanos</td>\n",
       "      <td>{'Habilidades': 'eventos rotina dp em geral', ...</td>\n",
       "      <td>['eventos rotina dp em geral', 'processos de a...</td>\n",
       "      <td>['eSocial', 'DCTFWeb']</td>\n",
       "      <td>[]</td>\n",
       "      <td>[]</td>\n",
       "      <td>[]</td>\n",
       "    </tr>\n",
       "    <tr>\n",
       "      <th>3</th>\n",
       "      <td>3</td>\n",
       "      <td>3</td>\n",
       "      <td>546955</td>\n",
       "      <td>BNE</td>\n",
       "      <td>3967618</td>\n",
       "      <td>49D0ED16-087C-4E99-A28B-5BE7A29F9226</td>\n",
       "      <td>Suporte Técnico</td>\n",
       "      <td>suporte tecnico</td>\n",
       "      <td>Descrição Geral\\nEmpresa localizada na cidade ...</td>\n",
       "      <td>suporte técnico.,com conhecimento técnico e pr...</td>\n",
       "      <td>informatica</td>\n",
       "      <td>{'Habilidades': 'manutenção de interfones', 'i...</td>\n",
       "      <td>['manutenção de interfones', 'instalação de in...</td>\n",
       "      <td>['interfones condominiais']</td>\n",
       "      <td>[]</td>\n",
       "      <td>[]</td>\n",
       "      <td>[]</td>\n",
       "    </tr>\n",
       "    <tr>\n",
       "      <th>4</th>\n",
       "      <td>4</td>\n",
       "      <td>4</td>\n",
       "      <td>396472</td>\n",
       "      <td>BNE</td>\n",
       "      <td>4047696</td>\n",
       "      <td>9FC80823-A716-40C6-8F92-45F59A49AE2B</td>\n",
       "      <td>vendedor</td>\n",
       "      <td>vendedor</td>\n",
       "      <td>Descrição Geral\\nEmpresa localizada na cidade ...</td>\n",
       "      <td>vendedor., boa comunicação, disponibilidade de...</td>\n",
       "      <td>comercio</td>\n",
       "      <td>{'Habilidades': 'atendimento ao público', 'Con...</td>\n",
       "      <td>['atendimento ao público']</td>\n",
       "      <td>[]</td>\n",
       "      <td>['boa comunicação', 'bom relacionamento com a ...</td>\n",
       "      <td>[]</td>\n",
       "      <td>[]</td>\n",
       "    </tr>\n",
       "    <tr>\n",
       "      <th>...</th>\n",
       "      <td>...</td>\n",
       "      <td>...</td>\n",
       "      <td>...</td>\n",
       "      <td>...</td>\n",
       "      <td>...</td>\n",
       "      <td>...</td>\n",
       "      <td>...</td>\n",
       "      <td>...</td>\n",
       "      <td>...</td>\n",
       "      <td>...</td>\n",
       "      <td>...</td>\n",
       "      <td>...</td>\n",
       "      <td>...</td>\n",
       "      <td>...</td>\n",
       "      <td>...</td>\n",
       "      <td>...</td>\n",
       "      <td>...</td>\n",
       "    </tr>\n",
       "    <tr>\n",
       "      <th>2995</th>\n",
       "      <td>2995</td>\n",
       "      <td>2995</td>\n",
       "      <td>387671</td>\n",
       "      <td>BNE</td>\n",
       "      <td>4219906</td>\n",
       "      <td>B3BDC1E5-B1FB-4DC3-AE4B-6C70EA46D550</td>\n",
       "      <td>montador de móveis</td>\n",
       "      <td>montador moveis</td>\n",
       "      <td>Descrição Geral\\nEmpresa localizada na cidade ...</td>\n",
       "      <td>montador de móveis.,vaga para montador de móve...</td>\n",
       "      <td>moveis</td>\n",
       "      <td>{'Habilidades': 'montagem de móveis', 'Conheci...</td>\n",
       "      <td>['montagem de móveis']</td>\n",
       "      <td>[]</td>\n",
       "      <td>[]</td>\n",
       "      <td>[]</td>\n",
       "      <td>[]</td>\n",
       "    </tr>\n",
       "    <tr>\n",
       "      <th>2996</th>\n",
       "      <td>2996</td>\n",
       "      <td>2996</td>\n",
       "      <td>295233</td>\n",
       "      <td>BNE</td>\n",
       "      <td>4391549</td>\n",
       "      <td>8F476A07-0915-41FF-9243-EE2EA7A5827A</td>\n",
       "      <td>operador de caixa</td>\n",
       "      <td>operador caixa</td>\n",
       "      <td>Descrição Geral\\nEmpresa localizada na cidade ...</td>\n",
       "      <td>operador de caixa.,empresa: cinco estrelas cas...</td>\n",
       "      <td>financeiro</td>\n",
       "      <td>{'Habilidades': 'Conhecimentos:', 'Atitudes_Va...</td>\n",
       "      <td>[]</td>\n",
       "      <td>[]</td>\n",
       "      <td>[]</td>\n",
       "      <td>[]</td>\n",
       "      <td>[]</td>\n",
       "    </tr>\n",
       "    <tr>\n",
       "      <th>2997</th>\n",
       "      <td>2997</td>\n",
       "      <td>2997</td>\n",
       "      <td>106118</td>\n",
       "      <td>BNE</td>\n",
       "      <td>4026603</td>\n",
       "      <td>ECAC7277-9D5E-4142-A022-CB237E190317</td>\n",
       "      <td>auxiliar comercial</td>\n",
       "      <td>auxiliar comercial</td>\n",
       "      <td>Descrição Geral\\nEmpresa localizada na cidade ...</td>\n",
       "      <td>auxiliar comercial.,suporte ao time comercial,...</td>\n",
       "      <td>comercio</td>\n",
       "      <td>{'Habilidades': 'suporte ao time comercial', '...</td>\n",
       "      <td>['suporte ao time comercial', 'realizar contat...</td>\n",
       "      <td>[]</td>\n",
       "      <td>[]</td>\n",
       "      <td>[]</td>\n",
       "      <td>[]</td>\n",
       "    </tr>\n",
       "    <tr>\n",
       "      <th>2998</th>\n",
       "      <td>2998</td>\n",
       "      <td>2998</td>\n",
       "      <td>457735</td>\n",
       "      <td>BNE</td>\n",
       "      <td>4029892</td>\n",
       "      <td>F280B1CE-C87A-4FFE-914A-DE929D9A3E2A</td>\n",
       "      <td>Auxiliar de Contabilidade</td>\n",
       "      <td>auxiliar contabilidade</td>\n",
       "      <td>Descrição Geral\\nEmpresa localizada na cidade ...</td>\n",
       "      <td>auxiliar de contabilidade.,experiência em trib...</td>\n",
       "      <td>contabilidade</td>\n",
       "      <td>{'Habilidades': 'importação de folha de pagame...</td>\n",
       "      <td>['importação de folha de pagamento', 'concilia...</td>\n",
       "      <td>['tributos fiscais', 'DIRF', 'cálculo de IR']</td>\n",
       "      <td>[]</td>\n",
       "      <td>[]</td>\n",
       "      <td>[]</td>\n",
       "    </tr>\n",
       "    <tr>\n",
       "      <th>2999</th>\n",
       "      <td>2999</td>\n",
       "      <td>2999</td>\n",
       "      <td>348810</td>\n",
       "      <td>BNE</td>\n",
       "      <td>3956644</td>\n",
       "      <td>5CFA4A99-2EE8-44C9-81BE-FC798C6C93C3</td>\n",
       "      <td>técnico em segurança do trabalho</td>\n",
       "      <td>tecnico seguranca</td>\n",
       "      <td>Descrição Geral\\nEmpresa localizada na cidade ...</td>\n",
       "      <td>técnico em segurança do trabalho.,para início ...</td>\n",
       "      <td>construcao</td>\n",
       "      <td>{'Habilidades': 'Conhecimentos:', 'Atitudes_Va...</td>\n",
       "      <td>[]</td>\n",
       "      <td>[]</td>\n",
       "      <td>[]</td>\n",
       "      <td>[]</td>\n",
       "      <td>[]</td>\n",
       "    </tr>\n",
       "  </tbody>\n",
       "</table>\n",
       "<p>3000 rows × 17 columns</p>\n",
       "</div>"
      ],
      "text/plain": [
       "      Unnamed: 0.2  Unnamed: 0.1  Unnamed: 0 source  identifier  \\\n",
       "0                0             0       89329    BNE     4346041   \n",
       "1                1             1      363048    BNE     4307019   \n",
       "2                2             2      488515    BNE     4385222   \n",
       "3                3             3      546955    BNE     3967618   \n",
       "4                4             4      396472    BNE     4047696   \n",
       "...            ...           ...         ...    ...         ...   \n",
       "2995          2995          2995      387671    BNE     4219906   \n",
       "2996          2996          2996      295233    BNE     4391549   \n",
       "2997          2997          2997      106118    BNE     4026603   \n",
       "2998          2998          2998      457735    BNE     4029892   \n",
       "2999          2999          2999      348810    BNE     3956644   \n",
       "\n",
       "                                      uuid                             title  \\\n",
       "0     C9F9D669-B185-4078-AD4C-882F014273E7                          chapeiro   \n",
       "1     52C0DAAA-12D0-411A-BC9C-E0CFE3BDE34B                        estagiário   \n",
       "2     22899E4A-1DCB-4EC0-AD40-D1FB3104BE42  analista de departamento pessoal   \n",
       "3     49D0ED16-087C-4E99-A28B-5BE7A29F9226                   Suporte Técnico   \n",
       "4     9FC80823-A716-40C6-8F92-45F59A49AE2B                          vendedor   \n",
       "...                                    ...                               ...   \n",
       "2995  B3BDC1E5-B1FB-4DC3-AE4B-6C70EA46D550                montador de móveis   \n",
       "2996  8F476A07-0915-41FF-9243-EE2EA7A5827A                 operador de caixa   \n",
       "2997  ECAC7277-9D5E-4142-A022-CB237E190317                auxiliar comercial   \n",
       "2998  F280B1CE-C87A-4FFE-914A-DE929D9A3E2A         Auxiliar de Contabilidade   \n",
       "2999  5CFA4A99-2EE8-44C9-81BE-FC798C6C93C3  técnico em segurança do trabalho   \n",
       "\n",
       "                 title_standardized  \\\n",
       "0                          chapeiro   \n",
       "1                        estagiario   \n",
       "2     analista departamento pessoal   \n",
       "3                   suporte tecnico   \n",
       "4                          vendedor   \n",
       "...                             ...   \n",
       "2995                montador moveis   \n",
       "2996                 operador caixa   \n",
       "2997             auxiliar comercial   \n",
       "2998         auxiliar contabilidade   \n",
       "2999              tecnico seguranca   \n",
       "\n",
       "                                            description  \\\n",
       "0     Descrição Geral\\nEmpresa localizada na cidade ...   \n",
       "1     Descrição Geral\\nEmpresa localizada na cidade ...   \n",
       "2     Descrição Geral\\nEmpresa localizada na cidade ...   \n",
       "3     Descrição Geral\\nEmpresa localizada na cidade ...   \n",
       "4     Descrição Geral\\nEmpresa localizada na cidade ...   \n",
       "...                                                 ...   \n",
       "2995  Descrição Geral\\nEmpresa localizada na cidade ...   \n",
       "2996  Descrição Geral\\nEmpresa localizada na cidade ...   \n",
       "2997  Descrição Geral\\nEmpresa localizada na cidade ...   \n",
       "2998  Descrição Geral\\nEmpresa localizada na cidade ...   \n",
       "2999  Descrição Geral\\nEmpresa localizada na cidade ...   \n",
       "\n",
       "                                        descricao_clean    ramo_atividade  \\\n",
       "0     chapeiro.,vaga para chapeiro de horário oturno...    metal mecanico   \n",
       "1     estagiário., ser estudante de engenharia civil...    administrativo   \n",
       "2     analista de departamento pessoal.,atividades: ...  recursos humanos   \n",
       "3     suporte técnico.,com conhecimento técnico e pr...       informatica   \n",
       "4     vendedor., boa comunicação, disponibilidade de...          comercio   \n",
       "...                                                 ...               ...   \n",
       "2995  montador de móveis.,vaga para montador de móve...            moveis   \n",
       "2996  operador de caixa.,empresa: cinco estrelas cas...        financeiro   \n",
       "2997  auxiliar comercial.,suporte ao time comercial,...          comercio   \n",
       "2998  auxiliar de contabilidade.,experiência em trib...     contabilidade   \n",
       "2999  técnico em segurança do trabalho.,para início ...        construcao   \n",
       "\n",
       "                                 competencias_extraidas  \\\n",
       "0     {'Habilidades': 'manuseio de chapa', 'manuseio...   \n",
       "1     {'Habilidades': 'desenho arquitetônico', 'Conh...   \n",
       "2     {'Habilidades': 'eventos rotina dp em geral', ...   \n",
       "3     {'Habilidades': 'manutenção de interfones', 'i...   \n",
       "4     {'Habilidades': 'atendimento ao público', 'Con...   \n",
       "...                                                 ...   \n",
       "2995  {'Habilidades': 'montagem de móveis', 'Conheci...   \n",
       "2996  {'Habilidades': 'Conhecimentos:', 'Atitudes_Va...   \n",
       "2997  {'Habilidades': 'suporte ao time comercial', '...   \n",
       "2998  {'Habilidades': 'importação de folha de pagame...   \n",
       "2999  {'Habilidades': 'Conhecimentos:', 'Atitudes_Va...   \n",
       "\n",
       "                                            Habilidades  \\\n",
       "0           ['manuseio de chapa', 'manuseio de grelha']   \n",
       "1                             ['desenho arquitetônico']   \n",
       "2     ['eventos rotina dp em geral', 'processos de a...   \n",
       "3     ['manutenção de interfones', 'instalação de in...   \n",
       "4                            ['atendimento ao público']   \n",
       "...                                                 ...   \n",
       "2995                             ['montagem de móveis']   \n",
       "2996                                                 []   \n",
       "2997  ['suporte ao time comercial', 'realizar contat...   \n",
       "2998  ['importação de folha de pagamento', 'concilia...   \n",
       "2999                                                 []   \n",
       "\n",
       "                                      Conhecimentos  \\\n",
       "0                                                []   \n",
       "1                                       ['AutoCAD']   \n",
       "2                            ['eSocial', 'DCTFWeb']   \n",
       "3                       ['interfones condominiais']   \n",
       "4                                                []   \n",
       "...                                             ...   \n",
       "2995                                             []   \n",
       "2996                                             []   \n",
       "2997                                             []   \n",
       "2998  ['tributos fiscais', 'DIRF', 'cálculo de IR']   \n",
       "2999                                             []   \n",
       "\n",
       "                                       Atitudes_Valores  \\\n",
       "0                                                    []   \n",
       "1                                                    []   \n",
       "2                                                    []   \n",
       "3                                                    []   \n",
       "4     ['boa comunicação', 'bom relacionamento com a ...   \n",
       "...                                                 ...   \n",
       "2995                                                 []   \n",
       "2996                                                 []   \n",
       "2997                                                 []   \n",
       "2998                                                 []   \n",
       "2999                                                 []   \n",
       "\n",
       "                                           Escolaridade Certificacoes  \n",
       "0                                                    []            []  \n",
       "1     ['estudante de engenharia civil', 'estudante d...            []  \n",
       "2                                                    []            []  \n",
       "3                                                    []            []  \n",
       "4                                                    []            []  \n",
       "...                                                 ...           ...  \n",
       "2995                                                 []            []  \n",
       "2996                                                 []            []  \n",
       "2997                                                 []            []  \n",
       "2998                                                 []            []  \n",
       "2999                                                 []            []  \n",
       "\n",
       "[3000 rows x 17 columns]"
      ]
     },
     "execution_count": 22,
     "metadata": {},
     "output_type": "execute_result"
    }
   ],
   "source": [
    "base_treino"
   ]
  },
  {
   "cell_type": "code",
   "execution_count": 79,
   "metadata": {},
   "outputs": [
    {
     "name": "stdout",
     "output_type": "stream",
     "text": [
      "The history saving thread hit an unexpected error (OperationalError('database or disk is full')).History will not be written to the database.\n"
     ]
    }
   ],
   "source": [
    "base_treino = base_treino[\n",
    "    ['source', 'identifier', 'uuid', 'title', 'title_standardized', 'description', 'descricao_clean',\n",
    "     'ramo_atividade', 'Habilidades', 'Conhecimentos', 'Atitudes_Valores', 'Escolaridade', 'Certificacoes']\n",
    "]\n"
   ]
  },
  {
   "cell_type": "code",
   "execution_count": 80,
   "metadata": {},
   "outputs": [
    {
     "data": {
      "text/html": [
       "<div>\n",
       "<style scoped>\n",
       "    .dataframe tbody tr th:only-of-type {\n",
       "        vertical-align: middle;\n",
       "    }\n",
       "\n",
       "    .dataframe tbody tr th {\n",
       "        vertical-align: top;\n",
       "    }\n",
       "\n",
       "    .dataframe thead th {\n",
       "        text-align: right;\n",
       "    }\n",
       "</style>\n",
       "<table border=\"1\" class=\"dataframe\">\n",
       "  <thead>\n",
       "    <tr style=\"text-align: right;\">\n",
       "      <th></th>\n",
       "      <th>source</th>\n",
       "      <th>identifier</th>\n",
       "      <th>uuid</th>\n",
       "      <th>title</th>\n",
       "      <th>title_standardized</th>\n",
       "      <th>description</th>\n",
       "      <th>descricao_clean</th>\n",
       "      <th>ramo_atividade</th>\n",
       "      <th>Habilidades</th>\n",
       "      <th>Conhecimentos</th>\n",
       "      <th>Atitudes_Valores</th>\n",
       "      <th>Escolaridade</th>\n",
       "      <th>Certificacoes</th>\n",
       "    </tr>\n",
       "  </thead>\n",
       "  <tbody>\n",
       "    <tr>\n",
       "      <th>0</th>\n",
       "      <td>BNE</td>\n",
       "      <td>4346041</td>\n",
       "      <td>C9F9D669-B185-4078-AD4C-882F014273E7</td>\n",
       "      <td>chapeiro</td>\n",
       "      <td>chapeiro</td>\n",
       "      <td>Descrição Geral\\nEmpresa localizada na cidade ...</td>\n",
       "      <td>chapeiro.,vaga para chapeiro de horário oturno...</td>\n",
       "      <td>metal mecanico</td>\n",
       "      <td>['manuseio de chapa', 'manuseio de grelha']</td>\n",
       "      <td>[]</td>\n",
       "      <td>[]</td>\n",
       "      <td>[]</td>\n",
       "      <td>[]</td>\n",
       "    </tr>\n",
       "    <tr>\n",
       "      <th>1</th>\n",
       "      <td>BNE</td>\n",
       "      <td>4307019</td>\n",
       "      <td>52C0DAAA-12D0-411A-BC9C-E0CFE3BDE34B</td>\n",
       "      <td>estagiário</td>\n",
       "      <td>estagiario</td>\n",
       "      <td>Descrição Geral\\nEmpresa localizada na cidade ...</td>\n",
       "      <td>estagiário., ser estudante de engenharia civil...</td>\n",
       "      <td>administrativo</td>\n",
       "      <td>['desenho arquitetônico']</td>\n",
       "      <td>['AutoCAD']</td>\n",
       "      <td>[]</td>\n",
       "      <td>['estudante de engenharia civil', 'estudante d...</td>\n",
       "      <td>[]</td>\n",
       "    </tr>\n",
       "    <tr>\n",
       "      <th>2</th>\n",
       "      <td>BNE</td>\n",
       "      <td>4385222</td>\n",
       "      <td>22899E4A-1DCB-4EC0-AD40-D1FB3104BE42</td>\n",
       "      <td>analista de departamento pessoal</td>\n",
       "      <td>analista departamento pessoal</td>\n",
       "      <td>Descrição Geral\\nEmpresa localizada na cidade ...</td>\n",
       "      <td>analista de departamento pessoal.,atividades: ...</td>\n",
       "      <td>recursos humanos</td>\n",
       "      <td>['eventos rotina dp em geral', 'processos de a...</td>\n",
       "      <td>['eSocial', 'DCTFWeb']</td>\n",
       "      <td>[]</td>\n",
       "      <td>[]</td>\n",
       "      <td>[]</td>\n",
       "    </tr>\n",
       "    <tr>\n",
       "      <th>3</th>\n",
       "      <td>BNE</td>\n",
       "      <td>3967618</td>\n",
       "      <td>49D0ED16-087C-4E99-A28B-5BE7A29F9226</td>\n",
       "      <td>Suporte Técnico</td>\n",
       "      <td>suporte tecnico</td>\n",
       "      <td>Descrição Geral\\nEmpresa localizada na cidade ...</td>\n",
       "      <td>suporte técnico.,com conhecimento técnico e pr...</td>\n",
       "      <td>informatica</td>\n",
       "      <td>['manutenção de interfones', 'instalação de in...</td>\n",
       "      <td>['interfones condominiais']</td>\n",
       "      <td>[]</td>\n",
       "      <td>[]</td>\n",
       "      <td>[]</td>\n",
       "    </tr>\n",
       "    <tr>\n",
       "      <th>4</th>\n",
       "      <td>BNE</td>\n",
       "      <td>4047696</td>\n",
       "      <td>9FC80823-A716-40C6-8F92-45F59A49AE2B</td>\n",
       "      <td>vendedor</td>\n",
       "      <td>vendedor</td>\n",
       "      <td>Descrição Geral\\nEmpresa localizada na cidade ...</td>\n",
       "      <td>vendedor., boa comunicação, disponibilidade de...</td>\n",
       "      <td>comercio</td>\n",
       "      <td>['atendimento ao público']</td>\n",
       "      <td>[]</td>\n",
       "      <td>['boa comunicação', 'bom relacionamento com a ...</td>\n",
       "      <td>[]</td>\n",
       "      <td>[]</td>\n",
       "    </tr>\n",
       "    <tr>\n",
       "      <th>...</th>\n",
       "      <td>...</td>\n",
       "      <td>...</td>\n",
       "      <td>...</td>\n",
       "      <td>...</td>\n",
       "      <td>...</td>\n",
       "      <td>...</td>\n",
       "      <td>...</td>\n",
       "      <td>...</td>\n",
       "      <td>...</td>\n",
       "      <td>...</td>\n",
       "      <td>...</td>\n",
       "      <td>...</td>\n",
       "      <td>...</td>\n",
       "    </tr>\n",
       "    <tr>\n",
       "      <th>5995</th>\n",
       "      <td>BNE</td>\n",
       "      <td>4244618</td>\n",
       "      <td>E7AD5B8A-F3CC-4A01-B35A-5DBD2ECEEDF2</td>\n",
       "      <td>Estagiário</td>\n",
       "      <td>estagiario</td>\n",
       "      <td>Descrição Geral\\nEmpresa localizada na cidade ...</td>\n",
       "      <td>estagiário.,estágio atendimentor r atividades:...</td>\n",
       "      <td>administrativo</td>\n",
       "      <td>['auxiliar o atendimento ao cliente', 'organiz...</td>\n",
       "      <td>['']</td>\n",
       "      <td>['disponibilidade manhã', 'tarde']</td>\n",
       "      <td>['']</td>\n",
       "      <td>[]</td>\n",
       "    </tr>\n",
       "    <tr>\n",
       "      <th>5996</th>\n",
       "      <td>BNE</td>\n",
       "      <td>4241885</td>\n",
       "      <td>FA7425AA-C60C-4BC0-B3EF-C934C393B69D</td>\n",
       "      <td>auxiliar de almoxarifado</td>\n",
       "      <td>auxiliar almoxarifado</td>\n",
       "      <td>Descrição Geral\\nEmpresa localizada na cidade ...</td>\n",
       "      <td>auxiliar de almoxarifado.,vaga para auxiliar d...</td>\n",
       "      <td>logistica</td>\n",
       "      <td>[\"'recebimento de mercadorias'\", \"'entregas de...</td>\n",
       "      <td>[\"'sistemas de emissão de OS'\"]</td>\n",
       "      <td>['']</td>\n",
       "      <td>[\"'ensino médio completo'\"]</td>\n",
       "      <td>[]</td>\n",
       "    </tr>\n",
       "    <tr>\n",
       "      <th>5997</th>\n",
       "      <td>BNE</td>\n",
       "      <td>3964298</td>\n",
       "      <td>0F099222-F1D8-4C06-9CD3-B0B9B43460B7</td>\n",
       "      <td>vigia</td>\n",
       "      <td>vigia</td>\n",
       "      <td>Descrição Geral\\nEmpresa localizada na cidade ...</td>\n",
       "      <td>vigia.,vaga para atuar como vigia, escala 12x3...</td>\n",
       "      <td>seguranca</td>\n",
       "      <td>['']</td>\n",
       "      <td>['']</td>\n",
       "      <td>['']</td>\n",
       "      <td>['']</td>\n",
       "      <td>[]</td>\n",
       "    </tr>\n",
       "    <tr>\n",
       "      <th>5998</th>\n",
       "      <td>BNE</td>\n",
       "      <td>4026387</td>\n",
       "      <td>FD10E4EB-8815-47C0-BC14-F20535150B06</td>\n",
       "      <td>açougueiro</td>\n",
       "      <td>acougueiro</td>\n",
       "      <td>Descrição Geral\\nEmpresa localizada na cidade ...</td>\n",
       "      <td>açougueiro.,experiência em atendimentos e cort...</td>\n",
       "      <td>alimentos</td>\n",
       "      <td>[\"'atendimentos'\", \"'cortes de carne'\"]</td>\n",
       "      <td>['']</td>\n",
       "      <td>['']</td>\n",
       "      <td>['']</td>\n",
       "      <td>[]</td>\n",
       "    </tr>\n",
       "    <tr>\n",
       "      <th>5999</th>\n",
       "      <td>BNE</td>\n",
       "      <td>4096311</td>\n",
       "      <td>A3327F31-969F-4362-8001-3489192B3509</td>\n",
       "      <td>Analista de frota</td>\n",
       "      <td>analista frota</td>\n",
       "      <td>Descrição Geral\\nEmpresa localizada na cidade ...</td>\n",
       "      <td>analista de frota,superior completo,analista d...</td>\n",
       "      <td>recursos humanos</td>\n",
       "      <td>['monitorar a operação de fretes', 'garantir a...</td>\n",
       "      <td>['pacote office', 'Excel intermediário', 'roti...</td>\n",
       "      <td>['']</td>\n",
       "      <td>['superior completo', 'formação superior em ad...</td>\n",
       "      <td>[]</td>\n",
       "    </tr>\n",
       "  </tbody>\n",
       "</table>\n",
       "<p>6000 rows × 13 columns</p>\n",
       "</div>"
      ],
      "text/plain": [
       "     source identifier                                  uuid  \\\n",
       "0       BNE    4346041  C9F9D669-B185-4078-AD4C-882F014273E7   \n",
       "1       BNE    4307019  52C0DAAA-12D0-411A-BC9C-E0CFE3BDE34B   \n",
       "2       BNE    4385222  22899E4A-1DCB-4EC0-AD40-D1FB3104BE42   \n",
       "3       BNE    3967618  49D0ED16-087C-4E99-A28B-5BE7A29F9226   \n",
       "4       BNE    4047696  9FC80823-A716-40C6-8F92-45F59A49AE2B   \n",
       "...     ...        ...                                   ...   \n",
       "5995    BNE    4244618  E7AD5B8A-F3CC-4A01-B35A-5DBD2ECEEDF2   \n",
       "5996    BNE    4241885  FA7425AA-C60C-4BC0-B3EF-C934C393B69D   \n",
       "5997    BNE    3964298  0F099222-F1D8-4C06-9CD3-B0B9B43460B7   \n",
       "5998    BNE    4026387  FD10E4EB-8815-47C0-BC14-F20535150B06   \n",
       "5999    BNE    4096311  A3327F31-969F-4362-8001-3489192B3509   \n",
       "\n",
       "                                 title             title_standardized  \\\n",
       "0                             chapeiro                       chapeiro   \n",
       "1                           estagiário                     estagiario   \n",
       "2     analista de departamento pessoal  analista departamento pessoal   \n",
       "3                      Suporte Técnico                suporte tecnico   \n",
       "4                             vendedor                       vendedor   \n",
       "...                                ...                            ...   \n",
       "5995                        Estagiário                     estagiario   \n",
       "5996          auxiliar de almoxarifado          auxiliar almoxarifado   \n",
       "5997                             vigia                          vigia   \n",
       "5998                        açougueiro                     acougueiro   \n",
       "5999                 Analista de frota                 analista frota   \n",
       "\n",
       "                                            description  \\\n",
       "0     Descrição Geral\\nEmpresa localizada na cidade ...   \n",
       "1     Descrição Geral\\nEmpresa localizada na cidade ...   \n",
       "2     Descrição Geral\\nEmpresa localizada na cidade ...   \n",
       "3     Descrição Geral\\nEmpresa localizada na cidade ...   \n",
       "4     Descrição Geral\\nEmpresa localizada na cidade ...   \n",
       "...                                                 ...   \n",
       "5995  Descrição Geral\\nEmpresa localizada na cidade ...   \n",
       "5996  Descrição Geral\\nEmpresa localizada na cidade ...   \n",
       "5997  Descrição Geral\\nEmpresa localizada na cidade ...   \n",
       "5998  Descrição Geral\\nEmpresa localizada na cidade ...   \n",
       "5999  Descrição Geral\\nEmpresa localizada na cidade ...   \n",
       "\n",
       "                                        descricao_clean    ramo_atividade  \\\n",
       "0     chapeiro.,vaga para chapeiro de horário oturno...    metal mecanico   \n",
       "1     estagiário., ser estudante de engenharia civil...    administrativo   \n",
       "2     analista de departamento pessoal.,atividades: ...  recursos humanos   \n",
       "3     suporte técnico.,com conhecimento técnico e pr...       informatica   \n",
       "4     vendedor., boa comunicação, disponibilidade de...          comercio   \n",
       "...                                                 ...               ...   \n",
       "5995  estagiário.,estágio atendimentor r atividades:...    administrativo   \n",
       "5996  auxiliar de almoxarifado.,vaga para auxiliar d...         logistica   \n",
       "5997  vigia.,vaga para atuar como vigia, escala 12x3...         seguranca   \n",
       "5998  açougueiro.,experiência em atendimentos e cort...         alimentos   \n",
       "5999  analista de frota,superior completo,analista d...  recursos humanos   \n",
       "\n",
       "                                            Habilidades  \\\n",
       "0           ['manuseio de chapa', 'manuseio de grelha']   \n",
       "1                             ['desenho arquitetônico']   \n",
       "2     ['eventos rotina dp em geral', 'processos de a...   \n",
       "3     ['manutenção de interfones', 'instalação de in...   \n",
       "4                            ['atendimento ao público']   \n",
       "...                                                 ...   \n",
       "5995  ['auxiliar o atendimento ao cliente', 'organiz...   \n",
       "5996  [\"'recebimento de mercadorias'\", \"'entregas de...   \n",
       "5997                                               ['']   \n",
       "5998            [\"'atendimentos'\", \"'cortes de carne'\"]   \n",
       "5999  ['monitorar a operação de fretes', 'garantir a...   \n",
       "\n",
       "                                          Conhecimentos  \\\n",
       "0                                                    []   \n",
       "1                                           ['AutoCAD']   \n",
       "2                                ['eSocial', 'DCTFWeb']   \n",
       "3                           ['interfones condominiais']   \n",
       "4                                                    []   \n",
       "...                                                 ...   \n",
       "5995                                               ['']   \n",
       "5996                    [\"'sistemas de emissão de OS'\"]   \n",
       "5997                                               ['']   \n",
       "5998                                               ['']   \n",
       "5999  ['pacote office', 'Excel intermediário', 'roti...   \n",
       "\n",
       "                                       Atitudes_Valores  \\\n",
       "0                                                    []   \n",
       "1                                                    []   \n",
       "2                                                    []   \n",
       "3                                                    []   \n",
       "4     ['boa comunicação', 'bom relacionamento com a ...   \n",
       "...                                                 ...   \n",
       "5995                 ['disponibilidade manhã', 'tarde']   \n",
       "5996                                               ['']   \n",
       "5997                                               ['']   \n",
       "5998                                               ['']   \n",
       "5999                                               ['']   \n",
       "\n",
       "                                           Escolaridade Certificacoes  \n",
       "0                                                    []            []  \n",
       "1     ['estudante de engenharia civil', 'estudante d...            []  \n",
       "2                                                    []            []  \n",
       "3                                                    []            []  \n",
       "4                                                    []            []  \n",
       "...                                                 ...           ...  \n",
       "5995                                               ['']            []  \n",
       "5996                        [\"'ensino médio completo'\"]            []  \n",
       "5997                                               ['']            []  \n",
       "5998                                               ['']            []  \n",
       "5999  ['superior completo', 'formação superior em ad...            []  \n",
       "\n",
       "[6000 rows x 13 columns]"
      ]
     },
     "execution_count": 80,
     "metadata": {},
     "output_type": "execute_result"
    }
   ],
   "source": [
    "base_treino_final = pd.concat([base_treino, base_retreino], ignore_index=True)\n",
    "base_treino_final"
   ]
  },
  {
   "cell_type": "code",
   "execution_count": 108,
   "metadata": {},
   "outputs": [
    {
     "name": "stdout",
     "output_type": "stream",
     "text": [
      "Collecting rapidfuzz\n",
      "  Downloading rapidfuzz-3.13.0-cp310-cp310-win_amd64.whl.metadata (12 kB)\n",
      "Downloading rapidfuzz-3.13.0-cp310-cp310-win_amd64.whl (1.6 MB)\n",
      "   ---------------------------------------- 0.0/1.6 MB ? eta -:--:--\n",
      "   -------------------------------- ------- 1.3/1.6 MB 6.7 MB/s eta 0:00:01\n",
      "   ---------------------------------------- 1.6/1.6 MB 4.2 MB/s eta 0:00:00\n",
      "Installing collected packages: rapidfuzz\n",
      "Successfully installed rapidfuzz-3.13.0\n"
     ]
    }
   ],
   "source": [
    "!pip install rapidfuzz"
   ]
  },
  {
   "cell_type": "code",
   "execution_count": 111,
   "metadata": {},
   "outputs": [],
   "source": [
    "base_treino_final_sample = base_treino_final.sample(10).copy()"
   ]
  },
  {
   "cell_type": "code",
   "execution_count": 122,
   "metadata": {},
   "outputs": [
    {
     "name": "stdout",
     "output_type": "stream",
     "text": [
      "Habilidades: ['operação de caixa', 'análise técnica de ordens de serviço', \"'liderar negociações'\", 'atender clientes', \"'executar atividades de panfletagem'\"]\n",
      "Conhecimentos: [\"'Go'\", 'operação de caixa', 'sistema redesim', 'elétricos e eletrônicos de veículos', \"'alterações e transformações societárias'\"]\n",
      "Atitudes/Valores: [\"'liberdade'\", 'foco em qualidade e excelência', \"'facilidade para trabalhar com sistemas'\", 'acostumado a trabalhar com metas agressivas]', \"'facilidade de comunicação'\"]\n"
     ]
    },
    {
     "name": "stderr",
     "output_type": "stream",
     "text": [
      "Processando spans: 100%|██████████| 10/10 [04:53<00:00, 29.36s/it]\n"
     ]
    }
   ],
   "source": [
    "import pandas as pd\n",
    "import ast\n",
    "import re\n",
    "from rapidfuzz import fuzz, process\n",
    "\n",
    "# Extrair termos únicos das colunas\n",
    "def extrair_termos(coluna):\n",
    "    termos = []\n",
    "    for lista in base_treino_final[coluna]:\n",
    "        if pd.isna(lista):\n",
    "            continue\n",
    "        try:\n",
    "            termos += ast.literal_eval(lista)\n",
    "        except:\n",
    "            continue\n",
    "    return list(set([t.strip() for t in termos if isinstance(t, str) and len(t) >= 3]))\n",
    "\n",
    "termos_habilidades = extrair_termos(\"Habilidades\")\n",
    "termos_conhecimentos = extrair_termos(\"Conhecimentos\")\n",
    "termos_atitudes = extrair_termos(\"Atitudes_Valores\")\n",
    "\n",
    "print(\"Habilidades:\", termos_habilidades[:5])\n",
    "print(\"Conhecimentos:\", termos_conhecimentos[:5])\n",
    "print(\"Atitudes/Valores:\", termos_atitudes[:5])\n",
    "\n",
    "# Função para fuzzy matching\n",
    "def fuzzy_spans(texto, termos, label, threshold=70):\n",
    "    spans = []\n",
    "    for termo in termos:\n",
    "        matches = process.extract_iter(termo, texto, scorer=fuzz.partial_ratio)\n",
    "        for match, score, start in matches:\n",
    "            if score >= threshold:\n",
    "                end = start + len(match)\n",
    "                if end - start >= 3:\n",
    "                    spans.append((start, end, label))\n",
    "    return spans\n",
    "\n",
    "# Aplicar aos textos\n",
    "dados_bio = []\n",
    "for i, row in tqdm(base_treino_final_sample.iterrows(), total=base_treino_final_sample.shape[0], desc=\"Processando spans\"):\n",
    "    texto = str(row[\"description\"])\n",
    "    spans = []\n",
    "    spans += fuzzy_spans(texto, termos_habilidades, \"HABILIDADE\")\n",
    "    spans += fuzzy_spans(texto, termos_conhecimentos, \"CONHECIMENTO\")\n",
    "    spans += fuzzy_spans(texto, termos_atitudes, \"ATITUDE_VALOR\")\n",
    "\n",
    "    # Remover overlaps\n",
    "    spans = list(set(spans))\n",
    "    spans = sorted(spans, key=lambda x: (x[0], -x[1]))\n",
    "    resultado = []\n",
    "    ultimo_fim = -1\n",
    "    for start, end, label in spans:\n",
    "        if start >= ultimo_fim:\n",
    "            resultado.append((start, end, label))\n",
    "            ultimo_fim = end\n",
    "\n",
    "    if resultado:\n",
    "        dados_bio.append({\"text\": texto, \"spans\": resultado})"
   ]
  },
  {
   "cell_type": "code",
   "execution_count": 121,
   "metadata": {},
   "outputs": [
    {
     "name": "stdout",
     "output_type": "stream",
     "text": [
      "Texto exemplo: Descrição Geral\\nEmpresa localizada na cidade de Guaçuí/ES do ramo Comércio, contrata Representante de Vendas.,Atribuições\\na *tambasa* é uma empresa atacadista, que está a   no mercado comercial e atua em todo o território nacional. está com uma excelente oportunidade para você vendedor atonomo. \\r\\n ??segmentos:\\r\\n *construção, produtos do lar e do campo:*\\r\\n?? agropecuária e veterinária \\r\\n??fertilizantes, ferragens agrícolas\\r\\n??caça, pesca e montaria\\r\\n??calçados, matérias segurança\\r\\n??material de construção em geral\\r\\n??pinturas e acabamentos \\r\\n??eletrodomésticos \\r\\n?? material escolar, escritório,\\r\\n?? utilidade domésticas, loucas, vidros, armarinhos, etc.\\r\\n?? mix com mais de 29 mil itens\\r\\n?? vantagens:\\r\\n ??comissão paga semanalmente sobre o faturado \\r\\n??premiação semanal, mensal, trimestral, semestral, anual\\r\\n??campanhas de estímulos \\r\\n??requisitos:\\r\\ncore ou firma (cnpj)\\r\\na combinar\\r\\n?? (informação confidencial)\\r\\n?? instagram:\\r\\n@tambasaatacadistas,Tipo de Vínculo\\nAutônomo\n",
      "Spans habilidade: []\n"
     ]
    }
   ],
   "source": [
    "texto_exemplo = base_treino_final[\"description\"].iloc[1021]\n",
    "print(\"Texto exemplo:\", texto_exemplo)\n",
    "\n",
    "print(\"Spans habilidade:\", fuzzy_spans(texto_exemplo, termos_habilidades, \"HABILIDADE\"))\n"
   ]
  },
  {
   "cell_type": "code",
   "execution_count": 116,
   "metadata": {},
   "outputs": [
    {
     "name": "stdout",
     "output_type": "stream",
     "text": [
      "Empty DataFrame\n",
      "Columns: []\n",
      "Index: []\n"
     ]
    }
   ],
   "source": [
    "# Transformar em DataFrame e visualizar\n",
    "df_resultado = pd.DataFrame(dados_bio)\n",
    "print(df_resultado.head(3))  # Mostra primeiras 3 vagas"
   ]
  },
  {
   "cell_type": "code",
   "execution_count": 88,
   "metadata": {},
   "outputs": [],
   "source": [
    "base_treino_final.to_csv(diretorio + 'base_treino_final.csv', sep=\";\", encoding='utf-8-sig')"
   ]
  },
  {
   "cell_type": "markdown",
   "metadata": {},
   "source": [
    "## AMPLIANDO A BASE"
   ]
  },
  {
   "cell_type": "code",
   "execution_count": null,
   "metadata": {},
   "outputs": [],
   "source": [
    "vagas = pd.read_csv('vagas.csv', sep=\";\")\n",
    "vagas_gpt = vagas.sample(6000)\n",
    "habilidades_expandida = pd.read_csv('habilidades_expandidas.csv', sep=\";\")"
   ]
  },
  {
   "cell_type": "code",
   "execution_count": null,
   "metadata": {},
   "outputs": [],
   "source": [
    "\n",
    "# === Prompt de contexto ===\n",
    "prompt_competencia_gpt = (\n",
    "    \"Você é um especialista em Processamento de Linguagem Natural (NLP) aplicado ao mercado de trabalho. \"\n",
    "    \"Sua tarefa é analisar descrições de vagas de emprego e identificar, de forma estruturada, cinco categorias de informações relacionadas ao perfil profissional desejado:\\n\\n\"\n",
    "    \"1. **Habilidades**: capacidades técnicas ou práticas que o candidato precisa demonstrar, como 'atendimento ao cliente', 'operar máquinas', 'vendas', 'comunicação assertiva';\\n\"\n",
    "    \"2. **Conhecimentos**: saberes técnicos, normativos ou teóricos necessários à função, como 'Excel', 'normas da Anvisa', 'legislação trabalhista'. **Não inclua níveis de escolaridade aqui**;\\n\"\n",
    "    \"3. **Atitudes e Valores**: comportamentos e disposições esperadas do profissional, como 'proatividade', 'trabalho em equipe', 'responsabilidade', 'ética', 'comprometimento';\\n\\n\"\n",
    "    \"Ignore informações que **não** dizem respeito diretamente ao perfil do candidato, como:\\n\"\n",
    "    \"- Nome da empresa;\\n\"\n",
    "    \"- Localização da vaga;\\n\"\n",
    "    \"- Jornada de trabalho;\\n\"\n",
    "    \"- Tipo de contrato;\\n\"\n",
    "    \"- Benefícios;\\n\"\n",
    "    \"- Requisitos vagos como “experiência prévia” sem detalhamento da atividade.\\n\\n\"\n",
    "    \"Retorne o resultado estruturado neste formato (sem explicações adicionais):\\n\"\n",
    "    \"Habilidades: [lista]\\n\"\n",
    "    \"Conhecimentos: [lista]\\n\"\n",
    "    \"Atitudes e Valores: [lista]\\n\"\n",
    ")\n",
    "\n",
    "# === Função GPT ===\n",
    "def analisar_vaga_gpt(descricao):\n",
    "    if not isinstance(descricao, str) or descricao.strip() == \"\":\n",
    "        return {\"Habilidades\": [], \"Conhecimentos\": [], \"Atitudes_Valores\": [], \"Escolaridade\": [], \"Certificacoes\": []}\n",
    "    try:\n",
    "        response = client.chat.completions.create(\n",
    "            model=\"gpt-4o\",\n",
    "            messages=[\n",
    "                {\"role\": \"system\", \"content\": prompt_competencia_gpt},\n",
    "                {\"role\": \"user\", \"content\": descricao}\n",
    "            ],\n",
    "            temperature=0,\n",
    "            max_tokens=800\n",
    "        )\n",
    "        content = response.choices[0].message.content\n",
    "\n",
    "        resultado = {\n",
    "            \"Habilidades\": [],\n",
    "            \"Conhecimentos\": [],\n",
    "            \"Atitudes_Valores\": []\n",
    "        }\n",
    "        for linha in content.split(\"\\n\"):\n",
    "            if linha.lower().startswith(\"habilidades\"):\n",
    "                resultado[\"Habilidades\"] = linha.split(\":\", 1)[-1].strip(\" []\").split(\", \")\n",
    "            elif linha.lower().startswith(\"conhecimentos\"):\n",
    "                resultado[\"Conhecimentos\"] = linha.split(\":\", 1)[-1].strip(\" []\").split(\", \")\n",
    "            elif \"atitudes\" in linha.lower():\n",
    "                resultado[\"Atitudes_Valores\"] = linha.split(\":\", 1)[-1].strip(\" []\").split(\", \")\n",
    "        return resultado\n",
    "    except Exception as e:\n",
    "        print(f\"Erro: {e}\")\n",
    "        return {\"Habilidades\": [], \"Conhecimentos\": [], \"Atitudes_Valores\": [], \"Escolaridade\": [], \"Certificacoes\": []}\n",
    "\n",
    "\n",
    "# === Carregar progresso anterior (se existir) ===\n",
    "caminho_saida = \"resultado_gpt_parcial.csv\"\n",
    "try:\n",
    "    resultado_parcial = pd.read_csv(caminho_saida, encoding=\"utf-8-sig\")\n",
    "    processados = set(resultado_parcial[\"uuid\"].tolist())\n",
    "    print(f\"✅ Retomando do ponto salvo: {len(processados)} registros já processados.\")\n",
    "except FileNotFoundError:\n",
    "    resultado_parcial = pd.DataFrame()\n",
    "    processados = set()\n",
    "    print(\"🚀 Iniciando do zero.\")\n",
    "\n",
    "# === Lista final de resultados\n",
    "resultados = resultado_parcial.to_dict(\"records\")\n",
    "\n",
    "# === Iterar com tqdm\n",
    "batch = []\n",
    "for i, row in tqdm(vagas_gpt.iterrows(), total=len(vagas_gpt)):\n",
    "    uuid = row[\"uuid\"]\n",
    "    if uuid in processados:\n",
    "        continue\n",
    "\n",
    "    competencias = analisar_vaga_gpt(row[\"description\"])\n",
    "    competencias[\"uuid\"] = uuid\n",
    "    competencias[\"identifier\"] = row[\"identifier\"]\n",
    "    competencias[\"title\"] = row[\"title\"]\n",
    "    competencias[\"description\"] = row[\"description\"]\n",
    "    batch.append(competencias)\n",
    "\n",
    "    time.sleep(1)\n",
    "\n",
    "    # Salvamento a cada 500 processadas\n",
    "    if len(batch) >= 500:\n",
    "        print(f\"💾 Salvando {len(batch)} registros...\")\n",
    "        df_batch = pd.DataFrame(batch)\n",
    "        resultado_parcial = pd.concat([resultado_parcial, df_batch], ignore_index=True)\n",
    "        resultado_parcial.to_csv(caminho_saida, index=False, encoding=\"utf-8-sig\")\n",
    "        processados.update(df_batch[\"uuid\"].tolist())\n",
    "        batch = []\n",
    "\n",
    "# === Salvamento final\n",
    "if batch:\n",
    "    print(f\"💾 Salvamento final de {len(batch)} registros restantes...\")\n",
    "    df_batch = pd.DataFrame(batch)\n",
    "    resultado_parcial = pd.concat([resultado_parcial, df_batch], ignore_index=True)\n",
    "    resultado_parcial.to_csv(caminho_saida, index=False, encoding=\"utf-8-sig\")\n",
    "\n",
    "print(\"✅ Processo concluído com sucesso.\")\n",
    "import pandas as pd\n",
    "import json\n",
    "from ast import literal_eval\n",
    "\n",
    "# === 1. Carregar base antiga (já no formato final)\n",
    "df_antiga = pd.read_json(\"base_ner_completa.jsonl\", lines=True)\n",
    "\n",
    "# === 2. Carregar nova base anotada via GPT\n",
    "df_nova = pd.read_csv(\"resultado_gpt_parcial.csv\", encoding=\"utf-8-sig\")\n",
    "\n",
    "# === 3. Converter colunas de listas em texto real\n",
    "for col in [\"Habilidades\", \"Conhecimentos\", \"Atitudes_Valores\"]:\n",
    "    df_nova[col] = df_nova[col].apply(lambda x: literal_eval(x) if isinstance(x, str) and x.startswith(\"[\") else [])\n",
    "\n",
    "# === 4. Gerar spans no formato {\"start\": int, \"end\": int, \"label\": str}\n",
    "def gerar_spans(row):\n",
    "    spans = []\n",
    "    texto = row[\"description\"].lower()\n",
    "\n",
    "    for tipo, termos in {\n",
    "        \"HABILIDADE\": row[\"Habilidades\"],\n",
    "        \"CONHECIMENTO\": row[\"Conhecimentos\"],\n",
    "        \"ATITUDE_VALOR\": row[\"Atitudes_Valores\"]\n",
    "    }.items():\n",
    "        for termo in termos:\n",
    "            termo = termo.strip().lower()\n",
    "            if termo in texto:\n",
    "                start = texto.find(termo)\n",
    "                end = start + len(termo)\n",
    "                spans.append({\"start\": start, \"end\": end, \"label\": tipo})\n",
    "    return spans\n",
    "\n",
    "df_nova[\"spans\"] = df_nova.apply(gerar_spans, axis=1)\n",
    "df_nova[\"text\"] = df_nova[\"description\"].str.lower()\n",
    "df_nova_final = df_nova[[\"text\", \"spans\"]].copy()\n",
    "df_nova_final = df_nova_final[df_nova_final[\"spans\"].map(len) > 0].reset_index(drop=True)\n",
    "\n",
    "# === 5. Unir com a base antiga\n",
    "df_combinada = pd.concat([df_antiga, df_nova_final], ignore_index=True)\n",
    "\n",
    "# === 6. (Opcional) Remover duplicatas por texto + spans exatos\n",
    "df_combinada[\"spans_json\"] = df_combinada[\"spans\"].apply(lambda x: json.dumps(sorted(x, key=lambda s: (s[\"start\"], s[\"label\"]))))\n",
    "df_combinada = df_combinada.drop_duplicates(subset=[\"text\", \"spans_json\"]).drop(columns=[\"spans_json\"]).reset_index(drop=True)\n",
    "\n",
    "# === 7. Salvar base combinada\n",
    "df_combinada.to_json(\"base_ner_completa_retreino.jsonl\", orient=\"records\", lines=True, force_ascii=False)\n",
    "\n",
    "print(f\"✅ Base final salva com {len(df_combinada)} exemplos em: base_ner_completa_retreino.jsonl\")\n"
   ]
  },
  {
   "cell_type": "code",
   "execution_count": null,
   "metadata": {},
   "outputs": [],
   "source": [
    "vagas = pd.read_csv('vagas.csv', sep=\";\")\n",
    "vagas_gpt = vagas.sample(5000)\n",
    "habilidades_expandida = pd.read_csv('habilidades_expandidas.csv', sep=\";\")\n",
    "# === Prompt de contexto ===\n",
    "prompt_competencia_gpt = (\n",
    "    \"Você é um especialista em Processamento de Linguagem Natural (NLP) aplicado ao mercado de trabalho. \"\n",
    "    \"Sua tarefa é analisar descrições de vagas de emprego e identificar, de forma estruturada, cinco categorias de informações relacionadas ao perfil profissional desejado:\\n\\n\"\n",
    "    \"1. **Habilidades**: capacidades técnicas ou práticas que o candidato precisa demonstrar, como 'atendimento ao cliente', 'operar máquinas', 'vendas', 'comunicação assertiva';\\n\"\n",
    "    \"2. **Conhecimentos**: saberes técnicos, normativos ou teóricos necessários à função, como 'Excel', 'normas da Anvisa', 'legislação trabalhista'. **Não inclua níveis de escolaridade aqui**;\\n\"\n",
    "    \"3. **Atitudes e Valores**: comportamentos e disposições esperadas do profissional, como 'proatividade', 'trabalho em equipe', 'responsabilidade', 'ética', 'comprometimento';\\n\\n\"\n",
    "    \"Ignore informações que **não** dizem respeito diretamente ao perfil do candidato, como:\\n\"\n",
    "    \"- Nome da empresa;\\n\"\n",
    "    \"- Localização da vaga;\\n\"\n",
    "    \"- Jornada de trabalho;\\n\"\n",
    "    \"- Tipo de contrato;\\n\"\n",
    "    \"- Benefícios;\\n\"\n",
    "    \"- Requisitos vagos como “experiência prévia” sem detalhamento da atividade.\\n\\n\"\n",
    "    \"Retorne o resultado estruturado neste formato (sem explicações adicionais):\\n\"\n",
    "    \"Habilidades: [lista]\\n\"\n",
    "    \"Conhecimentos: [lista]\\n\"\n",
    "    \"Atitudes e Valores: [lista]\\n\"\n",
    "        \"- **Não inclua 'disponibilidade para viajar'.**\\n\\n\"\n",
    "    \"Formato de resposta (sem explicações):\\n\"\n",
    "    \"Habilidades: [lista]\\n\"\n",
    "    \"Conhecimentos: [lista]\\n\"\n",
    "    \"Atitudes e Valores: [lista]\\n\\n\"\n",
    "    \"Exemplo:\\n\"\n",
    "    \"\\\"Estamos em busca de um atendente para padaria. Será responsável por atendimento ao cliente, caixa, limpeza. Requer conhecimento em higiene alimentar. Buscamos uma pessoa proativa, simpática e com trabalho em equipe.\\\"\\n\"\n",
    "    \"Habilidades: ['atendimento ao cliente', 'operar o caixa', 'manter limpeza']\\n\"\n",
    "    \"Conhecimentos: ['higiene alimentar']\\n\"\n",
    "    \"Atitudes e Valores: ['proatividade', 'simpatia', 'trabalho em equipe']\"\n",
    ")\n",
    "\n",
    "# === Função GPT ===\n",
    "def analisar_vaga_gpt(descricao):\n",
    "    if not isinstance(descricao, str) or descricao.strip() == \"\":\n",
    "        return {\"Habilidades\": [], \"Conhecimentos\": [], \"Atitudes_Valores\": [], \"Escolaridade\": [], \"Certificacoes\": []}\n",
    "    try:\n",
    "        response = client.chat.completions.create(\n",
    "            model=\"gpt-4o\",\n",
    "            messages=[\n",
    "                {\"role\": \"system\", \"content\": prompt_competencia_gpt},\n",
    "                {\"role\": \"user\", \"content\": descricao}\n",
    "            ],\n",
    "            temperature=0,\n",
    "            max_tokens=800\n",
    "        )\n",
    "        content = response.choices[0].message.content\n",
    "\n",
    "        resultado = {\n",
    "            \"Habilidades\": [],\n",
    "            \"Conhecimentos\": [],\n",
    "            \"Atitudes_Valores\": []\n",
    "        }\n",
    "        for linha in content.split(\"\\n\"):\n",
    "            if linha.lower().startswith(\"habilidades\"):\n",
    "                resultado[\"Habilidades\"] = linha.split(\":\", 1)[-1].strip(\" []\").split(\", \")\n",
    "            elif linha.lower().startswith(\"conhecimentos\"):\n",
    "                resultado[\"Conhecimentos\"] = linha.split(\":\", 1)[-1].strip(\" []\").split(\", \")\n",
    "            elif \"atitudes\" in linha.lower():\n",
    "                resultado[\"Atitudes_Valores\"] = linha.split(\":\", 1)[-1].strip(\" []\").split(\", \")\n",
    "        return resultado\n",
    "    except Exception as e:\n",
    "        print(f\"Erro: {e}\")\n",
    "        return {\"Habilidades\": [], \"Conhecimentos\": [], \"Atitudes_Valores\": [], \"Escolaridade\": [], \"Certificacoes\": []}\n",
    "\n",
    "\n",
    "# === Carregar progresso anterior (se existir) ===\n",
    "caminho_saida = \"resultado_gpt_parcial2.csv\"\n",
    "try:\n",
    "    resultado_parcial = pd.read_csv(caminho_saida, encoding=\"utf-8-sig\")\n",
    "    processados = set(resultado_parcial[\"uuid\"].tolist())\n",
    "    print(f\"✅ Retomando do ponto salvo: {len(processados)} registros já processados.\")\n",
    "except FileNotFoundError:\n",
    "    resultado_parcial = pd.DataFrame()\n",
    "    processados = set()\n",
    "    print(\"🚀 Iniciando do zero.\")\n",
    "\n",
    "# === Lista final de resultados\n",
    "resultados = resultado_parcial.to_dict(\"records\")\n",
    "\n",
    "# === Iterar com tqdm\n",
    "batch = []\n",
    "for i, row in tqdm(vagas_gpt.iterrows(), total=len(vagas_gpt)):\n",
    "    uuid = row[\"uuid\"]\n",
    "    if uuid in processados:\n",
    "        continue\n",
    "\n",
    "    competencias = analisar_vaga_gpt(row[\"description\"])\n",
    "    competencias[\"uuid\"] = uuid\n",
    "    competencias[\"identifier\"] = row[\"identifier\"]\n",
    "    competencias[\"title\"] = row[\"title\"]\n",
    "    competencias[\"description\"] = row[\"description\"]\n",
    "    batch.append(competencias)\n",
    "\n",
    "    time.sleep(1)\n",
    "\n",
    "    # Salvamento a cada 500 processadas\n",
    "    if len(batch) >= 500:\n",
    "        print(f\"💾 Salvando {len(batch)} registros...\")\n",
    "        df_batch = pd.DataFrame(batch)\n",
    "        resultado_parcial = pd.concat([resultado_parcial, df_batch], ignore_index=True)\n",
    "        resultado_parcial.to_csv(caminho_saida, index=False, encoding=\"utf-8-sig\")\n",
    "        processados.update(df_batch[\"uuid\"].tolist())\n",
    "        batch = []\n",
    "\n",
    "# === Salvamento final\n",
    "if batch:\n",
    "    print(f\"💾 Salvamento final de {len(batch)} registros restantes...\")\n",
    "    df_batch = pd.DataFrame(batch)\n",
    "    resultado_parcial = pd.concat([resultado_parcial, df_batch], ignore_index=True)\n",
    "    resultado_parcial.to_csv(caminho_saida, index=False, encoding=\"utf-8-sig\")\n",
    "\n",
    "print(\"✅ Processo concluído com sucesso.\")"
   ]
  },
  {
   "cell_type": "code",
   "execution_count": null,
   "metadata": {},
   "outputs": [],
   "source": [
    "# === 1. Carregar base original no formato JSONL\n",
    "df_antiga = pd.read_json(\"base_ner_completa_retreino.jsonl\", lines=True)\n",
    "\n",
    "# === 2. Carregar nova base anotada via GPT\n",
    "df_nova = pd.read_csv(\"resultado_gpt_parcial2.csv\", encoding=\"utf-8-sig\")\n",
    "\n",
    "# === 3. Converter colunas de string para listas reais\n",
    "for col in [\"Habilidades\", \"Conhecimentos\", \"Atitudes_Valores\"]:\n",
    "    df_nova[col] = df_nova[col].apply(lambda x: literal_eval(x) if isinstance(x, str) and x.startswith(\"[\") else [])\n",
    "\n",
    "# === 4. Função para gerar spans usando regex\n",
    "def gerar_spans_regex(row):\n",
    "    spans = []\n",
    "    texto = row[\"description\"]\n",
    "    texto_lower = texto.lower()\n",
    "\n",
    "    for tipo, termos in {\n",
    "        \"HABILIDADE\": row[\"Habilidades\"],\n",
    "        \"CONHECIMENTO\": row[\"Conhecimentos\"],\n",
    "        \"ATITUDE_VALOR\": row[\"Atitudes_Valores\"]\n",
    "    }.items():\n",
    "        for termo in termos:\n",
    "            termo = termo.strip().lower()\n",
    "            if not termo:\n",
    "                continue\n",
    "            termo_re = re.escape(termo)\n",
    "            for match in re.finditer(rf'\\b{termo_re}\\b', texto_lower):\n",
    "                spans.append({\"start\": match.start(), \"end\": match.end(), \"label\": tipo})\n",
    "    return spans\n",
    "\n",
    "# === 5. Gerar nova base com text + spans\n",
    "df_nova[\"spans\"] = df_nova.apply(gerar_spans_regex, axis=1)\n",
    "df_nova[\"text\"] = df_nova[\"description\"]\n",
    "df_nova_final = df_nova[[\"text\", \"spans\"]].copy()\n",
    "df_nova_final = df_nova_final[df_nova_final[\"spans\"].map(len) > 0].reset_index(drop=True)\n",
    "\n",
    "# === 6. Combinar com a base antiga e remover duplicatas\n",
    "df_combinada = pd.concat([df_antiga, df_nova_final], ignore_index=True)\n",
    "df_combinada[\"spans_json\"] = df_combinada[\"spans\"].apply(lambda x: json.dumps(sorted(x, key=lambda s: (s[\"start\"], s[\"label\"]))))\n",
    "df_combinada = df_combinada.drop_duplicates(subset=[\"text\", \"spans_json\"]).drop(columns=[\"spans_json\"]).reset_index(drop=True)\n",
    "\n",
    "# === 7. Salvar base final combinada\n",
    "df_combinada.to_json(\"base_ner_completa_retreino2.jsonl\", orient=\"records\", lines=True, force_ascii=False)\n",
    "\n",
    "print(f\"✅ Base combinada salva com {len(df_combinada)} exemplos em 'base_ner_completa_retreino2.jsonl'\")\n"
   ]
  },
  {
   "cell_type": "code",
   "execution_count": null,
   "metadata": {},
   "outputs": [],
   "source": [
    "import pandas as pd\n",
    "\n",
    "# Carregar o JSONL\n",
    "df = pd.read_json(\"base_ner_completa_retreino2.jsonl\", lines=True)\n",
    "\n",
    "# Converter os spans para string para poder visualizar em CSV\n",
    "df[\"spans\"] = df[\"spans\"].apply(str)\n",
    "\n",
    "# Salvar como CSV\n",
    "df.to_csv(\"base_ner_completa_retreino2.csv\", index=False, encoding=\"utf-8-sig\",  sep=\";\")\n",
    "\n",
    "print(\"✅ Arquivo salvo como base_ner_completa_retreino2.csv\")"
   ]
  },
  {
   "cell_type": "code",
   "execution_count": null,
   "metadata": {},
   "outputs": [],
   "source": [
    "import pandas as pd\n",
    "import json\n",
    "from IPython.display import display, HTML\n",
    "\n",
    "# === 1. Carregar base anotada\n",
    "df = pd.read_json(\"base_ner_completa_retreino2.jsonl\", lines=True)\n",
    "\n",
    "# === 2. Função para destacar spans no texto\n",
    "def destacar_spans(texto, spans):\n",
    "    spans = sorted(spans, key=lambda x: x['start'])\n",
    "    saida = \"\"\n",
    "    ultimo_idx = 0\n",
    "    cores = {\n",
    "        \"HABILIDADE\": \"#d4f4dd\",\n",
    "        \"CONHECIMENTO\": \"#d0e7ff\",\n",
    "        \"ATITUDE_VALOR\": \"#fbe4e6\"\n",
    "    }\n",
    "    for span in spans:\n",
    "        saida += texto[ultimo_idx:span['start']]\n",
    "        cor = cores.get(span['label'], \"#eee\")\n",
    "        saida += f\"<span style='background-color:{cor}; padding:1px; border-radius:3px;'>{texto[span['start']:span['end']]}</span>\"\n",
    "        ultimo_idx = span['end']\n",
    "    saida += texto[ultimo_idx:]\n",
    "    return saida\n",
    "\n",
    "# === 3. Exibir 5 exemplos aleatórios com destaques\n",
    "amostra = df.sample(10, random_state=42)\n",
    "\n",
    "for i, row in amostra.iterrows():\n",
    "    texto_destacado = destacar_spans(row[\"text\"], row[\"spans\"])\n",
    "    display(HTML(f\"<h4>Exemplo {i+1}</h4><p>{texto_destacado}</p>\"))\n",
    "\n",
    "import json\n",
    "\n",
    "input_path = \"base_ner_completa_retreino2.jsonl\"\n",
    "output_path = \"base_filtrada_com_spans.jsonl\"\n",
    "\n",
    "with open(input_path, \"r\", encoding=\"utf-8\") as fin, open(output_path, \"w\", encoding=\"utf-8\") as fout:\n",
    "    for line in fin:\n",
    "        data = json.loads(line)\n",
    "        if \"spans\" in data and isinstance(data[\"spans\"], list) and len(data[\"spans\"]) > 0:\n",
    "            fout.write(json.dumps(data, ensure_ascii=False) + \"\\n\")\n",
    "\n",
    "print(f\"✅ Base salva com apenas exemplos com spans em: {output_path}\")\n"
   ]
  },
  {
   "cell_type": "code",
   "execution_count": null,
   "metadata": {},
   "outputs": [],
   "source": [
    "import openai\n",
    "import pandas as pd\n",
    "import re\n",
    "import json\n",
    "import time\n",
    "from tqdm import tqdm\n",
    "\n",
    "# === Prompt único ===\n",
    "prompt_geracao_completo = (\n",
    "    \"Você é um especialista em Recursos Humanos e Processamento de Linguagem Natural (NLP). \"\n",
    "    \"Sua tarefa é gerar descrições realistas de vagas de emprego, e em seguida, analisar o texto gerado para identificar as competências envolvidas.\\n\\n\"\n",
    "    \"Siga estes dois passos:\\n\"\n",
    "    \"1. Gere uma descrição curta e natural de vaga de emprego para qualquer profissão. \"\n",
    "    \"A descrição deve mencionar:\\n\"\n",
    "    \"- pelo menos uma habilidade prática,\\n\"\n",
    "    \"- um conhecimento técnico ou normativo,\\n\"\n",
    "    \"- e uma atitude ou valor esperado do candidato.\\n\\n\"\n",
    "    \"2. Logo após o texto da vaga, retorne as competências estruturadas no seguinte formato (sem explicações):\\n\"\n",
    "    \"Habilidades: [lista]\\n\"\n",
    "    \"Conhecimentos: [lista]\\n\"\n",
    "    \"Atitudes e Valores: [lista]\\n\\n\"\n",
    "    \"**Exemplo de saída esperada:**\\n\"\n",
    "    \"Descrição: Estamos em busca de um analista de TI com domínio em Python, boa comunicação e experiência em elaboração de dashboards. Espera-se postura ética e capacidade de trabalhar em equipe.\\n\"\n",
    "    \"Habilidades: ['elaboração de dashboards']\\n\"\n",
    "    \"Conhecimentos: ['Python']\\n\"\n",
    "    \"Atitudes e Valores: ['comunicação', 'postura ética', 'trabalho em equipe']\\n\\n\"\n",
    "    \"As competências extraídas das vagas devem ser IGUAIS ÀQUELAS NA DESCRIÇÃO, sem modificação de texto, como por exemplo 'detalhista' para 'detalhismo'. É preciso que sejam compatíveis\"\n",
    "    \"Agora gere o exemplo real abaixo. Comece pela palavra 'Descrição:' e siga o formato.\"\n",
    ")\n",
    "\n",
    "# === Geração com GPT\n",
    "def gerar_vaga_e_competencias():\n",
    "    try:\n",
    "        response = client.chat.completions.create(\n",
    "            model=\"gpt-4o\",\n",
    "            messages=[{\"role\": \"system\", \"content\": prompt_geracao_completo}],\n",
    "            temperature=0.9,\n",
    "            max_tokens=600\n",
    "        )\n",
    "        return response.choices[0].message.content.strip()\n",
    "    except Exception as e:\n",
    "        print(f\"Erro na geração: {e}\")\n",
    "        return None\n",
    "\n",
    "# === Função para parsear a resposta do GPT\n",
    "def limpar_lista(lista):\n",
    "    return [termo.strip(\" '\\\"\") for termo in lista if termo.strip()]\n",
    "\n",
    "def extrair_info(texto):\n",
    "    try:\n",
    "        partes = texto.split(\"\\n\")\n",
    "        descricao = \"\"\n",
    "        habilidades, conhecimentos, atitudes = [], [], []\n",
    "        for linha in partes:\n",
    "            if linha.lower().startswith(\"descrição\"):\n",
    "                descricao = linha.split(\":\", 1)[-1].strip()\n",
    "            elif linha.lower().startswith(\"habilidades\"):\n",
    "                habilidades = limpar_lista(linha.split(\":\", 1)[-1].strip(\" []\").split(\",\"))\n",
    "            elif linha.lower().startswith(\"conhecimentos\"):\n",
    "                conhecimentos = limpar_lista(linha.split(\":\", 1)[-1].strip(\" []\").split(\",\"))\n",
    "            elif \"atitudes\" in linha.lower():\n",
    "                atitudes = limpar_lista(linha.split(\":\", 1)[-1].strip(\" []\").split(\",\"))\n",
    "        return {\n",
    "            \"text\": descricao,\n",
    "            \"Habilidades\": habilidades,\n",
    "            \"Conhecimentos\": conhecimentos,\n",
    "            \"Atitudes_Valores\": atitudes\n",
    "        }\n",
    "    except Exception as e:\n",
    "        print(f\"Erro no parsing: {e}\")\n",
    "        return None\n",
    "\n",
    "\n",
    "# === Função para gerar spans\n",
    "def gerar_spans_regex(row):\n",
    "    spans = []\n",
    "    texto = row[\"text\"]\n",
    "    texto_lower = texto.lower()\n",
    "\n",
    "    for tipo, termos in {\n",
    "        \"HABILIDADE\": row[\"Habilidades\"],\n",
    "        \"CONHECIMENTO\": row[\"Conhecimentos\"],\n",
    "        \"ATITUDE_VALOR\": row[\"Atitudes_Valores\"]\n",
    "    }.items():\n",
    "        for termo in termos:\n",
    "            termo = termo.strip().lower()\n",
    "            if not termo:\n",
    "                continue\n",
    "            termo_re = re.escape(termo)\n",
    "            for match in re.finditer(rf'\\b{termo_re}\\b', texto_lower):\n",
    "                spans.append({\"start\": match.start(), \"end\": match.end(), \"label\": tipo})\n",
    "    return spans\n",
    "\n",
    "# === Geração em lote\n",
    "sintetica = []\n",
    "num_exemplos = 3000\n",
    "\n",
    "for _ in tqdm(range(num_exemplos)):\n",
    "    resposta = gerar_vaga_e_competencias()\n",
    "    if not resposta:\n",
    "        continue\n",
    "    dados = extrair_info(resposta)\n",
    "    if not dados:\n",
    "        continue\n",
    "    spans = gerar_spans_regex(dados)\n",
    "    if not spans:\n",
    "        continue\n",
    "    sintetica.append({\"text\": dados[\"text\"], \"spans\": spans})\n",
    "    time.sleep(1)\n",
    "\n",
    "# === Criar e salvar DataFrame\n",
    "df_sintetica = pd.DataFrame(sintetica)\n",
    "df_sintetica.to_json(\"base_ner_sintetica_gpt.jsonl\", orient=\"records\", lines=True, force_ascii=False)\n",
    "\n",
    "print(f\"✅ Base salva com {len(df_sintetica)} exemplos.\")"
   ]
  },
  {
   "cell_type": "code",
   "execution_count": null,
   "metadata": {},
   "outputs": [],
   "source": [
    "# === 8. Carregar base anterior (para juntar)\n",
    "df_antiga = pd.read_json(\"base_ner_completa_retreino.jsonl\", lines=True)\n",
    "df_completa = pd.concat([df_antiga, df_sintetica], ignore_index=True)\n",
    "\n",
    "# === 9. Remover duplicatas\n",
    "df_completa[\"spans_json\"] = df_completa[\"spans\"].apply(lambda x: json.dumps(sorted(x, key=lambda s: (s[\"start\"], s[\"label\"]))))\n",
    "df_completa = df_completa.drop_duplicates(subset=[\"text\", \"spans_json\"]).drop(columns=[\"spans_json\"]).reset_index(drop=True)\n",
    "\n",
    "# === 10. Salvar como JSONL\n",
    "df_completa.to_json(\"base_ner_completa_retreino_sintetica.jsonl\", orient=\"records\", lines=True, force_ascii=False)\n",
    "\n",
    "print(f\"✅ Base final salva com {len(df_completa)} exemplos.\")"
   ]
  }
 ],
 "metadata": {
  "kernelspec": {
   "display_name": ".venv",
   "language": "python",
   "name": "python3"
  },
  "language_info": {
   "codemirror_mode": {
    "name": "ipython",
    "version": 3
   },
   "file_extension": ".py",
   "mimetype": "text/x-python",
   "name": "python",
   "nbconvert_exporter": "python",
   "pygments_lexer": "ipython3",
   "version": "3.10.11"
  }
 },
 "nbformat": 4,
 "nbformat_minor": 2
}
